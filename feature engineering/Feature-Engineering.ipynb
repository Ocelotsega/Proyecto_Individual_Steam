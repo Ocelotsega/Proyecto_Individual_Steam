{
 "cells": [
  {
   "cell_type": "markdown",
   "metadata": {},
   "source": [
    "---\n",
    "# Feature Engineering"
   ]
  },
  {
   "cell_type": "code",
   "execution_count": 1,
   "metadata": {},
   "outputs": [
    {
     "name": "stderr",
     "output_type": "stream",
     "text": [
      "[nltk_data] Downloading package vader_lexicon to\n",
      "[nltk_data]     C:\\Users\\1\\AppData\\Roaming\\nltk_data...\n",
      "[nltk_data]   Package vader_lexicon is already up-to-date!\n"
     ]
    },
    {
     "data": {
      "text/plain": [
       "True"
      ]
     },
     "execution_count": 1,
     "metadata": {},
     "output_type": "execute_result"
    }
   ],
   "source": [
    "import pandas as pd\n",
    "import pyarrow as pa\n",
    "import pyarrow.parquet as pq\n",
    "import ast\n",
    "import numpy as np \n",
    "from nltk.sentiment import SentimentIntensityAnalyzer\n",
    "import nltk\n",
    "nltk.download('vader_lexicon')"
   ]
  },
  {
   "cell_type": "code",
   "execution_count": 2,
   "metadata": {},
   "outputs": [],
   "source": [
    "archivo1=\"../DataSets/steam_games.parquet\"\n",
    "df= pd.read_parquet(archivo1)"
   ]
  },
  {
   "cell_type": "code",
   "execution_count": 3,
   "metadata": {},
   "outputs": [],
   "source": [
    "archivo2=\"../DataSets/user_review.parquet\"\n",
    "df2= pd.read_parquet(archivo2)"
   ]
  },
  {
   "cell_type": "code",
   "execution_count": 4,
   "metadata": {},
   "outputs": [],
   "source": [
    "archivo3=\"../DataSets/user_items.parquet\"\n",
    "df3= pd.read_parquet(archivo3)"
   ]
  },
  {
   "cell_type": "markdown",
   "metadata": {},
   "source": [
    "## Iniciamos con el analisis de sentimientos"
   ]
  },
  {
   "cell_type": "code",
   "execution_count": 6,
   "metadata": {},
   "outputs": [],
   "source": [
    "#Cargamos unas funciones para ayudarnos\n",
    "def analizar_sentimiento(review):\n",
    "    \"\"\"\n",
    "    Analiza el sentimiento de una reseña.\n",
    "\n",
    "    Args:\n",
    "        review (str): Texto de la reseña.\n",
    "\n",
    "    Returns:\n",
    "        int: Código de sentimiento (0: Negativo, 1: Neutral, 2: Positivo).\n",
    "    \"\"\"\n",
    "    if not review:\n",
    "        return 1  # Neutral\n",
    "\n",
    "    analyzer = SentimentIntensityAnalyzer()\n",
    "    compound_score = analyzer.polarity_scores(review)['compound']\n",
    "\n",
    "    if compound_score > 0.1:\n",
    "        return 2  # Positivo\n",
    "    elif compound_score < -0.1:\n",
    "        return 0  # Negativo\n",
    "    else:\n",
    "        return 1  # Neutral"
   ]
  },
  {
   "cell_type": "code",
   "execution_count": null,
   "metadata": {},
   "outputs": [],
   "source": [
    "df2 [\"sentiment_analisis\"]= df2[\"review\"].astype(str).apply(analizar_sentimiento)\n",
    "df2.head(5)"
   ]
  },
  {
   "cell_type": "markdown",
   "metadata": {},
   "source": [
    "Buscamos una reseña para testear nuestro analisis"
   ]
  },
  {
   "cell_type": "code",
   "execution_count": 111,
   "metadata": {},
   "outputs": [
    {
     "data": {
      "text/plain": [
       "'It was a great game from what I played, right now I need to find the actual download.'"
      ]
     },
     "execution_count": 111,
     "metadata": {},
     "output_type": "execute_result"
    }
   ],
   "source": [
    "df2[\"review\"][15]"
   ]
  },
  {
   "cell_type": "code",
   "execution_count": 112,
   "metadata": {},
   "outputs": [
    {
     "data": {
      "text/plain": [
       "2"
      ]
     },
     "execution_count": 112,
     "metadata": {},
     "output_type": "execute_result"
    }
   ],
   "source": [
    "df2[\"sentiment_analisis\"][15]"
   ]
  },
  {
   "cell_type": "markdown",
   "metadata": {},
   "source": [
    "Buscamos otra para enriquecer las pruebas "
   ]
  },
  {
   "cell_type": "code",
   "execution_count": 113,
   "metadata": {},
   "outputs": [
    {
     "data": {
      "text/plain": [
       "\"I just can't stop playing it that good <:\""
      ]
     },
     "execution_count": 113,
     "metadata": {},
     "output_type": "execute_result"
    }
   ],
   "source": [
    "df2[\"review\"][90]"
   ]
  },
  {
   "cell_type": "code",
   "execution_count": 114,
   "metadata": {},
   "outputs": [
    {
     "data": {
      "text/plain": [
       "2"
      ]
     },
     "execution_count": 114,
     "metadata": {},
     "output_type": "execute_result"
    }
   ],
   "source": [
    "df2[\"sentiment_analisis\"][90]"
   ]
  },
  {
   "cell_type": "code",
   "execution_count": 115,
   "metadata": {},
   "outputs": [],
   "source": [
    "df2.drop(columns=\"review\", inplace=True)"
   ]
  },
  {
   "cell_type": "code",
   "execution_count": 116,
   "metadata": {},
   "outputs": [],
   "source": [
    "df2.to_parquet(\"../DataSets/Sentiment_Analisis.parquet\")"
   ]
  },
  {
   "cell_type": "markdown",
   "metadata": {},
   "source": [
    "## Desarrollo de la API, funciones y endpoints"
   ]
  },
  {
   "cell_type": "markdown",
   "metadata": {},
   "source": [
    "Empezamos a crear nuestros datasets para la API"
   ]
  },
  {
   "cell_type": "code",
   "execution_count": 5,
   "metadata": {},
   "outputs": [],
   "source": [
    "games=pd.read_parquet(\"../DataSets/steam_games.parquet\")\n",
    "sentiment_analisis=pd.read_parquet(\"../DatosML/sentiment_analisis_limpio.parquet\")\n",
    "user_item=pd.read_parquet(\"../DataSets/user_items.parquet\")"
   ]
  },
  {
   "cell_type": "code",
   "execution_count": 6,
   "metadata": {},
   "outputs": [
    {
     "data": {
      "text/html": [
       "<div>\n",
       "<style scoped>\n",
       "    .dataframe tbody tr th:only-of-type {\n",
       "        vertical-align: middle;\n",
       "    }\n",
       "\n",
       "    .dataframe tbody tr th {\n",
       "        vertical-align: top;\n",
       "    }\n",
       "\n",
       "    .dataframe thead th {\n",
       "        text-align: right;\n",
       "    }\n",
       "</style>\n",
       "<table border=\"1\" class=\"dataframe\">\n",
       "  <thead>\n",
       "    <tr style=\"text-align: right;\">\n",
       "      <th></th>\n",
       "      <th>publisher</th>\n",
       "      <th>genres</th>\n",
       "      <th>title</th>\n",
       "      <th>release_date</th>\n",
       "      <th>tags</th>\n",
       "      <th>specs</th>\n",
       "      <th>price</th>\n",
       "      <th>early_access</th>\n",
       "      <th>id</th>\n",
       "      <th>developer</th>\n",
       "    </tr>\n",
       "  </thead>\n",
       "  <tbody>\n",
       "    <tr>\n",
       "      <th>0</th>\n",
       "      <td>Kotoshiro</td>\n",
       "      <td>Action</td>\n",
       "      <td>Lost Summoner Kitty</td>\n",
       "      <td>2018</td>\n",
       "      <td>['Strategy', 'Action', 'Indie', 'Casual', 'Sim...</td>\n",
       "      <td>['Single-player']</td>\n",
       "      <td>4.99</td>\n",
       "      <td>False</td>\n",
       "      <td>761140</td>\n",
       "      <td>Kotoshiro</td>\n",
       "    </tr>\n",
       "    <tr>\n",
       "      <th>1</th>\n",
       "      <td>Kotoshiro</td>\n",
       "      <td>Casual</td>\n",
       "      <td>Lost Summoner Kitty</td>\n",
       "      <td>2018</td>\n",
       "      <td>['Strategy', 'Action', 'Indie', 'Casual', 'Sim...</td>\n",
       "      <td>['Single-player']</td>\n",
       "      <td>4.99</td>\n",
       "      <td>False</td>\n",
       "      <td>761140</td>\n",
       "      <td>Kotoshiro</td>\n",
       "    </tr>\n",
       "  </tbody>\n",
       "</table>\n",
       "</div>"
      ],
      "text/plain": [
       "   publisher  genres                title  release_date  \\\n",
       "0  Kotoshiro  Action  Lost Summoner Kitty          2018   \n",
       "1  Kotoshiro  Casual  Lost Summoner Kitty          2018   \n",
       "\n",
       "                                                tags              specs  \\\n",
       "0  ['Strategy', 'Action', 'Indie', 'Casual', 'Sim...  ['Single-player']   \n",
       "1  ['Strategy', 'Action', 'Indie', 'Casual', 'Sim...  ['Single-player']   \n",
       "\n",
       "   price  early_access      id  developer  \n",
       "0   4.99         False  761140  Kotoshiro  \n",
       "1   4.99         False  761140  Kotoshiro  "
      ]
     },
     "execution_count": 6,
     "metadata": {},
     "output_type": "execute_result"
    }
   ],
   "source": [
    "games.head(2)"
   ]
  },
  {
   "cell_type": "code",
   "execution_count": 7,
   "metadata": {},
   "outputs": [
    {
     "data": {
      "text/html": [
       "<div>\n",
       "<style scoped>\n",
       "    .dataframe tbody tr th:only-of-type {\n",
       "        vertical-align: middle;\n",
       "    }\n",
       "\n",
       "    .dataframe tbody tr th {\n",
       "        vertical-align: top;\n",
       "    }\n",
       "\n",
       "    .dataframe thead th {\n",
       "        text-align: right;\n",
       "    }\n",
       "</style>\n",
       "<table border=\"1\" class=\"dataframe\">\n",
       "  <thead>\n",
       "    <tr style=\"text-align: right;\">\n",
       "      <th></th>\n",
       "      <th>user_id</th>\n",
       "      <th>posted</th>\n",
       "      <th>item_id</th>\n",
       "      <th>helpful</th>\n",
       "      <th>recommend</th>\n",
       "      <th>sentiment_analisis</th>\n",
       "    </tr>\n",
       "  </thead>\n",
       "  <tbody>\n",
       "    <tr>\n",
       "      <th>0</th>\n",
       "      <td>76561197970982479</td>\n",
       "      <td>2011</td>\n",
       "      <td>1250</td>\n",
       "      <td>No ratings yet</td>\n",
       "      <td>True</td>\n",
       "      <td>2</td>\n",
       "    </tr>\n",
       "    <tr>\n",
       "      <th>1</th>\n",
       "      <td>76561197970982479</td>\n",
       "      <td>2011</td>\n",
       "      <td>22200</td>\n",
       "      <td>No ratings yet</td>\n",
       "      <td>True</td>\n",
       "      <td>2</td>\n",
       "    </tr>\n",
       "  </tbody>\n",
       "</table>\n",
       "</div>"
      ],
      "text/plain": [
       "             user_id  posted  item_id         helpful  recommend  \\\n",
       "0  76561197970982479    2011     1250  No ratings yet       True   \n",
       "1  76561197970982479    2011    22200  No ratings yet       True   \n",
       "\n",
       "   sentiment_analisis  \n",
       "0                   2  \n",
       "1                   2  "
      ]
     },
     "execution_count": 7,
     "metadata": {},
     "output_type": "execute_result"
    }
   ],
   "source": [
    "sentiment_analisis.head(2)"
   ]
  },
  {
   "cell_type": "code",
   "execution_count": 8,
   "metadata": {},
   "outputs": [
    {
     "data": {
      "text/html": [
       "<div>\n",
       "<style scoped>\n",
       "    .dataframe tbody tr th:only-of-type {\n",
       "        vertical-align: middle;\n",
       "    }\n",
       "\n",
       "    .dataframe tbody tr th {\n",
       "        vertical-align: top;\n",
       "    }\n",
       "\n",
       "    .dataframe thead th {\n",
       "        text-align: right;\n",
       "    }\n",
       "</style>\n",
       "<table border=\"1\" class=\"dataframe\">\n",
       "  <thead>\n",
       "    <tr style=\"text-align: right;\">\n",
       "      <th></th>\n",
       "      <th>item_id</th>\n",
       "      <th>item_name</th>\n",
       "      <th>playtime_forever</th>\n",
       "      <th>playtime_2weeks</th>\n",
       "      <th>steam_id</th>\n",
       "      <th>items_count</th>\n",
       "      <th>user_id</th>\n",
       "    </tr>\n",
       "  </thead>\n",
       "  <tbody>\n",
       "    <tr>\n",
       "      <th>0</th>\n",
       "      <td>10</td>\n",
       "      <td>Counter-Strike</td>\n",
       "      <td>6</td>\n",
       "      <td>0</td>\n",
       "      <td>76561197970982479</td>\n",
       "      <td>277</td>\n",
       "      <td>76561197970982479</td>\n",
       "    </tr>\n",
       "    <tr>\n",
       "      <th>1</th>\n",
       "      <td>20</td>\n",
       "      <td>Team Fortress Classic</td>\n",
       "      <td>0</td>\n",
       "      <td>0</td>\n",
       "      <td>76561197970982479</td>\n",
       "      <td>277</td>\n",
       "      <td>76561197970982479</td>\n",
       "    </tr>\n",
       "  </tbody>\n",
       "</table>\n",
       "</div>"
      ],
      "text/plain": [
       "   item_id              item_name  playtime_forever  playtime_2weeks  \\\n",
       "0       10         Counter-Strike                 6                0   \n",
       "1       20  Team Fortress Classic                 0                0   \n",
       "\n",
       "            steam_id  items_count            user_id  \n",
       "0  76561197970982479          277  76561197970982479  \n",
       "1  76561197970982479          277  76561197970982479  "
      ]
     },
     "execution_count": 8,
     "metadata": {},
     "output_type": "execute_result"
    }
   ],
   "source": [
    "user_item.head(2)"
   ]
  },
  {
   "cell_type": "code",
   "execution_count": 9,
   "metadata": {},
   "outputs": [
    {
     "data": {
      "text/html": [
       "<div>\n",
       "<style scoped>\n",
       "    .dataframe tbody tr th:only-of-type {\n",
       "        vertical-align: middle;\n",
       "    }\n",
       "\n",
       "    .dataframe tbody tr th {\n",
       "        vertical-align: top;\n",
       "    }\n",
       "\n",
       "    .dataframe thead th {\n",
       "        text-align: right;\n",
       "    }\n",
       "</style>\n",
       "<table border=\"1\" class=\"dataframe\">\n",
       "  <thead>\n",
       "    <tr style=\"text-align: right;\">\n",
       "      <th></th>\n",
       "      <th>genres</th>\n",
       "      <th>item_id</th>\n",
       "    </tr>\n",
       "  </thead>\n",
       "  <tbody>\n",
       "    <tr>\n",
       "      <th>0</th>\n",
       "      <td>Action</td>\n",
       "      <td>761140</td>\n",
       "    </tr>\n",
       "    <tr>\n",
       "      <th>1</th>\n",
       "      <td>Casual</td>\n",
       "      <td>761140</td>\n",
       "    </tr>\n",
       "    <tr>\n",
       "      <th>2</th>\n",
       "      <td>Indie</td>\n",
       "      <td>761140</td>\n",
       "    </tr>\n",
       "    <tr>\n",
       "      <th>3</th>\n",
       "      <td>Simulation</td>\n",
       "      <td>761140</td>\n",
       "    </tr>\n",
       "    <tr>\n",
       "      <th>4</th>\n",
       "      <td>Strategy</td>\n",
       "      <td>761140</td>\n",
       "    </tr>\n",
       "    <tr>\n",
       "      <th>...</th>\n",
       "      <td>...</td>\n",
       "      <td>...</td>\n",
       "    </tr>\n",
       "    <tr>\n",
       "      <th>67479</th>\n",
       "      <td>Indie</td>\n",
       "      <td>610660</td>\n",
       "    </tr>\n",
       "    <tr>\n",
       "      <th>67480</th>\n",
       "      <td>Racing</td>\n",
       "      <td>610660</td>\n",
       "    </tr>\n",
       "    <tr>\n",
       "      <th>67481</th>\n",
       "      <td>Simulation</td>\n",
       "      <td>610660</td>\n",
       "    </tr>\n",
       "    <tr>\n",
       "      <th>67482</th>\n",
       "      <td>Casual</td>\n",
       "      <td>658870</td>\n",
       "    </tr>\n",
       "    <tr>\n",
       "      <th>67483</th>\n",
       "      <td>Indie</td>\n",
       "      <td>658870</td>\n",
       "    </tr>\n",
       "  </tbody>\n",
       "</table>\n",
       "<p>67484 rows × 2 columns</p>\n",
       "</div>"
      ],
      "text/plain": [
       "           genres  item_id\n",
       "0          Action   761140\n",
       "1          Casual   761140\n",
       "2           Indie   761140\n",
       "3      Simulation   761140\n",
       "4        Strategy   761140\n",
       "...           ...      ...\n",
       "67479       Indie   610660\n",
       "67480      Racing   610660\n",
       "67481  Simulation   610660\n",
       "67482      Casual   658870\n",
       "67483       Indie   658870\n",
       "\n",
       "[67484 rows x 2 columns]"
      ]
     },
     "execution_count": 9,
     "metadata": {},
     "output_type": "execute_result"
    }
   ],
   "source": [
    "#Se extraen las columnas para generar un nuevo dataframe y correr la función\n",
    "genre= games[[\"genres\",\"id\"]]\n",
    "#Cambiamos \"id\" a \"item_id\" para poder utilizar el merge\n",
    "genre= genre.rename(columns={\"id\":\"item_id\"})\n",
    "genre"
   ]
  },
  {
   "cell_type": "code",
   "execution_count": 10,
   "metadata": {},
   "outputs": [
    {
     "data": {
      "text/html": [
       "<div>\n",
       "<style scoped>\n",
       "    .dataframe tbody tr th:only-of-type {\n",
       "        vertical-align: middle;\n",
       "    }\n",
       "\n",
       "    .dataframe tbody tr th {\n",
       "        vertical-align: top;\n",
       "    }\n",
       "\n",
       "    .dataframe thead th {\n",
       "        text-align: right;\n",
       "    }\n",
       "</style>\n",
       "<table border=\"1\" class=\"dataframe\">\n",
       "  <thead>\n",
       "    <tr style=\"text-align: right;\">\n",
       "      <th></th>\n",
       "      <th>user_id</th>\n",
       "      <th>item_id</th>\n",
       "      <th>playtime_forever</th>\n",
       "    </tr>\n",
       "  </thead>\n",
       "  <tbody>\n",
       "    <tr>\n",
       "      <th>0</th>\n",
       "      <td>76561197970982479</td>\n",
       "      <td>10</td>\n",
       "      <td>6</td>\n",
       "    </tr>\n",
       "    <tr>\n",
       "      <th>1</th>\n",
       "      <td>76561197970982479</td>\n",
       "      <td>20</td>\n",
       "      <td>0</td>\n",
       "    </tr>\n",
       "    <tr>\n",
       "      <th>2</th>\n",
       "      <td>76561197970982479</td>\n",
       "      <td>30</td>\n",
       "      <td>7</td>\n",
       "    </tr>\n",
       "    <tr>\n",
       "      <th>3</th>\n",
       "      <td>76561197970982479</td>\n",
       "      <td>40</td>\n",
       "      <td>0</td>\n",
       "    </tr>\n",
       "    <tr>\n",
       "      <th>4</th>\n",
       "      <td>76561197970982479</td>\n",
       "      <td>50</td>\n",
       "      <td>0</td>\n",
       "    </tr>\n",
       "    <tr>\n",
       "      <th>...</th>\n",
       "      <td>...</td>\n",
       "      <td>...</td>\n",
       "      <td>...</td>\n",
       "    </tr>\n",
       "    <tr>\n",
       "      <th>5094100</th>\n",
       "      <td>76561198329548331</td>\n",
       "      <td>346330</td>\n",
       "      <td>0</td>\n",
       "    </tr>\n",
       "    <tr>\n",
       "      <th>5094101</th>\n",
       "      <td>76561198329548331</td>\n",
       "      <td>373330</td>\n",
       "      <td>0</td>\n",
       "    </tr>\n",
       "    <tr>\n",
       "      <th>5094102</th>\n",
       "      <td>76561198329548331</td>\n",
       "      <td>388490</td>\n",
       "      <td>3</td>\n",
       "    </tr>\n",
       "    <tr>\n",
       "      <th>5094103</th>\n",
       "      <td>76561198329548331</td>\n",
       "      <td>521570</td>\n",
       "      <td>4</td>\n",
       "    </tr>\n",
       "    <tr>\n",
       "      <th>5094104</th>\n",
       "      <td>76561198329548331</td>\n",
       "      <td>519140</td>\n",
       "      <td>3</td>\n",
       "    </tr>\n",
       "  </tbody>\n",
       "</table>\n",
       "<p>5094105 rows × 3 columns</p>\n",
       "</div>"
      ],
      "text/plain": [
       "                   user_id  item_id  playtime_forever\n",
       "0        76561197970982479       10                 6\n",
       "1        76561197970982479       20                 0\n",
       "2        76561197970982479       30                 7\n",
       "3        76561197970982479       40                 0\n",
       "4        76561197970982479       50                 0\n",
       "...                    ...      ...               ...\n",
       "5094100  76561198329548331   346330                 0\n",
       "5094101  76561198329548331   373330                 0\n",
       "5094102  76561198329548331   388490                 3\n",
       "5094103  76561198329548331   521570                 4\n",
       "5094104  76561198329548331   519140                 3\n",
       "\n",
       "[5094105 rows x 3 columns]"
      ]
     },
     "execution_count": 10,
     "metadata": {},
     "output_type": "execute_result"
    }
   ],
   "source": [
    "play_time= user_item[[\"user_id\",\"item_id\",\"playtime_forever\"]]\n",
    "play_time"
   ]
  },
  {
   "cell_type": "code",
   "execution_count": 11,
   "metadata": {},
   "outputs": [],
   "source": [
    "developer_opinion=pd.read_parquet(\"../Funciones/developer_opinion.parquet\")"
   ]
  },
  {
   "cell_type": "code",
   "execution_count": 15,
   "metadata": {},
   "outputs": [
    {
     "data": {
      "text/html": [
       "<div>\n",
       "<style scoped>\n",
       "    .dataframe tbody tr th:only-of-type {\n",
       "        vertical-align: middle;\n",
       "    }\n",
       "\n",
       "    .dataframe tbody tr th {\n",
       "        vertical-align: top;\n",
       "    }\n",
       "\n",
       "    .dataframe thead th {\n",
       "        text-align: right;\n",
       "    }\n",
       "</style>\n",
       "<table border=\"1\" class=\"dataframe\">\n",
       "  <thead>\n",
       "    <tr style=\"text-align: right;\">\n",
       "      <th></th>\n",
       "      <th>item_id</th>\n",
       "      <th>sentiment_analisis</th>\n",
       "      <th>user_id</th>\n",
       "      <th>recommend</th>\n",
       "      <th>title</th>\n",
       "      <th>item_name</th>\n",
       "      <th>playtime_forever</th>\n",
       "    </tr>\n",
       "  </thead>\n",
       "  <tbody>\n",
       "    <tr>\n",
       "      <th>0</th>\n",
       "      <td>1250</td>\n",
       "      <td>2</td>\n",
       "      <td>76561197970982479</td>\n",
       "      <td>1</td>\n",
       "      <td>Killing Floor</td>\n",
       "      <td>Counter-Strike</td>\n",
       "      <td>6</td>\n",
       "    </tr>\n",
       "    <tr>\n",
       "      <th>1</th>\n",
       "      <td>1250</td>\n",
       "      <td>2</td>\n",
       "      <td>76561197970982479</td>\n",
       "      <td>1</td>\n",
       "      <td>Killing Floor</td>\n",
       "      <td>Team Fortress Classic</td>\n",
       "      <td>0</td>\n",
       "    </tr>\n",
       "    <tr>\n",
       "      <th>2</th>\n",
       "      <td>1250</td>\n",
       "      <td>2</td>\n",
       "      <td>76561197970982479</td>\n",
       "      <td>1</td>\n",
       "      <td>Killing Floor</td>\n",
       "      <td>Day of Defeat</td>\n",
       "      <td>7</td>\n",
       "    </tr>\n",
       "    <tr>\n",
       "      <th>3</th>\n",
       "      <td>1250</td>\n",
       "      <td>2</td>\n",
       "      <td>76561197970982479</td>\n",
       "      <td>1</td>\n",
       "      <td>Killing Floor</td>\n",
       "      <td>Deathmatch Classic</td>\n",
       "      <td>0</td>\n",
       "    </tr>\n",
       "    <tr>\n",
       "      <th>4</th>\n",
       "      <td>1250</td>\n",
       "      <td>2</td>\n",
       "      <td>76561197970982479</td>\n",
       "      <td>1</td>\n",
       "      <td>Killing Floor</td>\n",
       "      <td>Half-Life: Opposing Force</td>\n",
       "      <td>0</td>\n",
       "    </tr>\n",
       "    <tr>\n",
       "      <th>...</th>\n",
       "      <td>...</td>\n",
       "      <td>...</td>\n",
       "      <td>...</td>\n",
       "      <td>...</td>\n",
       "      <td>...</td>\n",
       "      <td>...</td>\n",
       "      <td>...</td>\n",
       "    </tr>\n",
       "    <tr>\n",
       "      <th>15656410</th>\n",
       "      <td>209120</td>\n",
       "      <td>2</td>\n",
       "      <td>pigeonie</td>\n",
       "      <td>1</td>\n",
       "      <td>Street Fighter X Tekken</td>\n",
       "      <td>Hatoful Boyfriend</td>\n",
       "      <td>319</td>\n",
       "    </tr>\n",
       "    <tr>\n",
       "      <th>15656411</th>\n",
       "      <td>209120</td>\n",
       "      <td>2</td>\n",
       "      <td>pigeonie</td>\n",
       "      <td>1</td>\n",
       "      <td>Street Fighter X Tekken</td>\n",
       "      <td>The Expendabros</td>\n",
       "      <td>6</td>\n",
       "    </tr>\n",
       "    <tr>\n",
       "      <th>15656412</th>\n",
       "      <td>209120</td>\n",
       "      <td>2</td>\n",
       "      <td>pigeonie</td>\n",
       "      <td>1</td>\n",
       "      <td>Street Fighter X Tekken</td>\n",
       "      <td>Five Nights at Freddy's</td>\n",
       "      <td>0</td>\n",
       "    </tr>\n",
       "    <tr>\n",
       "      <th>15656413</th>\n",
       "      <td>209120</td>\n",
       "      <td>2</td>\n",
       "      <td>pigeonie</td>\n",
       "      <td>1</td>\n",
       "      <td>Street Fighter X Tekken</td>\n",
       "      <td>Fuse</td>\n",
       "      <td>4</td>\n",
       "    </tr>\n",
       "    <tr>\n",
       "      <th>15656414</th>\n",
       "      <td>209120</td>\n",
       "      <td>2</td>\n",
       "      <td>pigeonie</td>\n",
       "      <td>1</td>\n",
       "      <td>Street Fighter X Tekken</td>\n",
       "      <td>Undertale</td>\n",
       "      <td>367</td>\n",
       "    </tr>\n",
       "  </tbody>\n",
       "</table>\n",
       "<p>15656415 rows × 7 columns</p>\n",
       "</div>"
      ],
      "text/plain": [
       "          item_id  sentiment_analisis            user_id  recommend  \\\n",
       "0            1250                   2  76561197970982479          1   \n",
       "1            1250                   2  76561197970982479          1   \n",
       "2            1250                   2  76561197970982479          1   \n",
       "3            1250                   2  76561197970982479          1   \n",
       "4            1250                   2  76561197970982479          1   \n",
       "...           ...                 ...                ...        ...   \n",
       "15656410   209120                   2           pigeonie          1   \n",
       "15656411   209120                   2           pigeonie          1   \n",
       "15656412   209120                   2           pigeonie          1   \n",
       "15656413   209120                   2           pigeonie          1   \n",
       "15656414   209120                   2           pigeonie          1   \n",
       "\n",
       "                            title                  item_name  playtime_forever  \n",
       "0                   Killing Floor             Counter-Strike                 6  \n",
       "1                   Killing Floor      Team Fortress Classic                 0  \n",
       "2                   Killing Floor              Day of Defeat                 7  \n",
       "3                   Killing Floor         Deathmatch Classic                 0  \n",
       "4                   Killing Floor  Half-Life: Opposing Force                 0  \n",
       "...                           ...                        ...               ...  \n",
       "15656410  Street Fighter X Tekken          Hatoful Boyfriend               319  \n",
       "15656411  Street Fighter X Tekken            The Expendabros                 6  \n",
       "15656412  Street Fighter X Tekken    Five Nights at Freddy's                 0  \n",
       "15656413  Street Fighter X Tekken                       Fuse                 4  \n",
       "15656414  Street Fighter X Tekken                  Undertale               367  \n",
       "\n",
       "[15656415 rows x 7 columns]"
      ]
     },
     "execution_count": 15,
     "metadata": {},
     "output_type": "execute_result"
    }
   ],
   "source": [
    "playtime = pd.merge(developer_opinion[['item_id','sentiment_analisis','user_id','recommend', 'title']], user_item[[\"item_name\",'playtime_forever', 'user_id']], left_on='user_id', right_on='user_id')\n",
    "playtime"
   ]
  },
  {
   "cell_type": "code",
   "execution_count": 16,
   "metadata": {},
   "outputs": [],
   "source": [
    "#Exportamos nuestro archivo a parquet\n",
    "playtime.to_parquet(\"../Funciones/playtime.parquet\")"
   ]
  },
  {
   "cell_type": "markdown",
   "metadata": {},
   "source": [
    "Armamos nuestros archivos para las funciones, con el objetivo de mejorar el rendimiento de nuestra api"
   ]
  },
  {
   "cell_type": "code",
   "execution_count": 17,
   "metadata": {},
   "outputs": [],
   "source": [
    "genre= play_time.merge(genre, on=\"item_id\")\n",
    "genre.to_parquet(\"../Funciones/genre_play.parquet\")"
   ]
  },
  {
   "cell_type": "markdown",
   "metadata": {},
   "source": [
    "Armamos nuestro otro archivo"
   ]
  },
  {
   "cell_type": "code",
   "execution_count": 18,
   "metadata": {},
   "outputs": [
    {
     "data": {
      "text/html": [
       "<div>\n",
       "<style scoped>\n",
       "    .dataframe tbody tr th:only-of-type {\n",
       "        vertical-align: middle;\n",
       "    }\n",
       "\n",
       "    .dataframe tbody tr th {\n",
       "        vertical-align: top;\n",
       "    }\n",
       "\n",
       "    .dataframe thead th {\n",
       "        text-align: right;\n",
       "    }\n",
       "</style>\n",
       "<table border=\"1\" class=\"dataframe\">\n",
       "  <thead>\n",
       "    <tr style=\"text-align: right;\">\n",
       "      <th></th>\n",
       "      <th>item_id</th>\n",
       "      <th>sentiment_analisis</th>\n",
       "      <th>user_id</th>\n",
       "      <th>recommend</th>\n",
       "      <th>title</th>\n",
       "      <th>release_date</th>\n",
       "      <th>id</th>\n",
       "      <th>developer</th>\n",
       "      <th>Positivo</th>\n",
       "    </tr>\n",
       "  </thead>\n",
       "  <tbody>\n",
       "    <tr>\n",
       "      <th>0</th>\n",
       "      <td>1250</td>\n",
       "      <td>2</td>\n",
       "      <td>76561197970982479</td>\n",
       "      <td>1</td>\n",
       "      <td>Killing Floor</td>\n",
       "      <td>2009</td>\n",
       "      <td>1250</td>\n",
       "      <td>Tripwire Interactive</td>\n",
       "      <td>1</td>\n",
       "    </tr>\n",
       "    <tr>\n",
       "      <th>1</th>\n",
       "      <td>1250</td>\n",
       "      <td>2</td>\n",
       "      <td>death-hunter</td>\n",
       "      <td>1</td>\n",
       "      <td>Killing Floor</td>\n",
       "      <td>2009</td>\n",
       "      <td>1250</td>\n",
       "      <td>Tripwire Interactive</td>\n",
       "      <td>1</td>\n",
       "    </tr>\n",
       "    <tr>\n",
       "      <th>2</th>\n",
       "      <td>1250</td>\n",
       "      <td>0</td>\n",
       "      <td>DJKamBer</td>\n",
       "      <td>1</td>\n",
       "      <td>Killing Floor</td>\n",
       "      <td>2009</td>\n",
       "      <td>1250</td>\n",
       "      <td>Tripwire Interactive</td>\n",
       "      <td>0</td>\n",
       "    </tr>\n",
       "    <tr>\n",
       "      <th>3</th>\n",
       "      <td>1250</td>\n",
       "      <td>1</td>\n",
       "      <td>diego9031</td>\n",
       "      <td>1</td>\n",
       "      <td>Killing Floor</td>\n",
       "      <td>2009</td>\n",
       "      <td>1250</td>\n",
       "      <td>Tripwire Interactive</td>\n",
       "      <td>0</td>\n",
       "    </tr>\n",
       "    <tr>\n",
       "      <th>4</th>\n",
       "      <td>1250</td>\n",
       "      <td>1</td>\n",
       "      <td>76561198081962345</td>\n",
       "      <td>1</td>\n",
       "      <td>Killing Floor</td>\n",
       "      <td>2009</td>\n",
       "      <td>1250</td>\n",
       "      <td>Tripwire Interactive</td>\n",
       "      <td>0</td>\n",
       "    </tr>\n",
       "    <tr>\n",
       "      <th>...</th>\n",
       "      <td>...</td>\n",
       "      <td>...</td>\n",
       "      <td>...</td>\n",
       "      <td>...</td>\n",
       "      <td>...</td>\n",
       "      <td>...</td>\n",
       "      <td>...</td>\n",
       "      <td>...</td>\n",
       "      <td>...</td>\n",
       "    </tr>\n",
       "    <tr>\n",
       "      <th>124004</th>\n",
       "      <td>262850</td>\n",
       "      <td>1</td>\n",
       "      <td>wayfeng</td>\n",
       "      <td>1</td>\n",
       "      <td>The Journey Down: Chapter Two</td>\n",
       "      <td>2014</td>\n",
       "      <td>262850</td>\n",
       "      <td>SkyGoblin</td>\n",
       "      <td>0</td>\n",
       "    </tr>\n",
       "    <tr>\n",
       "      <th>124005</th>\n",
       "      <td>431510</td>\n",
       "      <td>2</td>\n",
       "      <td>76561198254993106</td>\n",
       "      <td>1</td>\n",
       "      <td>Mystic Destinies: Serendipity of Aeons</td>\n",
       "      <td>2016</td>\n",
       "      <td>431510</td>\n",
       "      <td>Aeon Dream Studios</td>\n",
       "      <td>1</td>\n",
       "    </tr>\n",
       "    <tr>\n",
       "      <th>124006</th>\n",
       "      <td>431510</td>\n",
       "      <td>2</td>\n",
       "      <td>76561198254993106</td>\n",
       "      <td>1</td>\n",
       "      <td>Mystic Destinies: Serendipity of Aeons</td>\n",
       "      <td>2016</td>\n",
       "      <td>431510</td>\n",
       "      <td>Aeon Dream Studios</td>\n",
       "      <td>1</td>\n",
       "    </tr>\n",
       "    <tr>\n",
       "      <th>124007</th>\n",
       "      <td>431510</td>\n",
       "      <td>2</td>\n",
       "      <td>76561198254993106</td>\n",
       "      <td>1</td>\n",
       "      <td>Mystic Destinies: Serendipity of Aeons</td>\n",
       "      <td>2016</td>\n",
       "      <td>431510</td>\n",
       "      <td>Aeon Dream Studios</td>\n",
       "      <td>1</td>\n",
       "    </tr>\n",
       "    <tr>\n",
       "      <th>124008</th>\n",
       "      <td>431510</td>\n",
       "      <td>2</td>\n",
       "      <td>76561198254993106</td>\n",
       "      <td>1</td>\n",
       "      <td>Mystic Destinies: Serendipity of Aeons</td>\n",
       "      <td>2016</td>\n",
       "      <td>431510</td>\n",
       "      <td>Aeon Dream Studios</td>\n",
       "      <td>1</td>\n",
       "    </tr>\n",
       "  </tbody>\n",
       "</table>\n",
       "<p>124009 rows × 9 columns</p>\n",
       "</div>"
      ],
      "text/plain": [
       "        item_id  sentiment_analisis            user_id  recommend  \\\n",
       "0          1250                   2  76561197970982479          1   \n",
       "1          1250                   2       death-hunter          1   \n",
       "2          1250                   0           DJKamBer          1   \n",
       "3          1250                   1          diego9031          1   \n",
       "4          1250                   1  76561198081962345          1   \n",
       "...         ...                 ...                ...        ...   \n",
       "124004   262850                   1            wayfeng          1   \n",
       "124005   431510                   2  76561198254993106          1   \n",
       "124006   431510                   2  76561198254993106          1   \n",
       "124007   431510                   2  76561198254993106          1   \n",
       "124008   431510                   2  76561198254993106          1   \n",
       "\n",
       "                                         title  release_date      id  \\\n",
       "0                                Killing Floor          2009    1250   \n",
       "1                                Killing Floor          2009    1250   \n",
       "2                                Killing Floor          2009    1250   \n",
       "3                                Killing Floor          2009    1250   \n",
       "4                                Killing Floor          2009    1250   \n",
       "...                                        ...           ...     ...   \n",
       "124004           The Journey Down: Chapter Two          2014  262850   \n",
       "124005  Mystic Destinies: Serendipity of Aeons          2016  431510   \n",
       "124006  Mystic Destinies: Serendipity of Aeons          2016  431510   \n",
       "124007  Mystic Destinies: Serendipity of Aeons          2016  431510   \n",
       "124008  Mystic Destinies: Serendipity of Aeons          2016  431510   \n",
       "\n",
       "                   developer  Positivo  \n",
       "0       Tripwire Interactive         1  \n",
       "1       Tripwire Interactive         1  \n",
       "2       Tripwire Interactive         0  \n",
       "3       Tripwire Interactive         0  \n",
       "4       Tripwire Interactive         0  \n",
       "...                      ...       ...  \n",
       "124004             SkyGoblin         0  \n",
       "124005    Aeon Dream Studios         1  \n",
       "124006    Aeon Dream Studios         1  \n",
       "124007    Aeon Dream Studios         1  \n",
       "124008    Aeon Dream Studios         1  \n",
       "\n",
       "[124009 rows x 9 columns]"
      ]
     },
     "execution_count": 18,
     "metadata": {},
     "output_type": "execute_result"
    }
   ],
   "source": [
    "prueba1 = pd.merge(sentiment_analisis[['item_id','sentiment_analisis','user_id','recommend']], games[[\"title\",'release_date','id','developer']], left_on='item_id', right_on='id')\n",
    "\n",
    "prueba1['recommend'] = prueba1['recommend'].replace({True: 1, False: 0}) #cambio los valores de la columna recommend, para poder utilizarlos de una forma mas sencilla en mi funcion\n",
    "\n",
    "for index, row in prueba1.iterrows(): #en este iterador creo la nueva columna y le coloco 1 si recommend + opinion es 2\n",
    "    if row[1] == 2 and row[3] == 1:\n",
    "        prueba1.at[index, 'Positivo'] = 1\n",
    "    else:\n",
    "        prueba1.at[index, 'Positivo'] = 0\n",
    "\n",
    "prueba1['Positivo'] = prueba1['Positivo'].astype(int) #Convierto la columna 'Positivo' a números enteros\n",
    "\n",
    "prueba1 "
   ]
  },
  {
   "cell_type": "code",
   "execution_count": 184,
   "metadata": {},
   "outputs": [],
   "source": [
    "prueba1.to_parquet(\"../Funciones/developer_opinion.parquet\")"
   ]
  },
  {
   "cell_type": "markdown",
   "metadata": {},
   "source": [
    "Prueba función punto 1"
   ]
  },
  {
   "cell_type": "code",
   "execution_count": 61,
   "metadata": {},
   "outputs": [],
   "source": [
    "df_games=pd.read_parquet(\"../Funciones/genre_play.parquet\")\n",
    "developer_opinion=pd.read_parquet(\"../Funciones/developer_opinion.parquet\")\n",
    "playtime=pd.read_parquet(\"../Funciones/playtime.parquet\")"
   ]
  },
  {
   "cell_type": "code",
   "execution_count": 69,
   "metadata": {},
   "outputs": [],
   "source": [
    "from fastapi import FastAPI, HTTPException\n",
    "from typing import Dict\n",
    "\n",
    "app = FastAPI()\n",
    "\n",
    "# Validar género\n",
    "def validate_genre(genre):\n",
    "    genre_name = genre.capitalize()\n",
    "    df_filtered = [games['genres'].str.contains(genre, case=False, na=False)]\n",
    "    if df_filtered.empty:\n",
    "        raise HTTPException(status_code=404, detail=f\"Género {genre_name} no encontrado\")\n",
    "\n",
    "# Obtener año con más horas jugadas para un género dado\n",
    "@app.get('/PlayTimeGenre', response_model=Dict[str, int])\n",
    "def play_time_genre(genre: str):\n",
    "    \"\"\"\n",
    "    Devuelve el año de lanzamiento con más horas jugadas para un género dado.\n",
    "    \"\"\"\n",
    "    validate_genre(genre)\n",
    "\n",
    "    genre_name = genre.capitalize()\n",
    "    df_filtered = playtime[playtime['genres'].str.contains(genre, case=False, na=False)]\n",
    "\n",
    "    # Agrupar por año y sumar las horas jugadas\n",
    "    playtime_by_year = df_filtered.groupby('release_date')['playtime_forever'].sum().reset_index()\n",
    "\n",
    "    # Obtener el año con más horas jugadas\n",
    "    most_played_year = playtime_by_year.loc[playtime_by_year['playtime_forever'].idxmax()]\n",
    "\n",
    "    result = {f\"Año de lanzamiento con más horas jugadas para Género {genre_name}\": most_played_year['release_date']}\n",
    "    return result\n"
   ]
  },
  {
   "cell_type": "code",
   "execution_count": null,
   "metadata": {},
   "outputs": [],
   "source": [
    "play_time_genre(\"Action\")"
   ]
  },
  {
   "cell_type": "markdown",
   "metadata": {},
   "source": [
    "Prueba función del punto 2"
   ]
  },
  {
   "cell_type": "code",
   "execution_count": 65,
   "metadata": {},
   "outputs": [],
   "source": [
    "# Primera función\n",
    "def validate_genre(genre):\n",
    "    genre_name = genre.capitalize()\n",
    "    df_filtered = games[games['genres'].str.contains(genre, case=False, na=False)]\n",
    "    if df_filtered.empty:\n",
    "        raise HTTPException(status_code=404, detail=f\"Género {genre_name} no encontrado\")\n",
    "\n",
    "@app.get('/UserForGenre')\n",
    "def user_for_genre(genre: str):\n",
    "    \"\"\"\n",
    "    Obtiene el usuario con más horas jugadas para un género dado.\n",
    "    \"\"\"\n",
    "    validate_genre(genre)\n",
    "\n",
    "    genre_name = genre.capitalize()\n",
    "    df_filtered = games[games['genres'].str.contains(genre, case=False, na=False)]\n",
    "\n",
    "    df_merged = pd.merge(playtime, df_filtered[['id', 'release_date']], left_on='item_id', right_on='id')\n",
    "    user_with_most_playtime = df_merged.groupby('user_id')['playtime_forever'].sum().idxmax()\n",
    "    playtime_by_year = df_merged.groupby(['release_date', 'user_id'])['playtime_forever'].sum().reset_index()\n",
    "    playtime_by_year = playtime_by_year[playtime_by_year['user_id'] == user_with_most_playtime]\n",
    "    playtime_by_year = playtime_by_year.rename(columns={'release_date': 'Año', 'playtime_forever': 'Horas'})\n",
    "\n",
    "    result = {\n",
    "        f\"Usuario con más horas jugadas para Género {genre_name}\": user_with_most_playtime,\n",
    "        \"Horas jugadas\": [{\"Año\": str(row['Año']), \"Horas\": row['Horas']} for _, row in playtime_by_year.iterrows()]\n",
    "    }\n",
    "    return result\n"
   ]
  },
  {
   "cell_type": "code",
   "execution_count": 66,
   "metadata": {},
   "outputs": [
    {
     "data": {
      "text/plain": [
       "{'Usuario con más horas jugadas para Género Action': 'Terminally-Chill',\n",
       " 'Horas jugadas': [{'Año': '2007', 'Horas': 3468014},\n",
       "  {'Año': '2012', 'Horas': 6936028},\n",
       "  {'Año': '2013', 'Horas': 6936028},\n",
       "  {'Año': '2014', 'Horas': 5202021},\n",
       "  {'Año': '2015', 'Horas': 3468014}]}"
      ]
     },
     "execution_count": 66,
     "metadata": {},
     "output_type": "execute_result"
    }
   ],
   "source": [
    "validate_genre(\"Action\")\n",
    "user_for_genre(\"Action\")"
   ]
  },
  {
   "cell_type": "markdown",
   "metadata": {},
   "source": [
    "Prueba función punto 3"
   ]
  },
  {
   "cell_type": "code",
   "execution_count": null,
   "metadata": {},
   "outputs": [],
   "source": [
    "# Segunda función\n",
    "# Obtener top 3 de juegos MÁS recomendados\n",
    "from typing import List\n",
    "\n",
    "\n",
    "# Validar año\n",
    "def validate_year(year):\n",
    "    if year not in developer_opinion['release_date'].unique():\n",
    "        raise HTTPException(status_code=404, detail=f\"Año {year} no encontrado\")\n",
    "\n",
    "# Obtener top 3 de juegos MÁS recomendados\n",
    "@app.get('/UsersRecommend', response_model=List[dict])\n",
    "def users_recommend(year: int):\n",
    "    \"\"\"\n",
    "    Devuelve el top 3 de juegos MÁS recomendados por usuarios para el año dado.\n",
    "    \"\"\"\n",
    "    validate_year(year)\n",
    "\n",
    "    # Filtrar reseñas para el año y con recomendación positiva\n",
    "    df_filtered = developer_opinion[(developer_opinion['release_date'] == year) & (developer_opinion['recommend'] == True)]\n",
    "\n",
    "    # Ordenar por puntuación positiva en orden descendente y tomar las primeras 3\n",
    "    df_sorted = df_filtered.sort_values(by='Positivo', ascending=False).head(3)\n",
    "\n",
    "    # Crear el resultado con el formato especificado\n",
    "    result = [{\"Puesto {}\".format(i+1): {\"Título\": title, \"Puntuación Positiva\": positive_score}} for i, (title, positive_score) in enumerate(zip(df_sorted['title'], df_sorted['Positivo']))]\n",
    "    \n",
    "    return result\n",
    "\n",
    "\n",
    "\n"
   ]
  },
  {
   "cell_type": "code",
   "execution_count": 38,
   "metadata": {},
   "outputs": [
    {
     "data": {
      "text/plain": [
       "[{'Puesto 1': {'Título': 'Half-Life 2', 'Puntuación Positiva': 1}},\n",
       " {'Puesto 2': {'Título': 'Counter-Strike: Source', 'Puntuación Positiva': 1}},\n",
       " {'Puesto 3': {'Título': 'Counter-Strike: Source', 'Puntuación Positiva': 1}}]"
      ]
     },
     "execution_count": 38,
     "metadata": {},
     "output_type": "execute_result"
    }
   ],
   "source": [
    "users_recommend(year=2004)"
   ]
  },
  {
   "cell_type": "markdown",
   "metadata": {},
   "source": [
    "Prueba función del punto 4"
   ]
  },
  {
   "cell_type": "code",
   "execution_count": 48,
   "metadata": {},
   "outputs": [
    {
     "name": "stdout",
     "output_type": "stream",
     "text": [
      "<class 'pandas.core.frame.DataFrame'>\n",
      "Int64Index: 124009 entries, 0 to 124008\n",
      "Data columns (total 9 columns):\n",
      " #   Column              Non-Null Count   Dtype \n",
      "---  ------              --------------   ----- \n",
      " 0   item_id             124009 non-null  int64 \n",
      " 1   sentiment_analisis  124009 non-null  int64 \n",
      " 2   user_id             124009 non-null  object\n",
      " 3   recommend           124009 non-null  int64 \n",
      " 4   title               124009 non-null  object\n",
      " 5   release_date        124009 non-null  int64 \n",
      " 6   id                  124009 non-null  int64 \n",
      " 7   developer           124009 non-null  object\n",
      " 8   Positivo            124009 non-null  int32 \n",
      "dtypes: int32(1), int64(5), object(3)\n",
      "memory usage: 9.0+ MB\n"
     ]
    }
   ],
   "source": [
    "developer_opinion.info()"
   ]
  },
  {
   "cell_type": "code",
   "execution_count": 39,
   "metadata": {},
   "outputs": [],
   "source": [
    "from fastapi import FastAPI, HTTPException\n",
    "from typing import List\n",
    "\n",
    "app = FastAPI()\n",
    "\n",
    "\n",
    "\n",
    "# Validar año\n",
    "def validate_year(year):\n",
    "    if year not in developer_opinion['release_date'].unique():\n",
    "        raise HTTPException(status_code=404, detail=f\"Año {year} no encontrado\")\n",
    "\n",
    "# Obtener top 3 de desarrolladoras con juegos MENOS recomendados\n",
    "@app.get('/UsersWorstDeveloper', response_model=List[dict])\n",
    "def users_worst_developer(year: int):\n",
    "    \"\"\"\n",
    "    Devuelve el top 3 de desarrolladoras con juegos MENOS recomendados por usuarios para el año dado.\n",
    "    \"\"\"\n",
    "    validate_year(year)\n",
    "\n",
    "    # Filtrar reseñas para el año y con recomendación negativa\n",
    "    df_filtered = developer_opinion[(developer_opinion['release_date'] == year) & (developer_opinion['sentiment_analisis'].isin([0, 1, 2]))]\n",
    "\n",
    "    # Agrupar por desarrolladora y contar las reseñas por categoría\n",
    "    df_grouped = df_filtered.groupby(['developer', 'sentiment_analisis'])['sentiment_analisis'].count().unstack(fill_value=0).reset_index()\n",
    "\n",
    "    # Renombrar las columnas\n",
    "    df_grouped.columns = ['developer', 'Neutral', 'Negativo', 'Positivo']\n",
    "\n",
    "    # Ordenar por puntos negativos en orden descendente y tomar las primeras 3\n",
    "    df_sorted = df_grouped.sort_values(by='Negativo', ascending=False).head(3)\n",
    "\n",
    "    # Crear el resultado con el formato especificado\n",
    "    result = [{\"Puesto {}\".format(i+1): {\"Desarrolladora\": developer, \"Puntuación Negativa\": negative_points}} for i, (developer, negative_points) in enumerate(zip(df_sorted['developer'], df_sorted['Negativo']))]\n",
    "    \n",
    "    return result\n",
    "\n"
   ]
  },
  {
   "cell_type": "code",
   "execution_count": 30,
   "metadata": {},
   "outputs": [
    {
     "data": {
      "text/plain": [
       "[{'Puesto 1': {'Desarrolladora': 'Valve', 'Puntuación Negativa': 1005}},\n",
       " {'Puesto 2': {'Desarrolladora': 'Wild Shadow Studios',\n",
       "   'Puntuación Negativa': 275}},\n",
       " {'Puesto 3': {'Desarrolladora': 'Gearbox Software,Aspyr (Mac &amp; Linux)',\n",
       "   'Puntuación Negativa': 222}}]"
      ]
     },
     "execution_count": 30,
     "metadata": {},
     "output_type": "execute_result"
    }
   ],
   "source": [
    "validate_year(year=2012)\n",
    "users_worst_developer(year=2012)"
   ]
  },
  {
   "cell_type": "markdown",
   "metadata": {},
   "source": [
    "Prueba función punto 4"
   ]
  },
  {
   "cell_type": "code",
   "execution_count": 59,
   "metadata": {},
   "outputs": [],
   "source": [
    "@app.get('/sentiment_analysis')\n",
    "def sentiment_analysis(developer: str):\n",
    "    \"\"\"\n",
    "    Devuelve un diccionario con el nombre de la desarrolladora como llave y una lista con la cantidad total de registros\n",
    "    de reseñas de usuarios que se encuentren categorizados con un análisis de sentimiento como valor.\n",
    "    \"\"\"\n",
    "    # Convertir la columna 'developer' a str y filtrar valores nulos o extraños\n",
    "    df_filtered = developer_opinion[developer_opinion['developer'].notnull()]\n",
    "    df_filtered['developer'] = df_filtered['developer'].astype(str)\n",
    "\n",
    "    # Filtrar por desarrolladora\n",
    "    df_filtered = df_filtered[df_filtered['developer'] == developer]\n",
    "\n",
    "    if df_filtered.empty:\n",
    "        raise HTTPException(status_code=404, detail=f\"Desarrolladora '{developer}' no encontrada\")\n",
    "\n",
    "    # Realizar el análisis de sentimiento\n",
    "    sentiment_counts = df_filtered['sentiment_analisis'].value_counts().to_dict()\n",
    "\n",
    "    # Ajustar el resultado para reflejar que 2 es positivo, 0 es neutral y 1 es negativo\n",
    "    adjusted_sentiments = {2: \"Positivo\", 0: \"Neutral\", 1: \"Negativo\"}\n",
    "    sentiment_counts = {adjusted_sentiments[key]: value for key, value in sentiment_counts.items()}\n",
    "\n",
    "    result = {developer: sentiment_counts}\n",
    "    return result\n"
   ]
  },
  {
   "cell_type": "code",
   "execution_count": 60,
   "metadata": {},
   "outputs": [
    {
     "data": {
      "text/plain": [
       "{'Ubisoft': {'Positivo': 126, 'Neutral': 64, 'Negativo': 38}}"
      ]
     },
     "execution_count": 60,
     "metadata": {},
     "output_type": "execute_result"
    }
   ],
   "source": [
    "sentiment_analysis('Ubisoft')"
   ]
  },
  {
   "cell_type": "markdown",
   "metadata": {},
   "source": [
    "## Modelo de recomendación"
   ]
  },
  {
   "cell_type": "code",
   "execution_count": 26,
   "metadata": {},
   "outputs": [],
   "source": [
    "def encontrar_juegos_similares(id_juego, modelo_final):\n",
    "    \"\"\"\n",
    "    Encuentra juegos similares a un juego dado por su ID.\n",
    "\n",
    "    Parameters:\n",
    "    - id_juego: ID del juego para el cual se desean encontrar juegos similares.\n",
    "    - modelo_render: DataFrame que contiene las características de los juegos.\n",
    "\n",
    "    Returns:\n",
    "    - Lista de nombres de juegos similares.\n",
    "    \"\"\"\n",
    "    # Encuentra el índice del juego ingresado por ID\n",
    "    juego_indice = modelo_final.index[modelo_final['id'] == id_juego].tolist()\n",
    "\n",
    "    # Verifica si el juego con el ID especificado existe en la base de datos\n",
    "    if not juego_indice:\n",
    "        return f\"El juego con el ID {id_juego} no existe en la base de datos.\"\n",
    "\n",
    "    juego_indice = juego_indice[0]\n",
    "\n",
    "    # Extrae las características del juego ingresado\n",
    "    juego_caracteristicas = modelo_final.iloc[juego_indice, 3:].values.reshape(1, -1)\n",
    "\n",
    "    # Calcula la similitud coseno entre el juego ingresado y todos los demás juegos\n",
    "    similitudes_render = cosine_similarity(modelo_final.iloc[:, 3:], juego_caracteristicas)\n",
    "\n",
    "    # Obtiene los índices de los juegos más similares (excluyendo el juego de entrada)\n",
    "    indices_juegos_similares = similitudes_render.argsort(axis=0)[::-1][1:6].flatten()[1:]\n",
    "\n",
    "    # Obtiene los juegos más similares en función de los índices\n",
    "    juegos_similares = modelo_final.iloc[indices_juegos_similares]['title'].tolist()\n",
    "\n",
    "    return juegos_similares\n"
   ]
  },
  {
   "cell_type": "markdown",
   "metadata": {},
   "source": [
    "---\n"
   ]
  }
 ],
 "metadata": {
  "kernelspec": {
   "display_name": "Python 3",
   "language": "python",
   "name": "python3"
  },
  "language_info": {
   "codemirror_mode": {
    "name": "ipython",
    "version": 3
   },
   "file_extension": ".py",
   "mimetype": "text/x-python",
   "name": "python",
   "nbconvert_exporter": "python",
   "pygments_lexer": "ipython3",
   "version": "3.11.6"
  }
 },
 "nbformat": 4,
 "nbformat_minor": 2
}
