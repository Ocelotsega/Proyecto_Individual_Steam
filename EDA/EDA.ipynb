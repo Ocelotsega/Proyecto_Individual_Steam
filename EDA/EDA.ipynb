{
 "cells": [
  {
   "cell_type": "markdown",
   "metadata": {},
   "source": [
    "---\n",
    "Iniciamos con el EDA \n",
    "---"
   ]
  },
  {
   "cell_type": "markdown",
   "metadata": {},
   "source": [
    "Refiero al final del NoteBook, miscelaneos, funciones y experimentos que se realizaron durante el proyecto. A modo de documentación"
   ]
  },
  {
   "cell_type": "markdown",
   "metadata": {},
   "source": [
    "#Importamos primero las librerías que vamos a utilizar#"
   ]
  },
  {
   "cell_type": "code",
   "execution_count": 82,
   "metadata": {},
   "outputs": [],
   "source": [
    "#Importamos las libreríasa  utilizar\n",
    "import datetime\n",
    "import pandas as pd  \n",
    "import matplotlib.pyplot as plt \n",
    "import seaborn as sns \n",
    "import json \n",
    "import pyarrow as pa\n",
    "import pyarrow.parquet as pq\n",
    "import re\n",
    "import ast \n",
    "import nltk\n",
    "from nltk.sentiment.vader import SentimentIntensityAnalyzer\n"
   ]
  },
  {
   "cell_type": "markdown",
   "metadata": {},
   "source": [
    "Comenzamos por armar el data frame y explorarlo, buscando datos nulos y repetidos "
   ]
  },
  {
   "cell_type": "code",
   "execution_count": 83,
   "metadata": {},
   "outputs": [],
   "source": [
    "df=pd.read_parquet(\"../DataSets/steam_games.parquet\")\n",
    "df2=pd.read_parquet(\"../DataSets/user_review.parquet\")\n",
    "df3=pd.read_parquet(\"../DataSets/user_items.parquet\")"
   ]
  },
  {
   "cell_type": "markdown",
   "metadata": {},
   "source": [
    "Iniciamos con la exploración del primer archivo, steam_games. Por cuestiones de optimización, se decidió utilizar los tres archivos en la exploración"
   ]
  },
  {
   "cell_type": "code",
   "execution_count": 84,
   "metadata": {},
   "outputs": [
    {
     "data": {
      "text/html": [
       "<div>\n",
       "<style scoped>\n",
       "    .dataframe tbody tr th:only-of-type {\n",
       "        vertical-align: middle;\n",
       "    }\n",
       "\n",
       "    .dataframe tbody tr th {\n",
       "        vertical-align: top;\n",
       "    }\n",
       "\n",
       "    .dataframe thead th {\n",
       "        text-align: right;\n",
       "    }\n",
       "</style>\n",
       "<table border=\"1\" class=\"dataframe\">\n",
       "  <thead>\n",
       "    <tr style=\"text-align: right;\">\n",
       "      <th></th>\n",
       "      <th>publisher</th>\n",
       "      <th>genres</th>\n",
       "      <th>title</th>\n",
       "      <th>release_date</th>\n",
       "      <th>tags</th>\n",
       "      <th>specs</th>\n",
       "      <th>price</th>\n",
       "      <th>early_access</th>\n",
       "      <th>id</th>\n",
       "      <th>developer</th>\n",
       "    </tr>\n",
       "  </thead>\n",
       "  <tbody>\n",
       "    <tr>\n",
       "      <th>0</th>\n",
       "      <td>Kotoshiro</td>\n",
       "      <td>Action</td>\n",
       "      <td>Lost Summoner Kitty</td>\n",
       "      <td>2018</td>\n",
       "      <td>['Strategy', 'Action', 'Indie', 'Casual', 'Sim...</td>\n",
       "      <td>['Single-player']</td>\n",
       "      <td>4.99</td>\n",
       "      <td>False</td>\n",
       "      <td>761140</td>\n",
       "      <td>Kotoshiro</td>\n",
       "    </tr>\n",
       "    <tr>\n",
       "      <th>1</th>\n",
       "      <td>Kotoshiro</td>\n",
       "      <td>Casual</td>\n",
       "      <td>Lost Summoner Kitty</td>\n",
       "      <td>2018</td>\n",
       "      <td>['Strategy', 'Action', 'Indie', 'Casual', 'Sim...</td>\n",
       "      <td>['Single-player']</td>\n",
       "      <td>4.99</td>\n",
       "      <td>False</td>\n",
       "      <td>761140</td>\n",
       "      <td>Kotoshiro</td>\n",
       "    </tr>\n",
       "    <tr>\n",
       "      <th>2</th>\n",
       "      <td>Kotoshiro</td>\n",
       "      <td>Indie</td>\n",
       "      <td>Lost Summoner Kitty</td>\n",
       "      <td>2018</td>\n",
       "      <td>['Strategy', 'Action', 'Indie', 'Casual', 'Sim...</td>\n",
       "      <td>['Single-player']</td>\n",
       "      <td>4.99</td>\n",
       "      <td>False</td>\n",
       "      <td>761140</td>\n",
       "      <td>Kotoshiro</td>\n",
       "    </tr>\n",
       "    <tr>\n",
       "      <th>3</th>\n",
       "      <td>Kotoshiro</td>\n",
       "      <td>Simulation</td>\n",
       "      <td>Lost Summoner Kitty</td>\n",
       "      <td>2018</td>\n",
       "      <td>['Strategy', 'Action', 'Indie', 'Casual', 'Sim...</td>\n",
       "      <td>['Single-player']</td>\n",
       "      <td>4.99</td>\n",
       "      <td>False</td>\n",
       "      <td>761140</td>\n",
       "      <td>Kotoshiro</td>\n",
       "    </tr>\n",
       "    <tr>\n",
       "      <th>4</th>\n",
       "      <td>Kotoshiro</td>\n",
       "      <td>Strategy</td>\n",
       "      <td>Lost Summoner Kitty</td>\n",
       "      <td>2018</td>\n",
       "      <td>['Strategy', 'Action', 'Indie', 'Casual', 'Sim...</td>\n",
       "      <td>['Single-player']</td>\n",
       "      <td>4.99</td>\n",
       "      <td>False</td>\n",
       "      <td>761140</td>\n",
       "      <td>Kotoshiro</td>\n",
       "    </tr>\n",
       "  </tbody>\n",
       "</table>\n",
       "</div>"
      ],
      "text/plain": [
       "   publisher      genres                title  release_date  \\\n",
       "0  Kotoshiro      Action  Lost Summoner Kitty          2018   \n",
       "1  Kotoshiro      Casual  Lost Summoner Kitty          2018   \n",
       "2  Kotoshiro       Indie  Lost Summoner Kitty          2018   \n",
       "3  Kotoshiro  Simulation  Lost Summoner Kitty          2018   \n",
       "4  Kotoshiro    Strategy  Lost Summoner Kitty          2018   \n",
       "\n",
       "                                                tags              specs  \\\n",
       "0  ['Strategy', 'Action', 'Indie', 'Casual', 'Sim...  ['Single-player']   \n",
       "1  ['Strategy', 'Action', 'Indie', 'Casual', 'Sim...  ['Single-player']   \n",
       "2  ['Strategy', 'Action', 'Indie', 'Casual', 'Sim...  ['Single-player']   \n",
       "3  ['Strategy', 'Action', 'Indie', 'Casual', 'Sim...  ['Single-player']   \n",
       "4  ['Strategy', 'Action', 'Indie', 'Casual', 'Sim...  ['Single-player']   \n",
       "\n",
       "   price  early_access      id  developer  \n",
       "0   4.99         False  761140  Kotoshiro  \n",
       "1   4.99         False  761140  Kotoshiro  \n",
       "2   4.99         False  761140  Kotoshiro  \n",
       "3   4.99         False  761140  Kotoshiro  \n",
       "4   4.99         False  761140  Kotoshiro  "
      ]
     },
     "execution_count": 84,
     "metadata": {},
     "output_type": "execute_result"
    }
   ],
   "source": [
    "df.head() #Se carga el primer dataframe"
   ]
  },
  {
   "cell_type": "markdown",
   "metadata": {},
   "source": [
    "## Se usaron las siguientes funciones con la finalidad de llenar los valores nulos con datos y describir de manera optima el archivo"
   ]
  },
  {
   "cell_type": "code",
   "execution_count": 85,
   "metadata": {},
   "outputs": [],
   "source": [
    "# Limpieza de Datos Nulos\n",
    "def clean_missing_data(data):\n",
    "    cleaned_data = data.dropna()\n",
    "    return cleaned_data\n",
    "\n",
    "# Tratamiento de Datos Nulos\n",
    "def fill_missing_data(data, column, value):\n",
    "    data[column].fillna(value, inplace=True)\n",
    "    return data\n",
    "\n",
    "\n",
    "def extraer_anio(fecha): \n",
    "    if '-' in fecha:  # Si el formato es 'YYYY-MM-DD'\n",
    "        return fecha.split('-')[0]\n",
    "    else:  \n",
    "        partes = fecha.split(' ')\n",
    "        if len(partes) == 2:\n",
    "            return partes[1]\n",
    "    return fecha"
   ]
  },
  {
   "cell_type": "code",
   "execution_count": 16,
   "metadata": {},
   "outputs": [],
   "source": [
    "df['release_date'] = df['release_date'].apply(extraer_anio)\n",
    "# Normalizo los ultimos datos de la columna release_date\n",
    "df['release_date'] = df['release_date'].replace('SOON™',2019)\n",
    "df['release_date'] = df['release_date'].replace('soon',2019)\n",
    "df['release_date'] = df['release_date'].replace('SOON',2019)\n"
   ]
  },
  {
   "cell_type": "code",
   "execution_count": 17,
   "metadata": {},
   "outputs": [],
   "source": [
    "# Convierto la columna release_date de valores str a int\n",
    "df['release_date'] = df['release_date'].astype(int)"
   ]
  },
  {
   "cell_type": "code",
   "execution_count": 18,
   "metadata": {},
   "outputs": [
    {
     "data": {
      "text/html": [
       "<div>\n",
       "<style scoped>\n",
       "    .dataframe tbody tr th:only-of-type {\n",
       "        vertical-align: middle;\n",
       "    }\n",
       "\n",
       "    .dataframe tbody tr th {\n",
       "        vertical-align: top;\n",
       "    }\n",
       "\n",
       "    .dataframe thead th {\n",
       "        text-align: right;\n",
       "    }\n",
       "</style>\n",
       "<table border=\"1\" class=\"dataframe\">\n",
       "  <thead>\n",
       "    <tr style=\"text-align: right;\">\n",
       "      <th></th>\n",
       "      <th>publisher</th>\n",
       "      <th>genres</th>\n",
       "      <th>title</th>\n",
       "      <th>release_date</th>\n",
       "      <th>tags</th>\n",
       "      <th>specs</th>\n",
       "      <th>price</th>\n",
       "      <th>early_access</th>\n",
       "      <th>id</th>\n",
       "      <th>developer</th>\n",
       "    </tr>\n",
       "  </thead>\n",
       "  <tbody>\n",
       "    <tr>\n",
       "      <th>0</th>\n",
       "      <td>Kotoshiro</td>\n",
       "      <td>Action</td>\n",
       "      <td>Lost Summoner Kitty</td>\n",
       "      <td>2018</td>\n",
       "      <td>['Strategy', 'Action', 'Indie', 'Casual', 'Sim...</td>\n",
       "      <td>['Single-player']</td>\n",
       "      <td>4.99</td>\n",
       "      <td>False</td>\n",
       "      <td>761140</td>\n",
       "      <td>Kotoshiro</td>\n",
       "    </tr>\n",
       "    <tr>\n",
       "      <th>1</th>\n",
       "      <td>Kotoshiro</td>\n",
       "      <td>Casual</td>\n",
       "      <td>Lost Summoner Kitty</td>\n",
       "      <td>2018</td>\n",
       "      <td>['Strategy', 'Action', 'Indie', 'Casual', 'Sim...</td>\n",
       "      <td>['Single-player']</td>\n",
       "      <td>4.99</td>\n",
       "      <td>False</td>\n",
       "      <td>761140</td>\n",
       "      <td>Kotoshiro</td>\n",
       "    </tr>\n",
       "    <tr>\n",
       "      <th>2</th>\n",
       "      <td>Kotoshiro</td>\n",
       "      <td>Indie</td>\n",
       "      <td>Lost Summoner Kitty</td>\n",
       "      <td>2018</td>\n",
       "      <td>['Strategy', 'Action', 'Indie', 'Casual', 'Sim...</td>\n",
       "      <td>['Single-player']</td>\n",
       "      <td>4.99</td>\n",
       "      <td>False</td>\n",
       "      <td>761140</td>\n",
       "      <td>Kotoshiro</td>\n",
       "    </tr>\n",
       "    <tr>\n",
       "      <th>3</th>\n",
       "      <td>Kotoshiro</td>\n",
       "      <td>Simulation</td>\n",
       "      <td>Lost Summoner Kitty</td>\n",
       "      <td>2018</td>\n",
       "      <td>['Strategy', 'Action', 'Indie', 'Casual', 'Sim...</td>\n",
       "      <td>['Single-player']</td>\n",
       "      <td>4.99</td>\n",
       "      <td>False</td>\n",
       "      <td>761140</td>\n",
       "      <td>Kotoshiro</td>\n",
       "    </tr>\n",
       "    <tr>\n",
       "      <th>4</th>\n",
       "      <td>Kotoshiro</td>\n",
       "      <td>Strategy</td>\n",
       "      <td>Lost Summoner Kitty</td>\n",
       "      <td>2018</td>\n",
       "      <td>['Strategy', 'Action', 'Indie', 'Casual', 'Sim...</td>\n",
       "      <td>['Single-player']</td>\n",
       "      <td>4.99</td>\n",
       "      <td>False</td>\n",
       "      <td>761140</td>\n",
       "      <td>Kotoshiro</td>\n",
       "    </tr>\n",
       "    <tr>\n",
       "      <th>...</th>\n",
       "      <td>...</td>\n",
       "      <td>...</td>\n",
       "      <td>...</td>\n",
       "      <td>...</td>\n",
       "      <td>...</td>\n",
       "      <td>...</td>\n",
       "      <td>...</td>\n",
       "      <td>...</td>\n",
       "      <td>...</td>\n",
       "      <td>...</td>\n",
       "    </tr>\n",
       "    <tr>\n",
       "      <th>67479</th>\n",
       "      <td>Laush Studio</td>\n",
       "      <td>Indie</td>\n",
       "      <td>Russian Roads</td>\n",
       "      <td>2018</td>\n",
       "      <td>['Indie', 'Simulation', 'Racing']</td>\n",
       "      <td>['Single-player', 'Steam Achievements', 'Steam...</td>\n",
       "      <td>1.99</td>\n",
       "      <td>False</td>\n",
       "      <td>610660</td>\n",
       "      <td>Laush Dmitriy Sergeevich</td>\n",
       "    </tr>\n",
       "    <tr>\n",
       "      <th>67480</th>\n",
       "      <td>Laush Studio</td>\n",
       "      <td>Racing</td>\n",
       "      <td>Russian Roads</td>\n",
       "      <td>2018</td>\n",
       "      <td>['Indie', 'Simulation', 'Racing']</td>\n",
       "      <td>['Single-player', 'Steam Achievements', 'Steam...</td>\n",
       "      <td>1.99</td>\n",
       "      <td>False</td>\n",
       "      <td>610660</td>\n",
       "      <td>Laush Dmitriy Sergeevich</td>\n",
       "    </tr>\n",
       "    <tr>\n",
       "      <th>67481</th>\n",
       "      <td>Laush Studio</td>\n",
       "      <td>Simulation</td>\n",
       "      <td>Russian Roads</td>\n",
       "      <td>2018</td>\n",
       "      <td>['Indie', 'Simulation', 'Racing']</td>\n",
       "      <td>['Single-player', 'Steam Achievements', 'Steam...</td>\n",
       "      <td>1.99</td>\n",
       "      <td>False</td>\n",
       "      <td>610660</td>\n",
       "      <td>Laush Dmitriy Sergeevich</td>\n",
       "    </tr>\n",
       "    <tr>\n",
       "      <th>67482</th>\n",
       "      <td>SIXNAILS</td>\n",
       "      <td>Casual</td>\n",
       "      <td>EXIT 2 - Directions</td>\n",
       "      <td>2017</td>\n",
       "      <td>['Indie', 'Casual', 'Puzzle', 'Singleplayer', ...</td>\n",
       "      <td>['Single-player', 'Steam Achievements', 'Steam...</td>\n",
       "      <td>4.99</td>\n",
       "      <td>False</td>\n",
       "      <td>658870</td>\n",
       "      <td>xropi,stev3ns</td>\n",
       "    </tr>\n",
       "    <tr>\n",
       "      <th>67483</th>\n",
       "      <td>SIXNAILS</td>\n",
       "      <td>Indie</td>\n",
       "      <td>EXIT 2 - Directions</td>\n",
       "      <td>2017</td>\n",
       "      <td>['Indie', 'Casual', 'Puzzle', 'Singleplayer', ...</td>\n",
       "      <td>['Single-player', 'Steam Achievements', 'Steam...</td>\n",
       "      <td>4.99</td>\n",
       "      <td>False</td>\n",
       "      <td>658870</td>\n",
       "      <td>xropi,stev3ns</td>\n",
       "    </tr>\n",
       "  </tbody>\n",
       "</table>\n",
       "<p>67462 rows × 10 columns</p>\n",
       "</div>"
      ],
      "text/plain": [
       "          publisher      genres                title  release_date  \\\n",
       "0         Kotoshiro      Action  Lost Summoner Kitty          2018   \n",
       "1         Kotoshiro      Casual  Lost Summoner Kitty          2018   \n",
       "2         Kotoshiro       Indie  Lost Summoner Kitty          2018   \n",
       "3         Kotoshiro  Simulation  Lost Summoner Kitty          2018   \n",
       "4         Kotoshiro    Strategy  Lost Summoner Kitty          2018   \n",
       "...             ...         ...                  ...           ...   \n",
       "67479  Laush Studio       Indie        Russian Roads          2018   \n",
       "67480  Laush Studio      Racing        Russian Roads          2018   \n",
       "67481  Laush Studio  Simulation        Russian Roads          2018   \n",
       "67482      SIXNAILS      Casual  EXIT 2 - Directions          2017   \n",
       "67483      SIXNAILS       Indie  EXIT 2 - Directions          2017   \n",
       "\n",
       "                                                    tags  \\\n",
       "0      ['Strategy', 'Action', 'Indie', 'Casual', 'Sim...   \n",
       "1      ['Strategy', 'Action', 'Indie', 'Casual', 'Sim...   \n",
       "2      ['Strategy', 'Action', 'Indie', 'Casual', 'Sim...   \n",
       "3      ['Strategy', 'Action', 'Indie', 'Casual', 'Sim...   \n",
       "4      ['Strategy', 'Action', 'Indie', 'Casual', 'Sim...   \n",
       "...                                                  ...   \n",
       "67479                  ['Indie', 'Simulation', 'Racing']   \n",
       "67480                  ['Indie', 'Simulation', 'Racing']   \n",
       "67481                  ['Indie', 'Simulation', 'Racing']   \n",
       "67482  ['Indie', 'Casual', 'Puzzle', 'Singleplayer', ...   \n",
       "67483  ['Indie', 'Casual', 'Puzzle', 'Singleplayer', ...   \n",
       "\n",
       "                                                   specs  price  early_access  \\\n",
       "0                                      ['Single-player']   4.99         False   \n",
       "1                                      ['Single-player']   4.99         False   \n",
       "2                                      ['Single-player']   4.99         False   \n",
       "3                                      ['Single-player']   4.99         False   \n",
       "4                                      ['Single-player']   4.99         False   \n",
       "...                                                  ...    ...           ...   \n",
       "67479  ['Single-player', 'Steam Achievements', 'Steam...   1.99         False   \n",
       "67480  ['Single-player', 'Steam Achievements', 'Steam...   1.99         False   \n",
       "67481  ['Single-player', 'Steam Achievements', 'Steam...   1.99         False   \n",
       "67482  ['Single-player', 'Steam Achievements', 'Steam...   4.99         False   \n",
       "67483  ['Single-player', 'Steam Achievements', 'Steam...   4.99         False   \n",
       "\n",
       "           id                 developer  \n",
       "0      761140                 Kotoshiro  \n",
       "1      761140                 Kotoshiro  \n",
       "2      761140                 Kotoshiro  \n",
       "3      761140                 Kotoshiro  \n",
       "4      761140                 Kotoshiro  \n",
       "...       ...                       ...  \n",
       "67479  610660  Laush Dmitriy Sergeevich  \n",
       "67480  610660  Laush Dmitriy Sergeevich  \n",
       "67481  610660  Laush Dmitriy Sergeevich  \n",
       "67482  658870             xropi,stev3ns  \n",
       "67483  658870             xropi,stev3ns  \n",
       "\n",
       "[67462 rows x 10 columns]"
      ]
     },
     "execution_count": 18,
     "metadata": {},
     "output_type": "execute_result"
    }
   ],
   "source": [
    "#Comenzamos por tratar los datos nulos de nueva cuenta\n",
    "clean_missing_data(df)"
   ]
  },
  {
   "cell_type": "code",
   "execution_count": 19,
   "metadata": {},
   "outputs": [
    {
     "data": {
      "text/plain": [
       "publisher        object\n",
       "genres           object\n",
       "title            object\n",
       "release_date      int32\n",
       "tags             object\n",
       "specs            object\n",
       "price           float64\n",
       "early_access       bool\n",
       "id                int32\n",
       "developer        object\n",
       "dtype: object"
      ]
     },
     "execution_count": 19,
     "metadata": {},
     "output_type": "execute_result"
    }
   ],
   "source": [
    "df['id'] = df['id'].astype(int)\n",
    "df.dtypes"
   ]
  },
  {
   "cell_type": "code",
   "execution_count": 20,
   "metadata": {},
   "outputs": [
    {
     "data": {
      "text/plain": [
       "item_id              int32\n",
       "item_name           object\n",
       "playtime_forever     int64\n",
       "playtime_2weeks      int64\n",
       "steam_id             int64\n",
       "items_count          int64\n",
       "user_id             object\n",
       "dtype: object"
      ]
     },
     "execution_count": 20,
     "metadata": {},
     "output_type": "execute_result"
    }
   ],
   "source": [
    "df3[\"item_id\"]=df3[\"item_id\"].astype(int)\n",
    "df3.dtypes"
   ]
  },
  {
   "cell_type": "markdown",
   "metadata": {},
   "source": [
    "Optmos por empezar por una exploración del primer dataframe"
   ]
  },
  {
   "cell_type": "code",
   "execution_count": 21,
   "metadata": {},
   "outputs": [
    {
     "data": {
      "text/html": [
       "<div>\n",
       "<style scoped>\n",
       "    .dataframe tbody tr th:only-of-type {\n",
       "        vertical-align: middle;\n",
       "    }\n",
       "\n",
       "    .dataframe tbody tr th {\n",
       "        vertical-align: top;\n",
       "    }\n",
       "\n",
       "    .dataframe thead th {\n",
       "        text-align: right;\n",
       "    }\n",
       "</style>\n",
       "<table border=\"1\" class=\"dataframe\">\n",
       "  <thead>\n",
       "    <tr style=\"text-align: right;\">\n",
       "      <th></th>\n",
       "      <th>release_date</th>\n",
       "      <th>price</th>\n",
       "      <th>id</th>\n",
       "    </tr>\n",
       "  </thead>\n",
       "  <tbody>\n",
       "    <tr>\n",
       "      <th>count</th>\n",
       "      <td>67484.000000</td>\n",
       "      <td>67484.000000</td>\n",
       "      <td>6.748400e+04</td>\n",
       "    </tr>\n",
       "    <tr>\n",
       "      <th>mean</th>\n",
       "      <td>2015.248903</td>\n",
       "      <td>8.582062</td>\n",
       "      <td>4.635520e+05</td>\n",
       "    </tr>\n",
       "    <tr>\n",
       "      <th>std</th>\n",
       "      <td>2.798177</td>\n",
       "      <td>15.053754</td>\n",
       "      <td>1.748903e+05</td>\n",
       "    </tr>\n",
       "    <tr>\n",
       "      <th>min</th>\n",
       "      <td>1983.000000</td>\n",
       "      <td>0.000000</td>\n",
       "      <td>1.000000e+01</td>\n",
       "    </tr>\n",
       "    <tr>\n",
       "      <th>25%</th>\n",
       "      <td>2015.000000</td>\n",
       "      <td>2.990000</td>\n",
       "      <td>3.420500e+05</td>\n",
       "    </tr>\n",
       "    <tr>\n",
       "      <th>50%</th>\n",
       "      <td>2016.000000</td>\n",
       "      <td>4.990000</td>\n",
       "      <td>4.609900e+05</td>\n",
       "    </tr>\n",
       "    <tr>\n",
       "      <th>75%</th>\n",
       "      <td>2017.000000</td>\n",
       "      <td>9.990000</td>\n",
       "      <td>5.999000e+05</td>\n",
       "    </tr>\n",
       "    <tr>\n",
       "      <th>max</th>\n",
       "      <td>2021.000000</td>\n",
       "      <td>995.000000</td>\n",
       "      <td>2.028850e+06</td>\n",
       "    </tr>\n",
       "  </tbody>\n",
       "</table>\n",
       "</div>"
      ],
      "text/plain": [
       "       release_date         price            id\n",
       "count  67484.000000  67484.000000  6.748400e+04\n",
       "mean    2015.248903      8.582062  4.635520e+05\n",
       "std        2.798177     15.053754  1.748903e+05\n",
       "min     1983.000000      0.000000  1.000000e+01\n",
       "25%     2015.000000      2.990000  3.420500e+05\n",
       "50%     2016.000000      4.990000  4.609900e+05\n",
       "75%     2017.000000      9.990000  5.999000e+05\n",
       "max     2021.000000    995.000000  2.028850e+06"
      ]
     },
     "execution_count": 21,
     "metadata": {},
     "output_type": "execute_result"
    }
   ],
   "source": [
    "df.describe() #Iniciamos con un describe "
   ]
  },
  {
   "cell_type": "code",
   "execution_count": 22,
   "metadata": {},
   "outputs": [
    {
     "name": "stdout",
     "output_type": "stream",
     "text": [
      "<class 'pandas.core.frame.DataFrame'>\n",
      "RangeIndex: 67484 entries, 0 to 67483\n",
      "Data columns (total 10 columns):\n",
      " #   Column        Non-Null Count  Dtype  \n",
      "---  ------        --------------  -----  \n",
      " 0   publisher     67462 non-null  object \n",
      " 1   genres        67484 non-null  object \n",
      " 2   title         67484 non-null  object \n",
      " 3   release_date  67484 non-null  int32  \n",
      " 4   tags          67484 non-null  object \n",
      " 5   specs         67484 non-null  object \n",
      " 6   price         67484 non-null  float64\n",
      " 7   early_access  67484 non-null  bool   \n",
      " 8   id            67484 non-null  int32  \n",
      " 9   developer     67484 non-null  object \n",
      "dtypes: bool(1), float64(1), int32(2), object(6)\n",
      "memory usage: 4.2+ MB\n"
     ]
    }
   ],
   "source": [
    "df.info() #Analizamos las columnas "
   ]
  },
  {
   "cell_type": "markdown",
   "metadata": {},
   "source": [
    "## Cargamos una grafica de barras utilizando la columna genres, con el objetivo de tener un primer acercamiento al analisis estadistico"
   ]
  },
  {
   "cell_type": "code",
   "execution_count": 23,
   "metadata": {},
   "outputs": [
    {
     "name": "stderr",
     "output_type": "stream",
     "text": [
      "C:\\Users\\1\\AppData\\Local\\Temp\\ipykernel_19628\\3672577576.py:2: FutureWarning: \n",
      "\n",
      "Passing `palette` without assigning `hue` is deprecated and will be removed in v0.14.0. Assign the `y` variable to `hue` and set `legend=False` for the same effect.\n",
      "\n",
      "  sns.countplot(data=df, y='genres', orient='h', palette=(\"cubehelix\"))\n"
     ]
    },
    {
     "data": {
      "image/png": "[encoded data removed]",
      "text/plain": [
       "<Figure size 600x400 with 1 Axes>"
      ]
     },
     "metadata": {},
     "output_type": "display_data"
    }
   ],
   "source": [
    "plt.figure(figsize=(6, 4))\n",
    "sns.countplot(data=df, y='genres', orient='h', palette=(\"cubehelix\"))\n",
    "plt.show()"
   ]
  },
  {
   "cell_type": "markdown",
   "metadata": {},
   "source": [
    "## Se concluye el top tres de generos mayor jugados"
   ]
  },
  {
   "cell_type": "markdown",
   "metadata": {},
   "source": [
    "# 1.- Action\n",
    "# 2.- Indie\n",
    "# 3.- Casual, Adventure \n"
   ]
  },
  {
   "cell_type": "code",
   "execution_count": 24,
   "metadata": {},
   "outputs": [
    {
     "data": {
      "image/png": "[encoded data removed]",
      "text/plain": [
       "<Figure size 640x480 with 1 Axes>"
      ]
     },
     "metadata": {},
     "output_type": "display_data"
    }
   ],
   "source": [
    "\n",
    "#Hacemos un histograma de la columna release_date\n",
    "sns.histplot(df['release_date'], bins=20, kde=False)\n",
    "plt.title('Histograma de Años de Lanzamiento')\n",
    "plt.xlabel('Año de Lanzamiento')\n",
    "plt.ylabel('Frecuencia')\n",
    "plt.show()\n",
    "\n"
   ]
  },
  {
   "cell_type": "code",
   "execution_count": 25,
   "metadata": {},
   "outputs": [
    {
     "data": {
      "text/plain": [
       "Ubisoft - San Francisco       2514\n",
       "SmiteWorks USA, LLC           2361\n",
       "DL Softworks                   495\n",
       "Ronimo Games                   379\n",
       "Paradox Development Studio     304\n",
       "                              ... \n",
       "RailRight                        1\n",
       "ARB Studios                      1\n",
       "Unlikely Rogue                   1\n",
       "Aerosoft,Caipirinha Games        1\n",
       "Titutitech                       1\n",
       "Name: developer, Length: 10512, dtype: int64"
      ]
     },
     "execution_count": 25,
     "metadata": {},
     "output_type": "execute_result"
    }
   ],
   "source": [
    "# obtengo la cantidad de uegos publicados por editores y desarrolladores \n",
    "developer= df[\"developer\"].value_counts()\n",
    "\n",
    "publisher= df[\"publisher\"].value_counts()\n",
    "\n",
    "\n",
    "developer"
   ]
  },
  {
   "cell_type": "code",
   "execution_count": 26,
   "metadata": {},
   "outputs": [
    {
     "data": {
      "text/plain": [
       "SmiteWorks USA, LLC          2361\n",
       "Ubisoft - San Francisco      2161\n",
       "KISS ltd                      762\n",
       "Ubisoft                       693\n",
       "Degica                        514\n",
       "                             ... \n",
       "Duckman Army Games              1\n",
       "Iconic Games                    1\n",
       "Sons Of Earth                   1\n",
       "Nicolas Pierre-Loti-Viaud       1\n",
       "DK Productions                  1\n",
       "Name: publisher, Length: 8348, dtype: int64"
      ]
     },
     "execution_count": 26,
     "metadata": {},
     "output_type": "execute_result"
    }
   ],
   "source": [
    "publisher"
   ]
  },
  {
   "cell_type": "code",
   "execution_count": 27,
   "metadata": {},
   "outputs": [
    {
     "data": {
      "image/png": "[encoded data removed]",
      "text/plain": [
       "<Figure size 1200x500 with 2 Axes>"
      ]
     },
     "metadata": {},
     "output_type": "display_data"
    }
   ],
   "source": [
    "# Crear una figura con dos subplots uno al lado del otro\n",
    "plt.figure(figsize=(12, 5))\n",
    "\n",
    "# Primer subplot para los publishers\n",
    "plt.subplot(1, 2, 1)\n",
    "developer[:10].plot(kind='bar', color='blue')\n",
    "plt.xlabel('Developer') ; plt.ylabel('Cantidad de Juegos') ; plt.title('Top 10 Developers')\n",
    "\n",
    "# Segundo subplot para los developers\n",
    "plt.subplot(1, 2, 2)\n",
    "publisher[:10].plot(kind='bar', color='red')\n",
    "plt.xlabel('Publisher') ; plt.ylabel('Cantidad de Juegos') ; plt.title('Top 10 Publishers')\n",
    "\n",
    "# Muestra y ajustar el espaciado entre subplots\n",
    "plt.tight_layout()\n",
    "plt.show()"
   ]
  },
  {
   "cell_type": "code",
   "execution_count": 28,
   "metadata": {},
   "outputs": [
    {
     "name": "stdout",
     "output_type": "stream",
     "text": [
      "Primer Cuartil (Q1): 2.99\n",
      "Tercer Cuartil (Q3): 9.99\n",
      "Rango Intercuartil (IQR): 7.0\n"
     ]
    }
   ],
   "source": [
    "priceStats = df['price'].describe(percentiles=[0.25, 0.75]) #Usamos el metodo describe() para un analisis preeliminar\n",
    "Q1 = priceStats['25%']\n",
    "Q3 = priceStats['75%']\n",
    "IQR = Q3 - Q1\n",
    "print(\"Primer Cuartil (Q1):\", Q1)\n",
    "print(\"Tercer Cuartil (Q3):\", Q3)\n",
    "print(\"Rango Intercuartil (IQR):\", IQR)"
   ]
  },
  {
   "cell_type": "code",
   "execution_count": 29,
   "metadata": {},
   "outputs": [
    {
     "name": "stdout",
     "output_type": "stream",
     "text": [
      "Umbral Superior: 20.490000000000002\n",
      "Umbral Inferior: -7.51\n"
     ]
    }
   ],
   "source": [
    "umbralSuperior, umbralInferior = Q3 + 1.5 * IQR, Q1 - 1.5 * IQR\n",
    "print(\"Umbral Superior:\", umbralSuperior)\n",
    "print(\"Umbral Inferior:\", umbralInferior)"
   ]
  },
  {
   "cell_type": "code",
   "execution_count": 30,
   "metadata": {},
   "outputs": [
    {
     "name": "stdout",
     "output_type": "stream",
     "text": [
      "Outliers Superiores:\n",
      "                    publisher        genres                          title  \\\n",
      "28     Poppermost Productions  Free to Play  SNOW - All Access Legend Pass   \n",
      "29     Poppermost Productions         Indie  SNOW - All Access Legend Pass   \n",
      "30     Poppermost Productions    Simulation  SNOW - All Access Legend Pass   \n",
      "31     Poppermost Productions        Sports  SNOW - All Access Legend Pass   \n",
      "56     Poppermost Productions  Free to Play           SNOW - Lifetime Pack   \n",
      "...                       ...           ...                            ...   \n",
      "67382        DreamInCode B.V.        Casual                      Mesozoica   \n",
      "67383        DreamInCode B.V.         Indie                      Mesozoica   \n",
      "67384        DreamInCode B.V.    Simulation                      Mesozoica   \n",
      "67385        DreamInCode B.V.      Strategy                      Mesozoica   \n",
      "67386        DreamInCode B.V.  Early Access                      Mesozoica   \n",
      "\n",
      "       release_date                                               tags  \\\n",
      "28             2018  ['Free to Play', 'Indie', 'Simulation', 'Sports']   \n",
      "29             2018  ['Free to Play', 'Indie', 'Simulation', 'Sports']   \n",
      "30             2018  ['Free to Play', 'Indie', 'Simulation', 'Sports']   \n",
      "31             2018  ['Free to Play', 'Indie', 'Simulation', 'Sports']   \n",
      "56             2018  ['Free to Play', 'Indie', 'Simulation', 'Sports']   \n",
      "...             ...                                                ...   \n",
      "67382          2018  ['Early Access', 'Simulation', 'Strategy', 'Ca...   \n",
      "67383          2018  ['Early Access', 'Simulation', 'Strategy', 'Ca...   \n",
      "67384          2018  ['Early Access', 'Simulation', 'Strategy', 'Ca...   \n",
      "67385          2018  ['Early Access', 'Simulation', 'Strategy', 'Ca...   \n",
      "67386          2018  ['Early Access', 'Simulation', 'Strategy', 'Ca...   \n",
      "\n",
      "                                                   specs  price  early_access  \\\n",
      "28     ['Single-player', 'Multi-player', 'Online Mult...  29.99         False   \n",
      "29     ['Single-player', 'Multi-player', 'Online Mult...  29.99         False   \n",
      "30     ['Single-player', 'Multi-player', 'Online Mult...  29.99         False   \n",
      "31     ['Single-player', 'Multi-player', 'Online Mult...  29.99         False   \n",
      "56     ['Single-player', 'Multi-player', 'Online Mult...  59.99         False   \n",
      "...                                                  ...    ...           ...   \n",
      "67382                                  ['Single-player']  29.99          True   \n",
      "67383                                  ['Single-player']  29.99          True   \n",
      "67384                                  ['Single-player']  29.99          True   \n",
      "67385                                  ['Single-player']  29.99          True   \n",
      "67386                                  ['Single-player']  29.99          True   \n",
      "\n",
      "           id                              developer  \n",
      "28     774278                 Poppermost Productions  \n",
      "29     774278                 Poppermost Productions  \n",
      "30     774278                 Poppermost Productions  \n",
      "31     774278                 Poppermost Productions  \n",
      "56     774279                 Poppermost Productions  \n",
      "...       ...                                    ...  \n",
      "67382  719590  DreamInCode B.V.,Squadron Interactive  \n",
      "67383  719590  DreamInCode B.V.,Squadron Interactive  \n",
      "67384  719590  DreamInCode B.V.,Squadron Interactive  \n",
      "67385  719590  DreamInCode B.V.,Squadron Interactive  \n",
      "67386  719590  DreamInCode B.V.,Squadron Interactive  \n",
      "\n",
      "[3782 rows x 10 columns]\n",
      "\n",
      "Outliers Inferiores:\n",
      "Empty DataFrame\n",
      "Columns: [publisher, genres, title, release_date, tags, specs, price, early_access, id, developer]\n",
      "Index: []\n"
     ]
    }
   ],
   "source": [
    "outliersSuperiores = df[df['price'] > umbralSuperior]\n",
    "outliersInferiores = df[df['price'] < umbralInferior]\n",
    "print(\"Outliers Superiores:\")\n",
    "print(outliersSuperiores)\n",
    "\n",
    "print(\"\\nOutliers Inferiores:\")\n",
    "print(outliersInferiores)"
   ]
  },
  {
   "cell_type": "code",
   "execution_count": 31,
   "metadata": {},
   "outputs": [
    {
     "name": "stderr",
     "output_type": "stream",
     "text": [
      "C:\\Users\\1\\AppData\\Local\\Temp\\ipykernel_19628\\2470604683.py:3: FutureWarning: \n",
      "\n",
      "Passing `palette` without assigning `hue` is deprecated and will be removed in v0.14.0. Assign the `y` variable to `hue` and set `legend=False` for the same effect.\n",
      "\n",
      "  sns.boxplot(data=df, x='price',palette='RdBu_r')\n"
     ]
    },
    {
     "data": {
      "image/png": "[encoded data removed]",
      "text/plain": [
       "<Figure size 1400x400 with 1 Axes>"
      ]
     },
     "metadata": {},
     "output_type": "display_data"
    }
   ],
   "source": [
    "fig = plt.figure(figsize=(14, 4))\n",
    "\n",
    "sns.boxplot(data=df, x='price',palette='RdBu_r')\n",
    "plt.show()"
   ]
  },
  {
   "cell_type": "markdown",
   "metadata": {},
   "source": [
    "Observamos el boxplot de años de lanzamiento"
   ]
  },
  {
   "cell_type": "code",
   "execution_count": 32,
   "metadata": {},
   "outputs": [
    {
     "data": {
      "image/png": "[encoded data removed]",
      "text/plain": [
       "<Figure size 640x480 with 1 Axes>"
      ]
     },
     "metadata": {},
     "output_type": "display_data"
    }
   ],
   "source": [
    "sns.boxplot(x=df['release_date'])\n",
    "plt.title('Boxplot de Años de Lanzamiento')\n",
    "plt.xlabel('Año de Lanzamiento')\n",
    "plt.show()"
   ]
  },
  {
   "cell_type": "code",
   "execution_count": 33,
   "metadata": {},
   "outputs": [
    {
     "data": {
      "image/png": "[encoded data removed]",
      "text/plain": [
       "<Figure size 640x480 with 1 Axes>"
      ]
     },
     "metadata": {},
     "output_type": "display_data"
    }
   ],
   "source": [
    "sns.violinplot(x=df['release_date'])\n",
    "plt.title('Violinplot de Años de Lanzamiento')\n",
    "plt.xlabel('Año de Lanzamiento')\n",
    "plt.show()\n"
   ]
  },
  {
   "cell_type": "markdown",
   "metadata": {},
   "source": [
    "Una dispersión de precio vs fecha de lanzamiento, para un detallado analisis"
   ]
  },
  {
   "cell_type": "code",
   "execution_count": 34,
   "metadata": {},
   "outputs": [
    {
     "data": {
      "image/png": "[encoded data removed]",
      "text/plain": [
       "<Figure size 1200x600 with 2 Axes>"
      ]
     },
     "metadata": {},
     "output_type": "display_data"
    }
   ],
   "source": [
    "fig, (ax1, ax2) = plt.subplots(1, 2, figsize=(12, 6))\n",
    "\n",
    "ax1.boxplot(df['price'])\n",
    "ax1.set_xlabel('Precios')\n",
    "ax1.set_title('Gráfico de Caja de Precios')\n",
    "\n",
    "sns.scatterplot(x=df['price'], y=df['release_date'], data=df, ax=ax2)\n",
    "ax2.set_xlabel('Precios')\n",
    "ax2.set_ylabel('Fecha de Lanzamiento')\n",
    "ax2.set_title('Gráfico de Dispersión de Precio vs. Fecha de Lanzamiento')\n",
    "\n",
    "plt.tight_layout()\n",
    "plt.show()"
   ]
  },
  {
   "cell_type": "markdown",
   "metadata": {},
   "source": [
    "## EDA del archivo analisis_sentiment"
   ]
  },
  {
   "cell_type": "code",
   "execution_count": 86,
   "metadata": {},
   "outputs": [],
   "source": [
    "archivo=pd.read_parquet(\"../DataSets/Sentiment_Analisis.parquet\")"
   ]
  },
  {
   "cell_type": "code",
   "execution_count": 87,
   "metadata": {},
   "outputs": [
    {
     "data": {
      "text/html": [
       "<div>\n",
       "<style scoped>\n",
       "    .dataframe tbody tr th:only-of-type {\n",
       "        vertical-align: middle;\n",
       "    }\n",
       "\n",
       "    .dataframe tbody tr th {\n",
       "        vertical-align: top;\n",
       "    }\n",
       "\n",
       "    .dataframe thead th {\n",
       "        text-align: right;\n",
       "    }\n",
       "</style>\n",
       "<table border=\"1\" class=\"dataframe\">\n",
       "  <thead>\n",
       "    <tr style=\"text-align: right;\">\n",
       "      <th></th>\n",
       "      <th>user_id</th>\n",
       "      <th>funny</th>\n",
       "      <th>posted</th>\n",
       "      <th>last_edited</th>\n",
       "      <th>item_id</th>\n",
       "      <th>helpful</th>\n",
       "      <th>recommend</th>\n",
       "      <th>sentiment_analisis</th>\n",
       "    </tr>\n",
       "  </thead>\n",
       "  <tbody>\n",
       "    <tr>\n",
       "      <th>0</th>\n",
       "      <td>76561197970982479</td>\n",
       "      <td>None</td>\n",
       "      <td>2011-11-05</td>\n",
       "      <td>None</td>\n",
       "      <td>1250</td>\n",
       "      <td>No ratings yet</td>\n",
       "      <td>True</td>\n",
       "      <td>2</td>\n",
       "    </tr>\n",
       "    <tr>\n",
       "      <th>1</th>\n",
       "      <td>76561197970982479</td>\n",
       "      <td>None</td>\n",
       "      <td>2011-07-15</td>\n",
       "      <td>None</td>\n",
       "      <td>22200</td>\n",
       "      <td>No ratings yet</td>\n",
       "      <td>True</td>\n",
       "      <td>2</td>\n",
       "    </tr>\n",
       "    <tr>\n",
       "      <th>2</th>\n",
       "      <td>76561197970982479</td>\n",
       "      <td>None</td>\n",
       "      <td>2011-04-21</td>\n",
       "      <td>None</td>\n",
       "      <td>43110</td>\n",
       "      <td>No ratings yet</td>\n",
       "      <td>True</td>\n",
       "      <td>2</td>\n",
       "    </tr>\n",
       "    <tr>\n",
       "      <th>3</th>\n",
       "      <td>js41637</td>\n",
       "      <td>None</td>\n",
       "      <td>2014-06-24</td>\n",
       "      <td>None</td>\n",
       "      <td>251610</td>\n",
       "      <td>15 of 20 people (75%) found this review helpful</td>\n",
       "      <td>True</td>\n",
       "      <td>2</td>\n",
       "    </tr>\n",
       "    <tr>\n",
       "      <th>4</th>\n",
       "      <td>js41637</td>\n",
       "      <td>None</td>\n",
       "      <td>2013-09-08</td>\n",
       "      <td>None</td>\n",
       "      <td>227300</td>\n",
       "      <td>0 of 1 people (0%) found this review helpful</td>\n",
       "      <td>True</td>\n",
       "      <td>2</td>\n",
       "    </tr>\n",
       "  </tbody>\n",
       "</table>\n",
       "</div>"
      ],
      "text/plain": [
       "             user_id funny      posted last_edited  item_id  \\\n",
       "0  76561197970982479  None  2011-11-05        None     1250   \n",
       "1  76561197970982479  None  2011-07-15        None    22200   \n",
       "2  76561197970982479  None  2011-04-21        None    43110   \n",
       "3            js41637  None  2014-06-24        None   251610   \n",
       "4            js41637  None  2013-09-08        None   227300   \n",
       "\n",
       "                                           helpful  recommend  \\\n",
       "0                                   No ratings yet       True   \n",
       "1                                   No ratings yet       True   \n",
       "2                                   No ratings yet       True   \n",
       "3  15 of 20 people (75%) found this review helpful       True   \n",
       "4     0 of 1 people (0%) found this review helpful       True   \n",
       "\n",
       "   sentiment_analisis  \n",
       "0                   2  \n",
       "1                   2  \n",
       "2                   2  \n",
       "3                   2  \n",
       "4                   2  "
      ]
     },
     "execution_count": 87,
     "metadata": {},
     "output_type": "execute_result"
    }
   ],
   "source": [
    "archivo.head()"
   ]
  },
  {
   "cell_type": "code",
   "execution_count": 37,
   "metadata": {},
   "outputs": [
    {
     "name": "stdout",
     "output_type": "stream",
     "text": [
      "<class 'pandas.core.frame.DataFrame'>\n",
      "RangeIndex: 59161 entries, 0 to 59160\n",
      "Data columns (total 9 columns):\n",
      " #   Column              Non-Null Count  Dtype \n",
      "---  ------              --------------  ----- \n",
      " 0   user_id             59161 non-null  object\n",
      " 1   funny               8127 non-null   object\n",
      " 2   posted              49070 non-null  object\n",
      " 3   last_edited         6123 non-null   object\n",
      " 4   item_id             59161 non-null  int64 \n",
      " 5   helpful             59161 non-null  object\n",
      " 6   recommend           59161 non-null  bool  \n",
      " 7   review              59131 non-null  object\n",
      " 8   sentiment_analisis  59161 non-null  int64 \n",
      "dtypes: bool(1), int64(2), object(6)\n",
      "memory usage: 3.7+ MB\n"
     ]
    }
   ],
   "source": [
    "archivo.info()"
   ]
  },
  {
   "cell_type": "markdown",
   "metadata": {},
   "source": [
    "Creamos funciones que nos ayude con los nulos"
   ]
  },
  {
   "cell_type": "code",
   "execution_count": 88,
   "metadata": {},
   "outputs": [],
   "source": [
    "def explore_null_values(parquet_file):\n",
    "    \"\"\"\n",
    "    Explora un archivo Parquet en busca de datos nulos e informa sobre ellos.\n",
    "\n",
    "    Parameters:\n",
    "    - parquet_file: Ruta del archivo Parquet.\n",
    "\n",
    "    Returns:\n",
    "    - DataFrame que muestra las columnas con datos nulos y la cantidad de valores nulos en cada columna.\n",
    "    \"\"\"\n",
    " \n",
    "\n",
    "    # Identificar columnas con valores nulos y contar la cantidad de valores nulos en cada columna\n",
    "    null_info = parquet_file.isnull().sum().reset_index()\n",
    "    null_info.columns = ['Columna', 'Valores Nulos']\n",
    "\n",
    "    # Filtrar solo las columnas con valores nulos\n",
    "    null_info = null_info[null_info['Valores Nulos'] > 0]\n",
    "\n",
    "    return null_info\n",
    "\n",
    "\n",
    "\n",
    "def drop_columns(data, column1, column2):\n",
    "    \"\"\"\n",
    "    Elimina dos columnas específicas de un DataFrame.\n",
    "\n",
    "    Parameters:\n",
    "    - data: DataFrame con los datos.\n",
    "    - column1: Nombre de la primera columna a eliminar.\n",
    "    - column2: Nombre de la segunda columna a eliminar.\n",
    "\n",
    "    Returns:\n",
    "    - DataFrame después de eliminar las columnas.\n",
    "    \"\"\"\n",
    "    # Copiar el DataFrame para no modificar el original\n",
    "    cleaned_data = data.copy()\n",
    "\n",
    "    # Eliminar las columnas especificadas\n",
    "    cleaned_data.drop(columns=[column1, column2], inplace=True)\n",
    "\n",
    "    return cleaned_data\n",
    "\n",
    "\n",
    "\n",
    "\n",
    "def process_and_convert_to_int(data, column_name):\n",
    "    \"\"\"\n",
    "    Inspecciona una columna de fechas en un DataFrame.\n",
    "    Extrae solo el año de la cadena en formato de fecha, ignora los datos None y nulos,\n",
    "    toma la media de los años con el entero más cercano para colocar en los valores None y nulos,\n",
    "    y convierte todos los valores a tipo entero.\n",
    "\n",
    "    Parameters:\n",
    "    - data: DataFrame con los datos.\n",
    "    - column_name: Nombre de la columna de fechas.\n",
    "\n",
    "    Returns:\n",
    "    - DataFrame después de procesar y convertir la columna de fechas a tipo entero.\n",
    "    \"\"\"\n",
    "    # Copiar el DataFrame para no modificar el original\n",
    "    processed_data = data.copy()\n",
    "\n",
    "    # Extraer solo el año de la cadena en formato de fecha, ignorando None y nulos\n",
    "    processed_data[column_name] = pd.to_datetime(processed_data[column_name], errors='coerce').dt.year\n",
    "\n",
    "    # Calcular la media de los años con el entero más cercano\n",
    "    mean_year = round(processed_data[column_name].mean())\n",
    "\n",
    "    # Reemplazar los valores None y nulos con la media de los años\n",
    "    processed_data[column_name] = processed_data[column_name].apply(lambda x: mean_year if pd.isnull(x) else x)\n",
    "\n",
    "    # Convertir todos los valores a tipo entero\n",
    "    processed_data[column_name] = processed_data[column_name].astype(int)\n",
    "\n",
    "    return processed_data\n",
    "\n",
    "\n",
    "\n",
    "\n",
    "\n",
    "\n",
    "def convert_int_column_to_year(data, column_name):\n",
    "    \"\"\"\n",
    "    Convierte una columna de tipo entero a tipo fecha (date) y conserva solo el año.\n",
    "    Supone que los valores en la columna representan años.\n",
    "\n",
    "    Parameters:\n",
    "    - data: DataFrame con los datos.\n",
    "    - column_name: Nombre de la columna de tipo entero.\n",
    "\n",
    "    Returns:\n",
    "    - DataFrame con la columna convertida a tipo fecha y conservando solo el año.\n",
    "    \"\"\"\n",
    "    # Copiar el DataFrame para no modificar el original\n",
    "    processed_data = data.copy()\n",
    "\n",
    "    # Convertir la columna de tipo entero a tipo fecha\n",
    "    processed_data[column_name] = pd.to_datetime(processed_data[column_name], format='%Y', errors='coerce')\n",
    "\n",
    "    # Conservar solo el año\n",
    "    processed_data[column_name] = processed_data[column_name].dt.year\n",
    "\n",
    "    return processed_data\n",
    "\n",
    "\n",
    "\n",
    "\n",
    "\n"
   ]
  },
  {
   "cell_type": "code",
   "execution_count": 89,
   "metadata": {},
   "outputs": [
    {
     "data": {
      "text/html": [
       "<div>\n",
       "<style scoped>\n",
       "    .dataframe tbody tr th:only-of-type {\n",
       "        vertical-align: middle;\n",
       "    }\n",
       "\n",
       "    .dataframe tbody tr th {\n",
       "        vertical-align: top;\n",
       "    }\n",
       "\n",
       "    .dataframe thead th {\n",
       "        text-align: right;\n",
       "    }\n",
       "</style>\n",
       "<table border=\"1\" class=\"dataframe\">\n",
       "  <thead>\n",
       "    <tr style=\"text-align: right;\">\n",
       "      <th></th>\n",
       "      <th>Columna</th>\n",
       "      <th>Valores Nulos</th>\n",
       "    </tr>\n",
       "  </thead>\n",
       "  <tbody>\n",
       "    <tr>\n",
       "      <th>1</th>\n",
       "      <td>funny</td>\n",
       "      <td>51034</td>\n",
       "    </tr>\n",
       "    <tr>\n",
       "      <th>2</th>\n",
       "      <td>posted</td>\n",
       "      <td>10091</td>\n",
       "    </tr>\n",
       "    <tr>\n",
       "      <th>3</th>\n",
       "      <td>last_edited</td>\n",
       "      <td>53038</td>\n",
       "    </tr>\n",
       "  </tbody>\n",
       "</table>\n",
       "</div>"
      ],
      "text/plain": [
       "       Columna  Valores Nulos\n",
       "1        funny          51034\n",
       "2       posted          10091\n",
       "3  last_edited          53038"
      ]
     },
     "execution_count": 89,
     "metadata": {},
     "output_type": "execute_result"
    }
   ],
   "source": [
    "explore_null_values(archivo)"
   ]
  },
  {
   "cell_type": "markdown",
   "metadata": {},
   "source": [
    "Se procede a limpiar los datos nulos de las columnas funny y last_edited, que representan un gran porcentaje de nuestro parquet"
   ]
  },
  {
   "cell_type": "code",
   "execution_count": 90,
   "metadata": {},
   "outputs": [],
   "source": [
    "archivoLimpio=drop_columns(archivo, column1=\"last_edited\", column2=\"funny\")"
   ]
  },
  {
   "cell_type": "code",
   "execution_count": 91,
   "metadata": {},
   "outputs": [
    {
     "data": {
      "text/html": [
       "<div>\n",
       "<style scoped>\n",
       "    .dataframe tbody tr th:only-of-type {\n",
       "        vertical-align: middle;\n",
       "    }\n",
       "\n",
       "    .dataframe tbody tr th {\n",
       "        vertical-align: top;\n",
       "    }\n",
       "\n",
       "    .dataframe thead th {\n",
       "        text-align: right;\n",
       "    }\n",
       "</style>\n",
       "<table border=\"1\" class=\"dataframe\">\n",
       "  <thead>\n",
       "    <tr style=\"text-align: right;\">\n",
       "      <th></th>\n",
       "      <th>Columna</th>\n",
       "      <th>Valores Nulos</th>\n",
       "    </tr>\n",
       "  </thead>\n",
       "  <tbody>\n",
       "    <tr>\n",
       "      <th>1</th>\n",
       "      <td>posted</td>\n",
       "      <td>10091</td>\n",
       "    </tr>\n",
       "  </tbody>\n",
       "</table>\n",
       "</div>"
      ],
      "text/plain": [
       "  Columna  Valores Nulos\n",
       "1  posted          10091"
      ]
     },
     "execution_count": 91,
     "metadata": {},
     "output_type": "execute_result"
    }
   ],
   "source": [
    "explore_null_values(archivoLimpio)"
   ]
  },
  {
   "cell_type": "code",
   "execution_count": 92,
   "metadata": {},
   "outputs": [
    {
     "data": {
      "text/html": [
       "<div>\n",
       "<style scoped>\n",
       "    .dataframe tbody tr th:only-of-type {\n",
       "        vertical-align: middle;\n",
       "    }\n",
       "\n",
       "    .dataframe tbody tr th {\n",
       "        vertical-align: top;\n",
       "    }\n",
       "\n",
       "    .dataframe thead th {\n",
       "        text-align: right;\n",
       "    }\n",
       "</style>\n",
       "<table border=\"1\" class=\"dataframe\">\n",
       "  <thead>\n",
       "    <tr style=\"text-align: right;\">\n",
       "      <th></th>\n",
       "      <th>user_id</th>\n",
       "      <th>posted</th>\n",
       "      <th>item_id</th>\n",
       "      <th>helpful</th>\n",
       "      <th>recommend</th>\n",
       "      <th>sentiment_analisis</th>\n",
       "    </tr>\n",
       "  </thead>\n",
       "  <tbody>\n",
       "    <tr>\n",
       "      <th>0</th>\n",
       "      <td>76561197970982479</td>\n",
       "      <td>2011-11-05</td>\n",
       "      <td>1250</td>\n",
       "      <td>No ratings yet</td>\n",
       "      <td>True</td>\n",
       "      <td>2</td>\n",
       "    </tr>\n",
       "    <tr>\n",
       "      <th>1</th>\n",
       "      <td>76561197970982479</td>\n",
       "      <td>2011-07-15</td>\n",
       "      <td>22200</td>\n",
       "      <td>No ratings yet</td>\n",
       "      <td>True</td>\n",
       "      <td>2</td>\n",
       "    </tr>\n",
       "    <tr>\n",
       "      <th>2</th>\n",
       "      <td>76561197970982479</td>\n",
       "      <td>2011-04-21</td>\n",
       "      <td>43110</td>\n",
       "      <td>No ratings yet</td>\n",
       "      <td>True</td>\n",
       "      <td>2</td>\n",
       "    </tr>\n",
       "    <tr>\n",
       "      <th>3</th>\n",
       "      <td>js41637</td>\n",
       "      <td>2014-06-24</td>\n",
       "      <td>251610</td>\n",
       "      <td>15 of 20 people (75%) found this review helpful</td>\n",
       "      <td>True</td>\n",
       "      <td>2</td>\n",
       "    </tr>\n",
       "    <tr>\n",
       "      <th>4</th>\n",
       "      <td>js41637</td>\n",
       "      <td>2013-09-08</td>\n",
       "      <td>227300</td>\n",
       "      <td>0 of 1 people (0%) found this review helpful</td>\n",
       "      <td>True</td>\n",
       "      <td>2</td>\n",
       "    </tr>\n",
       "    <tr>\n",
       "      <th>...</th>\n",
       "      <td>...</td>\n",
       "      <td>...</td>\n",
       "      <td>...</td>\n",
       "      <td>...</td>\n",
       "      <td>...</td>\n",
       "      <td>...</td>\n",
       "    </tr>\n",
       "    <tr>\n",
       "      <th>59156</th>\n",
       "      <td>Fuckfhaisjnsnsjakaka</td>\n",
       "      <td>None</td>\n",
       "      <td>70</td>\n",
       "      <td>No ratings yet</td>\n",
       "      <td>True</td>\n",
       "      <td>2</td>\n",
       "    </tr>\n",
       "    <tr>\n",
       "      <th>59157</th>\n",
       "      <td>3214213216</td>\n",
       "      <td>None</td>\n",
       "      <td>362890</td>\n",
       "      <td>No ratings yet</td>\n",
       "      <td>True</td>\n",
       "      <td>2</td>\n",
       "    </tr>\n",
       "    <tr>\n",
       "      <th>59158</th>\n",
       "      <td>ChrisCoroner</td>\n",
       "      <td>None</td>\n",
       "      <td>273110</td>\n",
       "      <td>1 of 2 people (50%) found this review helpful</td>\n",
       "      <td>True</td>\n",
       "      <td>2</td>\n",
       "    </tr>\n",
       "    <tr>\n",
       "      <th>59159</th>\n",
       "      <td>CaptainAmericaCw</td>\n",
       "      <td>None</td>\n",
       "      <td>730</td>\n",
       "      <td>No ratings yet</td>\n",
       "      <td>True</td>\n",
       "      <td>2</td>\n",
       "    </tr>\n",
       "    <tr>\n",
       "      <th>59160</th>\n",
       "      <td>76561198267374962</td>\n",
       "      <td>None</td>\n",
       "      <td>440</td>\n",
       "      <td>No ratings yet</td>\n",
       "      <td>True</td>\n",
       "      <td>2</td>\n",
       "    </tr>\n",
       "  </tbody>\n",
       "</table>\n",
       "<p>59161 rows × 6 columns</p>\n",
       "</div>"
      ],
      "text/plain": [
       "                    user_id      posted  item_id  \\\n",
       "0         76561197970982479  2011-11-05     1250   \n",
       "1         76561197970982479  2011-07-15    22200   \n",
       "2         76561197970982479  2011-04-21    43110   \n",
       "3                   js41637  2014-06-24   251610   \n",
       "4                   js41637  2013-09-08   227300   \n",
       "...                     ...         ...      ...   \n",
       "59156  Fuckfhaisjnsnsjakaka        None       70   \n",
       "59157            3214213216        None   362890   \n",
       "59158          ChrisCoroner        None   273110   \n",
       "59159      CaptainAmericaCw        None      730   \n",
       "59160     76561198267374962        None      440   \n",
       "\n",
       "                                               helpful  recommend  \\\n",
       "0                                       No ratings yet       True   \n",
       "1                                       No ratings yet       True   \n",
       "2                                       No ratings yet       True   \n",
       "3      15 of 20 people (75%) found this review helpful       True   \n",
       "4         0 of 1 people (0%) found this review helpful       True   \n",
       "...                                                ...        ...   \n",
       "59156                                   No ratings yet       True   \n",
       "59157                                   No ratings yet       True   \n",
       "59158    1 of 2 people (50%) found this review helpful       True   \n",
       "59159                                   No ratings yet       True   \n",
       "59160                                   No ratings yet       True   \n",
       "\n",
       "       sentiment_analisis  \n",
       "0                       2  \n",
       "1                       2  \n",
       "2                       2  \n",
       "3                       2  \n",
       "4                       2  \n",
       "...                   ...  \n",
       "59156                   2  \n",
       "59157                   2  \n",
       "59158                   2  \n",
       "59159                   2  \n",
       "59160                   2  \n",
       "\n",
       "[59161 rows x 6 columns]"
      ]
     },
     "execution_count": 92,
     "metadata": {},
     "output_type": "execute_result"
    }
   ],
   "source": [
    "archivoLimpio"
   ]
  },
  {
   "cell_type": "markdown",
   "metadata": {},
   "source": [
    "Iniciamos la conversión de la columna posted"
   ]
  },
  {
   "cell_type": "code",
   "execution_count": 93,
   "metadata": {},
   "outputs": [],
   "source": [
    "sentimentAnalisis=process_and_convert_to_int(archivoLimpio, column_name=\"posted\")"
   ]
  },
  {
   "cell_type": "code",
   "execution_count": 94,
   "metadata": {},
   "outputs": [],
   "source": [
    "ArchivoFinal=convert_int_column_to_year(sentimentAnalisis, column_name=\"posted\")"
   ]
  },
  {
   "cell_type": "code",
   "execution_count": 45,
   "metadata": {},
   "outputs": [
    {
     "name": "stdout",
     "output_type": "stream",
     "text": [
      "<class 'pandas.core.frame.DataFrame'>\n",
      "RangeIndex: 59161 entries, 0 to 59160\n",
      "Data columns (total 7 columns):\n",
      " #   Column              Non-Null Count  Dtype \n",
      "---  ------              --------------  ----- \n",
      " 0   user_id             59161 non-null  object\n",
      " 1   posted              59161 non-null  int64 \n",
      " 2   item_id             59161 non-null  int64 \n",
      " 3   helpful             59161 non-null  object\n",
      " 4   recommend           59161 non-null  bool  \n",
      " 5   review              59131 non-null  object\n",
      " 6   sentiment_analisis  59161 non-null  int64 \n",
      "dtypes: bool(1), int64(3), object(3)\n",
      "memory usage: 2.8+ MB\n"
     ]
    }
   ],
   "source": [
    "ArchivoFinal.info()"
   ]
  },
  {
   "cell_type": "markdown",
   "metadata": {},
   "source": [
    "convertimos nuestro archivo final a parquet para el modelo\n"
   ]
  },
  {
   "cell_type": "code",
   "execution_count": 95,
   "metadata": {},
   "outputs": [],
   "source": [
    "ArchivoFinal.to_parquet(\"../DatosML/sentiment_analisis_limpio.parquet\")"
   ]
  },
  {
   "cell_type": "markdown",
   "metadata": {},
   "source": [
    "## Iniciamos la exploración, relación y pre procesamiento del modelo para todos los archivos"
   ]
  },
  {
   "cell_type": "code",
   "execution_count": 96,
   "metadata": {},
   "outputs": [
    {
     "name": "stdout",
     "output_type": "stream",
     "text": [
      "<class 'pandas.core.frame.DataFrame'>\n",
      "RangeIndex: 59161 entries, 0 to 59160\n",
      "Data columns (total 8 columns):\n",
      " #   Column       Non-Null Count  Dtype \n",
      "---  ------       --------------  ----- \n",
      " 0   user_id      59161 non-null  object\n",
      " 1   funny        8127 non-null   object\n",
      " 2   posted       49070 non-null  object\n",
      " 3   last_edited  6123 non-null   object\n",
      " 4   item_id      59161 non-null  int64 \n",
      " 5   helpful      59161 non-null  object\n",
      " 6   recommend    59161 non-null  bool  \n",
      " 7   review       59131 non-null  object\n",
      "dtypes: bool(1), int64(1), object(6)\n",
      "memory usage: 3.2+ MB\n"
     ]
    }
   ],
   "source": [
    "df2.info()"
   ]
  },
  {
   "cell_type": "code",
   "execution_count": 97,
   "metadata": {},
   "outputs": [
    {
     "name": "stdout",
     "output_type": "stream",
     "text": [
      "<class 'pandas.core.frame.DataFrame'>\n",
      "RangeIndex: 5094105 entries, 0 to 5094104\n",
      "Data columns (total 7 columns):\n",
      " #   Column            Dtype \n",
      "---  ------            ----- \n",
      " 0   item_id           int64 \n",
      " 1   item_name         object\n",
      " 2   playtime_forever  int64 \n",
      " 3   playtime_2weeks   int64 \n",
      " 4   steam_id          int64 \n",
      " 5   items_count       int64 \n",
      " 6   user_id           object\n",
      "dtypes: int64(5), object(2)\n",
      "memory usage: 272.1+ MB\n"
     ]
    }
   ],
   "source": [
    "df3.info()"
   ]
  },
  {
   "cell_type": "code",
   "execution_count": 98,
   "metadata": {},
   "outputs": [
    {
     "name": "stdout",
     "output_type": "stream",
     "text": [
      "<class 'pandas.core.frame.DataFrame'>\n",
      "RangeIndex: 59161 entries, 0 to 59160\n",
      "Data columns (total 6 columns):\n",
      " #   Column              Non-Null Count  Dtype \n",
      "---  ------              --------------  ----- \n",
      " 0   user_id             59161 non-null  object\n",
      " 1   posted              59161 non-null  int32 \n",
      " 2   item_id             59161 non-null  int64 \n",
      " 3   helpful             59161 non-null  object\n",
      " 4   recommend           59161 non-null  bool  \n",
      " 5   sentiment_analisis  59161 non-null  int64 \n",
      "dtypes: bool(1), int32(1), int64(2), object(2)\n",
      "memory usage: 2.1+ MB\n"
     ]
    }
   ],
   "source": [
    "sentimentAnalisis.info()"
   ]
  },
  {
   "cell_type": "code",
   "execution_count": 99,
   "metadata": {},
   "outputs": [
    {
     "data": {
      "text/plain": [
       "2    36879\n",
       "1    13054\n",
       "0     9228\n",
       "Name: sentiment_analisis, dtype: int64"
      ]
     },
     "execution_count": 99,
     "metadata": {},
     "output_type": "execute_result"
    }
   ],
   "source": [
    "#realizo el conteo de cada una de las categorias de sentimientos\n",
    "Sentimientos= ArchivoFinal[\"sentiment_analisis\"].value_counts()\n",
    "Sentimientos"
   ]
  },
  {
   "cell_type": "markdown",
   "metadata": {},
   "source": [
    "Distribución de sentimientos "
   ]
  },
  {
   "cell_type": "code",
   "execution_count": 100,
   "metadata": {},
   "outputs": [
    {
     "data": {
      "image/png": "[encoded data removed]",
      "text/plain": [
       "<Figure size 1000x600 with 1 Axes>"
      ]
     },
     "metadata": {},
     "output_type": "display_data"
    },
    {
     "data": {
      "image/png": "[encoded data removed]",
      "text/plain": [
       "<Figure size 1000x600 with 1 Axes>"
      ]
     },
     "metadata": {},
     "output_type": "display_data"
    }
   ],
   "source": [
    "\n",
    "plt.figure(figsize=(10, 6))\n",
    "sns.countplot(x='sentiment_analisis', data=ArchivoFinal)\n",
    "plt.title('Distribución de Sentimientos')\n",
    "plt.xlabel('Sentimiento')\n",
    "plt.ylabel('Cantidad')\n",
    "plt.show()\n",
    "\n",
    "# Estadísticas para \"posted\"\n",
    "plt.figure(figsize=(10, 6))\n",
    "sns.boxplot(x='posted', data=ArchivoFinal)\n",
    "plt.title('Distribución de Fechas de Publicación')\n",
    "plt.xlabel('Fechas de Publicación')\n",
    "plt.show()"
   ]
  },
  {
   "cell_type": "markdown",
   "metadata": {},
   "source": [
    "## Iniciamos un procesamiento del archivo Items para nustro modelo junto con su exploración"
   ]
  },
  {
   "cell_type": "code",
   "execution_count": 101,
   "metadata": {},
   "outputs": [],
   "source": [
    "items=pd.read_csv(\"../DataSets/user_items_limpio.csv\")"
   ]
  },
  {
   "cell_type": "code",
   "execution_count": 102,
   "metadata": {},
   "outputs": [
    {
     "data": {
      "text/html": [
       "<div>\n",
       "<style scoped>\n",
       "    .dataframe tbody tr th:only-of-type {\n",
       "        vertical-align: middle;\n",
       "    }\n",
       "\n",
       "    .dataframe tbody tr th {\n",
       "        vertical-align: top;\n",
       "    }\n",
       "\n",
       "    .dataframe thead th {\n",
       "        text-align: right;\n",
       "    }\n",
       "</style>\n",
       "<table border=\"1\" class=\"dataframe\">\n",
       "  <thead>\n",
       "    <tr style=\"text-align: right;\">\n",
       "      <th></th>\n",
       "      <th>item_id</th>\n",
       "      <th>item_name</th>\n",
       "      <th>playtime_forever</th>\n",
       "      <th>playtime_2weeks</th>\n",
       "      <th>steam_id</th>\n",
       "      <th>items_count</th>\n",
       "      <th>user_id</th>\n",
       "    </tr>\n",
       "  </thead>\n",
       "  <tbody>\n",
       "    <tr>\n",
       "      <th>0</th>\n",
       "      <td>10</td>\n",
       "      <td>Counter-Strike</td>\n",
       "      <td>6</td>\n",
       "      <td>0</td>\n",
       "      <td>76561197970982479</td>\n",
       "      <td>277</td>\n",
       "      <td>76561197970982479</td>\n",
       "    </tr>\n",
       "    <tr>\n",
       "      <th>1</th>\n",
       "      <td>20</td>\n",
       "      <td>Team Fortress Classic</td>\n",
       "      <td>0</td>\n",
       "      <td>0</td>\n",
       "      <td>76561197970982479</td>\n",
       "      <td>277</td>\n",
       "      <td>76561197970982479</td>\n",
       "    </tr>\n",
       "    <tr>\n",
       "      <th>2</th>\n",
       "      <td>30</td>\n",
       "      <td>Day of Defeat</td>\n",
       "      <td>7</td>\n",
       "      <td>0</td>\n",
       "      <td>76561197970982479</td>\n",
       "      <td>277</td>\n",
       "      <td>76561197970982479</td>\n",
       "    </tr>\n",
       "    <tr>\n",
       "      <th>3</th>\n",
       "      <td>40</td>\n",
       "      <td>Deathmatch Classic</td>\n",
       "      <td>0</td>\n",
       "      <td>0</td>\n",
       "      <td>76561197970982479</td>\n",
       "      <td>277</td>\n",
       "      <td>76561197970982479</td>\n",
       "    </tr>\n",
       "    <tr>\n",
       "      <th>4</th>\n",
       "      <td>50</td>\n",
       "      <td>Half-Life: Opposing Force</td>\n",
       "      <td>0</td>\n",
       "      <td>0</td>\n",
       "      <td>76561197970982479</td>\n",
       "      <td>277</td>\n",
       "      <td>76561197970982479</td>\n",
       "    </tr>\n",
       "    <tr>\n",
       "      <th>...</th>\n",
       "      <td>...</td>\n",
       "      <td>...</td>\n",
       "      <td>...</td>\n",
       "      <td>...</td>\n",
       "      <td>...</td>\n",
       "      <td>...</td>\n",
       "      <td>...</td>\n",
       "    </tr>\n",
       "    <tr>\n",
       "      <th>5094100</th>\n",
       "      <td>346330</td>\n",
       "      <td>BrainBread 2</td>\n",
       "      <td>0</td>\n",
       "      <td>0</td>\n",
       "      <td>76561198329548331</td>\n",
       "      <td>7</td>\n",
       "      <td>76561198329548331</td>\n",
       "    </tr>\n",
       "    <tr>\n",
       "      <th>5094101</th>\n",
       "      <td>373330</td>\n",
       "      <td>All Is Dust</td>\n",
       "      <td>0</td>\n",
       "      <td>0</td>\n",
       "      <td>76561198329548331</td>\n",
       "      <td>7</td>\n",
       "      <td>76561198329548331</td>\n",
       "    </tr>\n",
       "    <tr>\n",
       "      <th>5094102</th>\n",
       "      <td>388490</td>\n",
       "      <td>One Way To Die: Steam Edition</td>\n",
       "      <td>3</td>\n",
       "      <td>3</td>\n",
       "      <td>76561198329548331</td>\n",
       "      <td>7</td>\n",
       "      <td>76561198329548331</td>\n",
       "    </tr>\n",
       "    <tr>\n",
       "      <th>5094103</th>\n",
       "      <td>521570</td>\n",
       "      <td>You Have 10 Seconds 2</td>\n",
       "      <td>4</td>\n",
       "      <td>4</td>\n",
       "      <td>76561198329548331</td>\n",
       "      <td>7</td>\n",
       "      <td>76561198329548331</td>\n",
       "    </tr>\n",
       "    <tr>\n",
       "      <th>5094104</th>\n",
       "      <td>519140</td>\n",
       "      <td>Minds Eyes</td>\n",
       "      <td>3</td>\n",
       "      <td>3</td>\n",
       "      <td>76561198329548331</td>\n",
       "      <td>7</td>\n",
       "      <td>76561198329548331</td>\n",
       "    </tr>\n",
       "  </tbody>\n",
       "</table>\n",
       "<p>5094105 rows × 7 columns</p>\n",
       "</div>"
      ],
      "text/plain": [
       "         item_id                      item_name  playtime_forever  \\\n",
       "0             10                 Counter-Strike                 6   \n",
       "1             20          Team Fortress Classic                 0   \n",
       "2             30                  Day of Defeat                 7   \n",
       "3             40             Deathmatch Classic                 0   \n",
       "4             50      Half-Life: Opposing Force                 0   \n",
       "...          ...                            ...               ...   \n",
       "5094100   346330                   BrainBread 2                 0   \n",
       "5094101   373330                    All Is Dust                 0   \n",
       "5094102   388490  One Way To Die: Steam Edition                 3   \n",
       "5094103   521570          You Have 10 Seconds 2                 4   \n",
       "5094104   519140                     Minds Eyes                 3   \n",
       "\n",
       "         playtime_2weeks           steam_id  items_count            user_id  \n",
       "0                      0  76561197970982479          277  76561197970982479  \n",
       "1                      0  76561197970982479          277  76561197970982479  \n",
       "2                      0  76561197970982479          277  76561197970982479  \n",
       "3                      0  76561197970982479          277  76561197970982479  \n",
       "4                      0  76561197970982479          277  76561197970982479  \n",
       "...                  ...                ...          ...                ...  \n",
       "5094100                0  76561198329548331            7  76561198329548331  \n",
       "5094101                0  76561198329548331            7  76561198329548331  \n",
       "5094102                3  76561198329548331            7  76561198329548331  \n",
       "5094103                4  76561198329548331            7  76561198329548331  \n",
       "5094104                3  76561198329548331            7  76561198329548331  \n",
       "\n",
       "[5094105 rows x 7 columns]"
      ]
     },
     "execution_count": 102,
     "metadata": {},
     "output_type": "execute_result"
    }
   ],
   "source": [
    "items"
   ]
  },
  {
   "cell_type": "code",
   "execution_count": 103,
   "metadata": {},
   "outputs": [
    {
     "data": {
      "text/html": [
       "<div>\n",
       "<style scoped>\n",
       "    .dataframe tbody tr th:only-of-type {\n",
       "        vertical-align: middle;\n",
       "    }\n",
       "\n",
       "    .dataframe tbody tr th {\n",
       "        vertical-align: top;\n",
       "    }\n",
       "\n",
       "    .dataframe thead th {\n",
       "        text-align: right;\n",
       "    }\n",
       "</style>\n",
       "<table border=\"1\" class=\"dataframe\">\n",
       "  <thead>\n",
       "    <tr style=\"text-align: right;\">\n",
       "      <th></th>\n",
       "      <th>items_count</th>\n",
       "    </tr>\n",
       "    <tr>\n",
       "      <th>user_id</th>\n",
       "      <th></th>\n",
       "    </tr>\n",
       "  </thead>\n",
       "  <tbody>\n",
       "    <tr>\n",
       "      <th>phrostb</th>\n",
       "      <td>7762</td>\n",
       "    </tr>\n",
       "    <tr>\n",
       "      <th>thugnificent</th>\n",
       "      <td>6700</td>\n",
       "    </tr>\n",
       "    <tr>\n",
       "      <th>chidvd</th>\n",
       "      <td>6410</td>\n",
       "    </tr>\n",
       "    <tr>\n",
       "      <th>piepai</th>\n",
       "      <td>6132</td>\n",
       "    </tr>\n",
       "    <tr>\n",
       "      <th>mayshowganmore</th>\n",
       "      <td>5027</td>\n",
       "    </tr>\n",
       "    <tr>\n",
       "      <th>...</th>\n",
       "      <td>...</td>\n",
       "    </tr>\n",
       "    <tr>\n",
       "      <th>76561198092978311</th>\n",
       "      <td>1</td>\n",
       "    </tr>\n",
       "    <tr>\n",
       "      <th>76561198092984441</th>\n",
       "      <td>1</td>\n",
       "    </tr>\n",
       "    <tr>\n",
       "      <th>76561198092985047</th>\n",
       "      <td>1</td>\n",
       "    </tr>\n",
       "    <tr>\n",
       "      <th>76561198092995747</th>\n",
       "      <td>1</td>\n",
       "    </tr>\n",
       "    <tr>\n",
       "      <th>JMCaesar</th>\n",
       "      <td>1</td>\n",
       "    </tr>\n",
       "  </tbody>\n",
       "</table>\n",
       "<p>70912 rows × 1 columns</p>\n",
       "</div>"
      ],
      "text/plain": [
       "                  items_count\n",
       "user_id                      \n",
       "phrostb                  7762\n",
       "thugnificent             6700\n",
       "chidvd                   6410\n",
       "piepai                   6132\n",
       "mayshowganmore           5027\n",
       "...                       ...\n",
       "76561198092978311           1\n",
       "76561198092984441           1\n",
       "76561198092985047           1\n",
       "76561198092995747           1\n",
       "JMCaesar                    1\n",
       "\n",
       "[70912 rows x 1 columns]"
      ]
     },
     "execution_count": 103,
     "metadata": {},
     "output_type": "execute_result"
    }
   ],
   "source": [
    "# Agrupa por usuario la cantidad de items, lo conviente en data frame y los ordena de mayor a menor\n",
    "items_count = items.groupby('user_id')['items_count'].unique().explode()\n",
    "items_count= pd.DataFrame(items_count)\n",
    "items_count_user = items_count.sort_values('items_count', ascending=False)\n",
    "items_count_user"
   ]
  },
  {
   "cell_type": "code",
   "execution_count": 104,
   "metadata": {},
   "outputs": [
    {
     "name": "stderr",
     "output_type": "stream",
     "text": [
      "C:\\Users\\1\\AppData\\Local\\Temp\\ipykernel_19628\\1073580718.py:8: FutureWarning: \n",
      "\n",
      "Passing `palette` without assigning `hue` is deprecated and will be removed in v0.14.0. Assign the `y` variable to `hue` and set `legend=False` for the same effect.\n",
      "\n",
      "  sns.boxplot(data=items_count_user, x='items_count', ax=ax2, palette=\"plasma\")\n"
     ]
    },
    {
     "data": {
      "image/png": "[encoded data removed]",
      "text/plain": [
       "<Figure size 1400x400 with 2 Axes>"
      ]
     },
     "metadata": {},
     "output_type": "display_data"
    }
   ],
   "source": [
    "fig = plt.figure(figsize=(14, 4))\n",
    "\n",
    "ax1 = fig.add_subplot(211)\n",
    "sns.stripplot(data=items_count_user, x='items_count', ax=ax1, color=\"orange\")\n",
    "ax1.set_xlabel('items_count') ; ax1.set_title('Cantidad de items por usuarios')\n",
    "\n",
    "ax2 = fig.add_subplot(212, sharex=ax1)\n",
    "sns.boxplot(data=items_count_user, x='items_count', ax=ax2, palette=\"plasma\")\n",
    "ax2.set_xlabel('items_count')\n",
    "\n",
    "# Muestra y ajustar el espaciado entre subplots\n",
    "plt.tight_layout()\n",
    "plt.show()"
   ]
  },
  {
   "cell_type": "markdown",
   "metadata": {},
   "source": [
    "Es de nuestro interes iniciar una exploración estadistica sobre el tiempo de juego y usuarios"
   ]
  },
  {
   "cell_type": "code",
   "execution_count": 105,
   "metadata": {},
   "outputs": [
    {
     "data": {
      "text/html": [
       "<div>\n",
       "<style scoped>\n",
       "    .dataframe tbody tr th:only-of-type {\n",
       "        vertical-align: middle;\n",
       "    }\n",
       "\n",
       "    .dataframe tbody tr th {\n",
       "        vertical-align: top;\n",
       "    }\n",
       "\n",
       "    .dataframe thead th {\n",
       "        text-align: right;\n",
       "    }\n",
       "</style>\n",
       "<table border=\"1\" class=\"dataframe\">\n",
       "  <thead>\n",
       "    <tr style=\"text-align: right;\">\n",
       "      <th></th>\n",
       "      <th>playtime_forever</th>\n",
       "    </tr>\n",
       "    <tr>\n",
       "      <th>user_id</th>\n",
       "      <th></th>\n",
       "    </tr>\n",
       "  </thead>\n",
       "  <tbody>\n",
       "    <tr>\n",
       "      <th>wolop</th>\n",
       "      <td>642773</td>\n",
       "    </tr>\n",
       "    <tr>\n",
       "      <th>Evilutional</th>\n",
       "      <td>635295</td>\n",
       "    </tr>\n",
       "    <tr>\n",
       "      <th>76561198019826668</th>\n",
       "      <td>632452</td>\n",
       "    </tr>\n",
       "    <tr>\n",
       "      <th>76561198039832932</th>\n",
       "      <td>613411</td>\n",
       "    </tr>\n",
       "    <tr>\n",
       "      <th>tsunamitad</th>\n",
       "      <td>600068</td>\n",
       "    </tr>\n",
       "    <tr>\n",
       "      <th>...</th>\n",
       "      <td>...</td>\n",
       "    </tr>\n",
       "    <tr>\n",
       "      <th>76561198031798372</th>\n",
       "      <td>0</td>\n",
       "    </tr>\n",
       "    <tr>\n",
       "      <th>Cjixeres</th>\n",
       "      <td>0</td>\n",
       "    </tr>\n",
       "    <tr>\n",
       "      <th>76561198085797241</th>\n",
       "      <td>0</td>\n",
       "    </tr>\n",
       "    <tr>\n",
       "      <th>nbohlsen</th>\n",
       "      <td>0</td>\n",
       "    </tr>\n",
       "    <tr>\n",
       "      <th>theonemlst</th>\n",
       "      <td>0</td>\n",
       "    </tr>\n",
       "  </tbody>\n",
       "</table>\n",
       "<p>2890282 rows × 1 columns</p>\n",
       "</div>"
      ],
      "text/plain": [
       "                  playtime_forever\n",
       "user_id                           \n",
       "wolop                       642773\n",
       "Evilutional                 635295\n",
       "76561198019826668           632452\n",
       "76561198039832932           613411\n",
       "tsunamitad                  600068\n",
       "...                            ...\n",
       "76561198031798372                0\n",
       "Cjixeres                         0\n",
       "76561198085797241                0\n",
       "nbohlsen                         0\n",
       "theonemlst                       0\n",
       "\n",
       "[2890282 rows x 1 columns]"
      ]
     },
     "execution_count": 105,
     "metadata": {},
     "output_type": "execute_result"
    }
   ],
   "source": [
    "#Agrupo usuarios por tiempo, lo guardo en un nuevo dataframe y ordeno \n",
    "time_count = items.groupby('user_id')['playtime_forever'].unique().explode()\n",
    "time_count= pd.DataFrame(time_count)\n",
    "time_count_user = time_count.sort_values('playtime_forever', ascending=False)\n",
    "time_count_user"
   ]
  },
  {
   "cell_type": "code",
   "execution_count": 135,
   "metadata": {},
   "outputs": [
    {
     "name": "stderr",
     "output_type": "stream",
     "text": [
      "C:\\Users\\1\\AppData\\Local\\Temp\\ipykernel_14380\\3739602563.py:8: FutureWarning: \n",
      "\n",
      "Passing `palette` without assigning `hue` is deprecated and will be removed in v0.14.0. Assign the `y` variable to `hue` and set `legend=False` for the same effect.\n",
      "\n",
      "  sns.boxplot(data=time_count_user, x='playtime_forever', ax=ax2, palette=\"plasma\")\n"
     ]
    },
    {
     "data": {
      "image/png": "[encoded data removed]",
      "text/plain": [
       "<Figure size 1400x400 with 2 Axes>"
      ]
     },
     "metadata": {},
     "output_type": "display_data"
    }
   ],
   "source": [
    "fig = plt.figure(figsize=(14, 4))\n",
    "\n",
    "ax1 = fig.add_subplot(211)\n",
    "sns.stripplot(data=time_count_user, x='playtime_forever', ax=ax1, color=\"orange\")\n",
    "ax1.set_xlabel('playtime_forever') ; ax1.set_title('Cantidad de tiempo por usuarios')\n",
    "\n",
    "ax2 = fig.add_subplot(212, sharex=ax1)\n",
    "sns.boxplot(data=time_count_user, x='playtime_forever', ax=ax2, palette=\"plasma\")\n",
    "ax2.set_xlabel('playtime_forever')\n",
    "\n",
    "# Muestra y ajustar el espaciado entre subplots\n",
    "plt.tight_layout()\n",
    "plt.show()"
   ]
  },
  {
   "cell_type": "markdown",
   "metadata": {},
   "source": [
    "## Tratamiento de datos para el modelo steam_Games"
   ]
  },
  {
   "cell_type": "code",
   "execution_count": 106,
   "metadata": {},
   "outputs": [],
   "source": [
    "games=pd.read_parquet(\"../DataSets/steam_games.parquet\")"
   ]
  },
  {
   "cell_type": "code",
   "execution_count": 107,
   "metadata": {},
   "outputs": [
    {
     "name": "stdout",
     "output_type": "stream",
     "text": [
      "<class 'pandas.core.frame.DataFrame'>\n",
      "RangeIndex: 67484 entries, 0 to 67483\n",
      "Data columns (total 10 columns):\n",
      " #   Column        Non-Null Count  Dtype  \n",
      "---  ------        --------------  -----  \n",
      " 0   publisher     67462 non-null  object \n",
      " 1   genres        67484 non-null  object \n",
      " 2   title         67484 non-null  object \n",
      " 3   release_date  67484 non-null  int64  \n",
      " 4   tags          67484 non-null  object \n",
      " 5   specs         67484 non-null  object \n",
      " 6   price         67484 non-null  float64\n",
      " 7   early_access  67484 non-null  bool   \n",
      " 8   id            67484 non-null  int64  \n",
      " 9   developer     67484 non-null  object \n",
      "dtypes: bool(1), float64(1), int64(2), object(6)\n",
      "memory usage: 4.7+ MB\n"
     ]
    }
   ],
   "source": [
    "games.info()"
   ]
  },
  {
   "cell_type": "markdown",
   "metadata": {},
   "source": [
    "Las columnas de nuestro interes son: id, title y genres, por lo que procedo a armar un dataframe con las mismas "
   ]
  },
  {
   "cell_type": "code",
   "execution_count": 108,
   "metadata": {},
   "outputs": [
    {
     "data": {
      "text/html": [
       "<div>\n",
       "<style scoped>\n",
       "    .dataframe tbody tr th:only-of-type {\n",
       "        vertical-align: middle;\n",
       "    }\n",
       "\n",
       "    .dataframe tbody tr th {\n",
       "        vertical-align: top;\n",
       "    }\n",
       "\n",
       "    .dataframe thead th {\n",
       "        text-align: right;\n",
       "    }\n",
       "</style>\n",
       "<table border=\"1\" class=\"dataframe\">\n",
       "  <thead>\n",
       "    <tr style=\"text-align: right;\">\n",
       "      <th></th>\n",
       "      <th>id</th>\n",
       "      <th>title</th>\n",
       "      <th>genres</th>\n",
       "    </tr>\n",
       "  </thead>\n",
       "  <tbody>\n",
       "    <tr>\n",
       "      <th>0</th>\n",
       "      <td>761140</td>\n",
       "      <td>Lost Summoner Kitty</td>\n",
       "      <td>Action</td>\n",
       "    </tr>\n",
       "    <tr>\n",
       "      <th>1</th>\n",
       "      <td>761140</td>\n",
       "      <td>Lost Summoner Kitty</td>\n",
       "      <td>Casual</td>\n",
       "    </tr>\n",
       "    <tr>\n",
       "      <th>2</th>\n",
       "      <td>761140</td>\n",
       "      <td>Lost Summoner Kitty</td>\n",
       "      <td>Indie</td>\n",
       "    </tr>\n",
       "    <tr>\n",
       "      <th>3</th>\n",
       "      <td>761140</td>\n",
       "      <td>Lost Summoner Kitty</td>\n",
       "      <td>Simulation</td>\n",
       "    </tr>\n",
       "    <tr>\n",
       "      <th>4</th>\n",
       "      <td>761140</td>\n",
       "      <td>Lost Summoner Kitty</td>\n",
       "      <td>Strategy</td>\n",
       "    </tr>\n",
       "    <tr>\n",
       "      <th>...</th>\n",
       "      <td>...</td>\n",
       "      <td>...</td>\n",
       "      <td>...</td>\n",
       "    </tr>\n",
       "    <tr>\n",
       "      <th>67479</th>\n",
       "      <td>610660</td>\n",
       "      <td>Russian Roads</td>\n",
       "      <td>Indie</td>\n",
       "    </tr>\n",
       "    <tr>\n",
       "      <th>67480</th>\n",
       "      <td>610660</td>\n",
       "      <td>Russian Roads</td>\n",
       "      <td>Racing</td>\n",
       "    </tr>\n",
       "    <tr>\n",
       "      <th>67481</th>\n",
       "      <td>610660</td>\n",
       "      <td>Russian Roads</td>\n",
       "      <td>Simulation</td>\n",
       "    </tr>\n",
       "    <tr>\n",
       "      <th>67482</th>\n",
       "      <td>658870</td>\n",
       "      <td>EXIT 2 - Directions</td>\n",
       "      <td>Casual</td>\n",
       "    </tr>\n",
       "    <tr>\n",
       "      <th>67483</th>\n",
       "      <td>658870</td>\n",
       "      <td>EXIT 2 - Directions</td>\n",
       "      <td>Indie</td>\n",
       "    </tr>\n",
       "  </tbody>\n",
       "</table>\n",
       "<p>67484 rows × 3 columns</p>\n",
       "</div>"
      ],
      "text/plain": [
       "           id                title      genres\n",
       "0      761140  Lost Summoner Kitty      Action\n",
       "1      761140  Lost Summoner Kitty      Casual\n",
       "2      761140  Lost Summoner Kitty       Indie\n",
       "3      761140  Lost Summoner Kitty  Simulation\n",
       "4      761140  Lost Summoner Kitty    Strategy\n",
       "...       ...                  ...         ...\n",
       "67479  610660        Russian Roads       Indie\n",
       "67480  610660        Russian Roads      Racing\n",
       "67481  610660        Russian Roads  Simulation\n",
       "67482  658870  EXIT 2 - Directions      Casual\n",
       "67483  658870  EXIT 2 - Directions       Indie\n",
       "\n",
       "[67484 rows x 3 columns]"
      ]
     },
     "execution_count": 108,
     "metadata": {},
     "output_type": "execute_result"
    }
   ],
   "source": [
    "Modelo= games[[\"id\", \"title\", \"genres\"]]\n",
    "Modelo"
   ]
  },
  {
   "cell_type": "markdown",
   "metadata": {},
   "source": [
    "Exploramos nuestro archivo"
   ]
  },
  {
   "cell_type": "code",
   "execution_count": 109,
   "metadata": {},
   "outputs": [
    {
     "name": "stdout",
     "output_type": "stream",
     "text": [
      "<class 'pandas.core.frame.DataFrame'>\n",
      "RangeIndex: 67484 entries, 0 to 67483\n",
      "Data columns (total 3 columns):\n",
      " #   Column  Non-Null Count  Dtype \n",
      "---  ------  --------------  ----- \n",
      " 0   id      67484 non-null  int64 \n",
      " 1   title   67484 non-null  object\n",
      " 2   genres  67484 non-null  object\n",
      "dtypes: int64(1), object(2)\n",
      "memory usage: 1.5+ MB\n"
     ]
    }
   ],
   "source": [
    "Modelo.info()"
   ]
  },
  {
   "cell_type": "code",
   "execution_count": 110,
   "metadata": {},
   "outputs": [],
   "source": [
    "#Convertimos nuestro archivo a parquet y lo exportamos en la carpeta de DataM\n",
    "Modelo.to_parquet(\"../DatosML/ModeloGames.parquet\")"
   ]
  },
  {
   "cell_type": "markdown",
   "metadata": {},
   "source": [
    "---\n",
    "Miscelaneos y pruebas"
   ]
  },
  {
   "cell_type": "code",
   "execution_count": 111,
   "metadata": {},
   "outputs": [
    {
     "name": "stderr",
     "output_type": "stream",
     "text": [
      "[nltk_data] Downloading package vader_lexicon to\n",
      "[nltk_data]     C:\\Users\\1\\AppData\\Roaming\\nltk_data...\n",
      "[nltk_data]   Package vader_lexicon is already up-to-date!\n"
     ]
    },
    {
     "data": {
      "text/plain": [
       "True"
      ]
     },
     "execution_count": 111,
     "metadata": {},
     "output_type": "execute_result"
    }
   ],
   "source": [
    "nltk.download('vader_lexicon')\n"
   ]
  },
  {
   "cell_type": "code",
   "execution_count": 112,
   "metadata": {},
   "outputs": [],
   "source": [
    "analyzer = SentimentIntensityAnalyzer() "
   ]
  },
  {
   "cell_type": "code",
   "execution_count": 113,
   "metadata": {},
   "outputs": [
    {
     "data": {
      "text/html": [
       "<div>\n",
       "<style scoped>\n",
       "    .dataframe tbody tr th:only-of-type {\n",
       "        vertical-align: middle;\n",
       "    }\n",
       "\n",
       "    .dataframe tbody tr th {\n",
       "        vertical-align: top;\n",
       "    }\n",
       "\n",
       "    .dataframe thead th {\n",
       "        text-align: right;\n",
       "    }\n",
       "</style>\n",
       "<table border=\"1\" class=\"dataframe\">\n",
       "  <thead>\n",
       "    <tr style=\"text-align: right;\">\n",
       "      <th></th>\n",
       "      <th>user_id</th>\n",
       "      <th>funny</th>\n",
       "      <th>posted</th>\n",
       "      <th>last_edited</th>\n",
       "      <th>item_id</th>\n",
       "      <th>helpful</th>\n",
       "      <th>recommend</th>\n",
       "      <th>review</th>\n",
       "    </tr>\n",
       "  </thead>\n",
       "  <tbody>\n",
       "    <tr>\n",
       "      <th>59146</th>\n",
       "      <td>kimjongadam</td>\n",
       "      <td>None</td>\n",
       "      <td>None</td>\n",
       "      <td>None</td>\n",
       "      <td>413150</td>\n",
       "      <td>No ratings yet</td>\n",
       "      <td>True</td>\n",
       "      <td>I realy like this game it has gotten me to und...</td>\n",
       "    </tr>\n",
       "    <tr>\n",
       "      <th>59147</th>\n",
       "      <td>kimjongadam</td>\n",
       "      <td>None</td>\n",
       "      <td>None</td>\n",
       "      <td>None</td>\n",
       "      <td>242760</td>\n",
       "      <td>1 of 1 people (100%) found this review helpful</td>\n",
       "      <td>True</td>\n",
       "      <td>Good Game Play, encountered a problem with cli...</td>\n",
       "    </tr>\n",
       "    <tr>\n",
       "      <th>59148</th>\n",
       "      <td>kimjongadam</td>\n",
       "      <td>1 person found this review funny</td>\n",
       "      <td>None</td>\n",
       "      <td>None</td>\n",
       "      <td>427730</td>\n",
       "      <td>1 of 2 people (50%) found this review helpful</td>\n",
       "      <td>True</td>\n",
       "      <td>dont ask</td>\n",
       "    </tr>\n",
       "    <tr>\n",
       "      <th>59149</th>\n",
       "      <td>72947282842</td>\n",
       "      <td>None</td>\n",
       "      <td>None</td>\n",
       "      <td>None</td>\n",
       "      <td>280790</td>\n",
       "      <td>2 of 3 people (67%) found this review helpful</td>\n",
       "      <td>True</td>\n",
       "      <td>Great game, specially if you need to past time...</td>\n",
       "    </tr>\n",
       "    <tr>\n",
       "      <th>59150</th>\n",
       "      <td>ZaubieHunter23</td>\n",
       "      <td>None</td>\n",
       "      <td>None</td>\n",
       "      <td>None</td>\n",
       "      <td>570</td>\n",
       "      <td>No ratings yet</td>\n",
       "      <td>True</td>\n",
       "      <td>Good one</td>\n",
       "    </tr>\n",
       "    <tr>\n",
       "      <th>59151</th>\n",
       "      <td>ApxLGhost</td>\n",
       "      <td>None</td>\n",
       "      <td>None</td>\n",
       "      <td>None</td>\n",
       "      <td>261030</td>\n",
       "      <td>0 of 1 people (0%) found this review helpful</td>\n",
       "      <td>True</td>\n",
       "      <td>I cried in the end its so sadding ]'; I wish l...</td>\n",
       "    </tr>\n",
       "    <tr>\n",
       "      <th>59152</th>\n",
       "      <td>iwishihadaids</td>\n",
       "      <td>None</td>\n",
       "      <td>None</td>\n",
       "      <td>None</td>\n",
       "      <td>730</td>\n",
       "      <td>0 of 1 people (0%) found this review helpful</td>\n",
       "      <td>True</td>\n",
       "      <td>Gra naprawdę fajna.Ale jest kilka rzeczy do kt...</td>\n",
       "    </tr>\n",
       "    <tr>\n",
       "      <th>59153</th>\n",
       "      <td>76561198261200685</td>\n",
       "      <td>1 person found this review funny</td>\n",
       "      <td>None</td>\n",
       "      <td>None</td>\n",
       "      <td>570</td>\n",
       "      <td>1 of 1 people (100%) found this review helpful</td>\n",
       "      <td>True</td>\n",
       "      <td>Well Done</td>\n",
       "    </tr>\n",
       "    <tr>\n",
       "      <th>59154</th>\n",
       "      <td>SenpaiDemon</td>\n",
       "      <td>None</td>\n",
       "      <td>None</td>\n",
       "      <td>None</td>\n",
       "      <td>233270</td>\n",
       "      <td>No ratings yet</td>\n",
       "      <td>True</td>\n",
       "      <td>this is a very fun and nice 80s themed shooter...</td>\n",
       "    </tr>\n",
       "    <tr>\n",
       "      <th>59155</th>\n",
       "      <td>snarkcornwtt</td>\n",
       "      <td>None</td>\n",
       "      <td>None</td>\n",
       "      <td>None</td>\n",
       "      <td>130</td>\n",
       "      <td>No ratings yet</td>\n",
       "      <td>True</td>\n",
       "      <td>if you liked Half life i would really recommen...</td>\n",
       "    </tr>\n",
       "    <tr>\n",
       "      <th>59156</th>\n",
       "      <td>Fuckfhaisjnsnsjakaka</td>\n",
       "      <td>None</td>\n",
       "      <td>None</td>\n",
       "      <td>None</td>\n",
       "      <td>70</td>\n",
       "      <td>No ratings yet</td>\n",
       "      <td>True</td>\n",
       "      <td>a must have classic from steam definitely wort...</td>\n",
       "    </tr>\n",
       "    <tr>\n",
       "      <th>59157</th>\n",
       "      <td>3214213216</td>\n",
       "      <td>None</td>\n",
       "      <td>None</td>\n",
       "      <td>None</td>\n",
       "      <td>362890</td>\n",
       "      <td>No ratings yet</td>\n",
       "      <td>True</td>\n",
       "      <td>this game is a perfect remake of the original ...</td>\n",
       "    </tr>\n",
       "    <tr>\n",
       "      <th>59158</th>\n",
       "      <td>ChrisCoroner</td>\n",
       "      <td>1 person found this review funny</td>\n",
       "      <td>None</td>\n",
       "      <td>None</td>\n",
       "      <td>273110</td>\n",
       "      <td>1 of 2 people (50%) found this review helpful</td>\n",
       "      <td>True</td>\n",
       "      <td>had so much fun plaing this and collecting res...</td>\n",
       "    </tr>\n",
       "    <tr>\n",
       "      <th>59159</th>\n",
       "      <td>CaptainAmericaCw</td>\n",
       "      <td>None</td>\n",
       "      <td>None</td>\n",
       "      <td>None</td>\n",
       "      <td>730</td>\n",
       "      <td>No ratings yet</td>\n",
       "      <td>True</td>\n",
       "      <td>:D</td>\n",
       "    </tr>\n",
       "    <tr>\n",
       "      <th>59160</th>\n",
       "      <td>76561198267374962</td>\n",
       "      <td>None</td>\n",
       "      <td>None</td>\n",
       "      <td>None</td>\n",
       "      <td>440</td>\n",
       "      <td>No ratings yet</td>\n",
       "      <td>True</td>\n",
       "      <td>so much fun :D</td>\n",
       "    </tr>\n",
       "  </tbody>\n",
       "</table>\n",
       "</div>"
      ],
      "text/plain": [
       "                    user_id                             funny posted  \\\n",
       "59146           kimjongadam                              None   None   \n",
       "59147           kimjongadam                              None   None   \n",
       "59148           kimjongadam  1 person found this review funny   None   \n",
       "59149           72947282842                              None   None   \n",
       "59150        ZaubieHunter23                              None   None   \n",
       "59151             ApxLGhost                              None   None   \n",
       "59152         iwishihadaids                              None   None   \n",
       "59153     76561198261200685  1 person found this review funny   None   \n",
       "59154           SenpaiDemon                              None   None   \n",
       "59155          snarkcornwtt                              None   None   \n",
       "59156  Fuckfhaisjnsnsjakaka                              None   None   \n",
       "59157            3214213216                              None   None   \n",
       "59158          ChrisCoroner  1 person found this review funny   None   \n",
       "59159      CaptainAmericaCw                              None   None   \n",
       "59160     76561198267374962                              None   None   \n",
       "\n",
       "      last_edited  item_id                                         helpful  \\\n",
       "59146        None   413150                                  No ratings yet   \n",
       "59147        None   242760  1 of 1 people (100%) found this review helpful   \n",
       "59148        None   427730   1 of 2 people (50%) found this review helpful   \n",
       "59149        None   280790   2 of 3 people (67%) found this review helpful   \n",
       "59150        None      570                                  No ratings yet   \n",
       "59151        None   261030    0 of 1 people (0%) found this review helpful   \n",
       "59152        None      730    0 of 1 people (0%) found this review helpful   \n",
       "59153        None      570  1 of 1 people (100%) found this review helpful   \n",
       "59154        None   233270                                  No ratings yet   \n",
       "59155        None      130                                  No ratings yet   \n",
       "59156        None       70                                  No ratings yet   \n",
       "59157        None   362890                                  No ratings yet   \n",
       "59158        None   273110   1 of 2 people (50%) found this review helpful   \n",
       "59159        None      730                                  No ratings yet   \n",
       "59160        None      440                                  No ratings yet   \n",
       "\n",
       "       recommend                                             review  \n",
       "59146       True  I realy like this game it has gotten me to und...  \n",
       "59147       True  Good Game Play, encountered a problem with cli...  \n",
       "59148       True                                           dont ask  \n",
       "59149       True  Great game, specially if you need to past time...  \n",
       "59150       True                                           Good one  \n",
       "59151       True  I cried in the end its so sadding ]'; I wish l...  \n",
       "59152       True  Gra naprawdę fajna.Ale jest kilka rzeczy do kt...  \n",
       "59153       True                                          Well Done  \n",
       "59154       True  this is a very fun and nice 80s themed shooter...  \n",
       "59155       True  if you liked Half life i would really recommen...  \n",
       "59156       True  a must have classic from steam definitely wort...  \n",
       "59157       True  this game is a perfect remake of the original ...  \n",
       "59158       True  had so much fun plaing this and collecting res...  \n",
       "59159       True                                                 :D  \n",
       "59160       True                                     so much fun :D  "
      ]
     },
     "execution_count": 113,
     "metadata": {},
     "output_type": "execute_result"
    }
   ],
   "source": [
    "df2.tail(15)"
   ]
  }
 ],
 "metadata": {
  "kernelspec": {
   "display_name": "Python 3",
   "language": "python",
   "name": "python3"
  },
  "language_info": {
   "codemirror_mode": {
    "name": "ipython",
    "version": 3
   },
   "file_extension": ".py",
   "mimetype": "text/x-python",
   "name": "python",
   "nbconvert_exporter": "python",
   "pygments_lexer": "ipython3",
   "version": "3.11.6"
  },
  "orig_nbformat": 4
 },
 "nbformat": 4,
 "nbformat_minor": 2
}
