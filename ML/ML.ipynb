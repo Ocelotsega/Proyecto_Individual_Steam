{
 "cells": [
  {
   "cell_type": "markdown",
   "metadata": {},
   "source": [
    "---\n",
    "## Iniciamos el Modelo"
   ]
  },
  {
   "cell_type": "code",
   "execution_count": 2,
   "metadata": {},
   "outputs": [],
   "source": [
    "# Importar librerías\n",
    "import pandas as pd\n",
    "import numpy as np\n",
    "from sklearn.model_selection import train_test_split\n",
    "from sklearn.feature_extraction.text import TfidfVectorizer\n",
    "from sklearn.naive_bayes import MultinomialNB\n",
    "from sklearn.metrics import accuracy_score\n",
    "import scipy as sp\n",
    "from sklearn.metrics.pairwise import cosine_similarity"
   ]
  },
  {
   "cell_type": "markdown",
   "metadata": {},
   "source": [
    "Se inicia creando los dummies "
   ]
  },
  {
   "cell_type": "code",
   "execution_count": 3,
   "metadata": {},
   "outputs": [
    {
     "data": {
      "text/html": [
       "<div>\n",
       "<style scoped>\n",
       "    .dataframe tbody tr th:only-of-type {\n",
       "        vertical-align: middle;\n",
       "    }\n",
       "\n",
       "    .dataframe tbody tr th {\n",
       "        vertical-align: top;\n",
       "    }\n",
       "\n",
       "    .dataframe thead th {\n",
       "        text-align: right;\n",
       "    }\n",
       "</style>\n",
       "<table border=\"1\" class=\"dataframe\">\n",
       "  <thead>\n",
       "    <tr style=\"text-align: right;\">\n",
       "      <th></th>\n",
       "      <th>publisher</th>\n",
       "      <th>genres</th>\n",
       "      <th>title</th>\n",
       "      <th>release_date</th>\n",
       "      <th>tags</th>\n",
       "      <th>specs</th>\n",
       "      <th>price</th>\n",
       "      <th>early_access</th>\n",
       "      <th>id</th>\n",
       "      <th>developer</th>\n",
       "    </tr>\n",
       "  </thead>\n",
       "  <tbody>\n",
       "    <tr>\n",
       "      <th>0</th>\n",
       "      <td>Kotoshiro</td>\n",
       "      <td>Action</td>\n",
       "      <td>Lost Summoner Kitty</td>\n",
       "      <td>2018</td>\n",
       "      <td>['Strategy', 'Action', 'Indie', 'Casual', 'Sim...</td>\n",
       "      <td>['Single-player']</td>\n",
       "      <td>4.99</td>\n",
       "      <td>False</td>\n",
       "      <td>761140</td>\n",
       "      <td>Kotoshiro</td>\n",
       "    </tr>\n",
       "    <tr>\n",
       "      <th>1</th>\n",
       "      <td>Kotoshiro</td>\n",
       "      <td>Casual</td>\n",
       "      <td>Lost Summoner Kitty</td>\n",
       "      <td>2018</td>\n",
       "      <td>['Strategy', 'Action', 'Indie', 'Casual', 'Sim...</td>\n",
       "      <td>['Single-player']</td>\n",
       "      <td>4.99</td>\n",
       "      <td>False</td>\n",
       "      <td>761140</td>\n",
       "      <td>Kotoshiro</td>\n",
       "    </tr>\n",
       "    <tr>\n",
       "      <th>2</th>\n",
       "      <td>Kotoshiro</td>\n",
       "      <td>Indie</td>\n",
       "      <td>Lost Summoner Kitty</td>\n",
       "      <td>2018</td>\n",
       "      <td>['Strategy', 'Action', 'Indie', 'Casual', 'Sim...</td>\n",
       "      <td>['Single-player']</td>\n",
       "      <td>4.99</td>\n",
       "      <td>False</td>\n",
       "      <td>761140</td>\n",
       "      <td>Kotoshiro</td>\n",
       "    </tr>\n",
       "  </tbody>\n",
       "</table>\n",
       "</div>"
      ],
      "text/plain": [
       "   publisher  genres                title  release_date  \\\n",
       "0  Kotoshiro  Action  Lost Summoner Kitty          2018   \n",
       "1  Kotoshiro  Casual  Lost Summoner Kitty          2018   \n",
       "2  Kotoshiro   Indie  Lost Summoner Kitty          2018   \n",
       "\n",
       "                                                tags              specs  \\\n",
       "0  ['Strategy', 'Action', 'Indie', 'Casual', 'Sim...  ['Single-player']   \n",
       "1  ['Strategy', 'Action', 'Indie', 'Casual', 'Sim...  ['Single-player']   \n",
       "2  ['Strategy', 'Action', 'Indie', 'Casual', 'Sim...  ['Single-player']   \n",
       "\n",
       "   price  early_access      id  developer  \n",
       "0   4.99         False  761140  Kotoshiro  \n",
       "1   4.99         False  761140  Kotoshiro  \n",
       "2   4.99         False  761140  Kotoshiro  "
      ]
     },
     "execution_count": 3,
     "metadata": {},
     "output_type": "execute_result"
    }
   ],
   "source": [
    "Modelo= pd.read_parquet(\"../DataSets/steam_games.parquet\")\n",
    "Modelo.head(3)"
   ]
  },
  {
   "cell_type": "code",
   "execution_count": 4,
   "metadata": {},
   "outputs": [
    {
     "name": "stderr",
     "output_type": "stream",
     "text": [
      "C:\\Users\\1\\AppData\\Local\\Temp\\ipykernel_2756\\1420793241.py:4: FutureWarning: The default value of numeric_only in DataFrameGroupBy.sum is deprecated. In a future version, numeric_only will default to False. Either specify numeric_only or select only columns which should be valid for the function.\n",
      "  Modelo= Modelo.groupby([\"id\",\"title\"]).sum().reset_index()\n"
     ]
    },
    {
     "data": {
      "text/html": [
       "<div>\n",
       "<style scoped>\n",
       "    .dataframe tbody tr th:only-of-type {\n",
       "        vertical-align: middle;\n",
       "    }\n",
       "\n",
       "    .dataframe tbody tr th {\n",
       "        vertical-align: top;\n",
       "    }\n",
       "\n",
       "    .dataframe thead th {\n",
       "        text-align: right;\n",
       "    }\n",
       "</style>\n",
       "<table border=\"1\" class=\"dataframe\">\n",
       "  <thead>\n",
       "    <tr style=\"text-align: right;\">\n",
       "      <th></th>\n",
       "      <th>id</th>\n",
       "      <th>title</th>\n",
       "      <th>release_date</th>\n",
       "      <th>price</th>\n",
       "      <th>early_access</th>\n",
       "      <th>_Action</th>\n",
       "      <th>_Adventure</th>\n",
       "      <th>_Animation &amp;amp; Modeling</th>\n",
       "      <th>_Audio Production</th>\n",
       "      <th>_Casual</th>\n",
       "      <th>...</th>\n",
       "      <th>_Photo Editing</th>\n",
       "      <th>_RPG</th>\n",
       "      <th>_Racing</th>\n",
       "      <th>_Simulation</th>\n",
       "      <th>_Software Training</th>\n",
       "      <th>_Sports</th>\n",
       "      <th>_Strategy</th>\n",
       "      <th>_Utilities</th>\n",
       "      <th>_Video Production</th>\n",
       "      <th>_Web Publishing</th>\n",
       "    </tr>\n",
       "  </thead>\n",
       "  <tbody>\n",
       "    <tr>\n",
       "      <th>0</th>\n",
       "      <td>10</td>\n",
       "      <td>Counter-Strike</td>\n",
       "      <td>2000</td>\n",
       "      <td>9.99</td>\n",
       "      <td>0</td>\n",
       "      <td>1</td>\n",
       "      <td>0</td>\n",
       "      <td>0</td>\n",
       "      <td>0</td>\n",
       "      <td>0</td>\n",
       "      <td>...</td>\n",
       "      <td>0</td>\n",
       "      <td>0</td>\n",
       "      <td>0</td>\n",
       "      <td>0</td>\n",
       "      <td>0</td>\n",
       "      <td>0</td>\n",
       "      <td>0</td>\n",
       "      <td>0</td>\n",
       "      <td>0</td>\n",
       "      <td>0</td>\n",
       "    </tr>\n",
       "    <tr>\n",
       "      <th>1</th>\n",
       "      <td>20</td>\n",
       "      <td>Team Fortress Classic</td>\n",
       "      <td>1999</td>\n",
       "      <td>4.99</td>\n",
       "      <td>0</td>\n",
       "      <td>1</td>\n",
       "      <td>0</td>\n",
       "      <td>0</td>\n",
       "      <td>0</td>\n",
       "      <td>0</td>\n",
       "      <td>...</td>\n",
       "      <td>0</td>\n",
       "      <td>0</td>\n",
       "      <td>0</td>\n",
       "      <td>0</td>\n",
       "      <td>0</td>\n",
       "      <td>0</td>\n",
       "      <td>0</td>\n",
       "      <td>0</td>\n",
       "      <td>0</td>\n",
       "      <td>0</td>\n",
       "    </tr>\n",
       "    <tr>\n",
       "      <th>2</th>\n",
       "      <td>30</td>\n",
       "      <td>Day of Defeat</td>\n",
       "      <td>2003</td>\n",
       "      <td>4.99</td>\n",
       "      <td>0</td>\n",
       "      <td>1</td>\n",
       "      <td>0</td>\n",
       "      <td>0</td>\n",
       "      <td>0</td>\n",
       "      <td>0</td>\n",
       "      <td>...</td>\n",
       "      <td>0</td>\n",
       "      <td>0</td>\n",
       "      <td>0</td>\n",
       "      <td>0</td>\n",
       "      <td>0</td>\n",
       "      <td>0</td>\n",
       "      <td>0</td>\n",
       "      <td>0</td>\n",
       "      <td>0</td>\n",
       "      <td>0</td>\n",
       "    </tr>\n",
       "    <tr>\n",
       "      <th>3</th>\n",
       "      <td>40</td>\n",
       "      <td>Deathmatch Classic</td>\n",
       "      <td>2001</td>\n",
       "      <td>4.99</td>\n",
       "      <td>0</td>\n",
       "      <td>1</td>\n",
       "      <td>0</td>\n",
       "      <td>0</td>\n",
       "      <td>0</td>\n",
       "      <td>0</td>\n",
       "      <td>...</td>\n",
       "      <td>0</td>\n",
       "      <td>0</td>\n",
       "      <td>0</td>\n",
       "      <td>0</td>\n",
       "      <td>0</td>\n",
       "      <td>0</td>\n",
       "      <td>0</td>\n",
       "      <td>0</td>\n",
       "      <td>0</td>\n",
       "      <td>0</td>\n",
       "    </tr>\n",
       "  </tbody>\n",
       "</table>\n",
       "<p>4 rows × 26 columns</p>\n",
       "</div>"
      ],
      "text/plain": [
       "   id                  title  release_date  price  early_access  _Action  \\\n",
       "0  10         Counter-Strike          2000   9.99             0        1   \n",
       "1  20  Team Fortress Classic          1999   4.99             0        1   \n",
       "2  30          Day of Defeat          2003   4.99             0        1   \n",
       "3  40     Deathmatch Classic          2001   4.99             0        1   \n",
       "\n",
       "   _Adventure  _Animation &amp; Modeling  _Audio Production  _Casual  ...  \\\n",
       "0           0                          0                  0        0  ...   \n",
       "1           0                          0                  0        0  ...   \n",
       "2           0                          0                  0        0  ...   \n",
       "3           0                          0                  0        0  ...   \n",
       "\n",
       "   _Photo Editing  _RPG  _Racing  _Simulation  _Software Training  _Sports  \\\n",
       "0               0     0        0            0                   0        0   \n",
       "1               0     0        0            0                   0        0   \n",
       "2               0     0        0            0                   0        0   \n",
       "3               0     0        0            0                   0        0   \n",
       "\n",
       "   _Strategy  _Utilities  _Video Production  _Web Publishing  \n",
       "0          0           0                  0                0  \n",
       "1          0           0                  0                0  \n",
       "2          0           0                  0                0  \n",
       "3          0           0                  0                0  \n",
       "\n",
       "[4 rows x 26 columns]"
      ]
     },
     "execution_count": 4,
     "metadata": {},
     "output_type": "execute_result"
    }
   ],
   "source": [
    "#Creacíon de dummies\n",
    "Modelo= pd.get_dummies(Modelo, columns=[\"genres\"], prefix=\"\")\n",
    "\n",
    "Modelo= Modelo.groupby([\"id\",\"title\"]).sum().reset_index()\n",
    "\n",
    "Modelo.head(4)"
   ]
  },
  {
   "cell_type": "code",
   "execution_count": 6,
   "metadata": {},
   "outputs": [],
   "source": [
    "similitudes = cosine_similarity(Modelo.iloc[:,3:])"
   ]
  },
  {
   "cell_type": "code",
   "execution_count": 7,
   "metadata": {},
   "outputs": [
    {
     "data": {
      "text/plain": [
       "(27181, 27181)"
      ]
     },
     "execution_count": 7,
     "metadata": {},
     "output_type": "execute_result"
    }
   ],
   "source": [
    "similitudes.shape"
   ]
  },
  {
   "cell_type": "code",
   "execution_count": 8,
   "metadata": {},
   "outputs": [
    {
     "name": "stdout",
     "output_type": "stream",
     "text": [
      "[[1.         0.99520055 0.99520055 ... 0.99682034 0.99641099 0.99520055]\n",
      " [0.99520055 1.         1.         ... 0.98423879 0.98350768 1.        ]\n",
      " [0.99520055 1.         1.         ... 0.98423879 0.98350768 1.        ]\n",
      " ...\n",
      " [0.99682034 0.98423879 0.98423879 ... 1.         0.99985554 0.98423879]\n",
      " [0.99641099 0.98350768 0.98350768 ... 0.99985554 1.         0.98350768]\n",
      " [0.99520055 1.         1.         ... 0.98423879 0.98350768 1.        ]]\n"
     ]
    }
   ],
   "source": [
    "print(similitudes)"
   ]
  },
  {
   "cell_type": "markdown",
   "metadata": {},
   "source": [
    "Antes de seguir, pulimos un poco más nuestro archivo"
   ]
  },
  {
   "cell_type": "code",
   "execution_count": 9,
   "metadata": {},
   "outputs": [
    {
     "name": "stdout",
     "output_type": "stream",
     "text": [
      "No se encontraron datos duplicados.\n"
     ]
    }
   ],
   "source": [
    "#Creamos uan función para ayudarnos \n",
    "\n",
    "def buscar_datos_repetidos(data):\n",
    "    \"\"\"\n",
    "    Busca datos duplicados en un DataFrame.\n",
    "\n",
    "    Parameters:\n",
    "    - data: DataFrame con los datos.\n",
    "\n",
    "    Returns:\n",
    "    - DataFrame con los datos duplicados.\n",
    "    \"\"\"\n",
    "    duplicados = data[data.duplicated()]\n",
    "    return duplicados\n",
    "\n",
    "datos_duplicados = buscar_datos_repetidos(Modelo)\n",
    "\n",
    "# Muestra los datos duplicados (si los hay)\n",
    "if not datos_duplicados.empty:\n",
    "    print(\"Datos duplicados encontrados:\")\n",
    "    print(datos_duplicados)\n",
    "else:\n",
    "    print(\"No se encontraron datos duplicados.\")\n"
   ]
  },
  {
   "cell_type": "code",
   "execution_count": 9,
   "metadata": {},
   "outputs": [
    {
     "data": {
      "text/html": [
       "<div>\n",
       "<style scoped>\n",
       "    .dataframe tbody tr th:only-of-type {\n",
       "        vertical-align: middle;\n",
       "    }\n",
       "\n",
       "    .dataframe tbody tr th {\n",
       "        vertical-align: top;\n",
       "    }\n",
       "\n",
       "    .dataframe thead th {\n",
       "        text-align: right;\n",
       "    }\n",
       "</style>\n",
       "<table border=\"1\" class=\"dataframe\">\n",
       "  <thead>\n",
       "    <tr style=\"text-align: right;\">\n",
       "      <th></th>\n",
       "      <th>id</th>\n",
       "      <th>title</th>\n",
       "      <th>release_date</th>\n",
       "      <th>price</th>\n",
       "      <th>early_access</th>\n",
       "      <th>_Action</th>\n",
       "      <th>_Adventure</th>\n",
       "      <th>_Animation &amp;amp; Modeling</th>\n",
       "      <th>_Audio Production</th>\n",
       "      <th>_Casual</th>\n",
       "      <th>...</th>\n",
       "      <th>_Photo Editing</th>\n",
       "      <th>_RPG</th>\n",
       "      <th>_Racing</th>\n",
       "      <th>_Simulation</th>\n",
       "      <th>_Software Training</th>\n",
       "      <th>_Sports</th>\n",
       "      <th>_Strategy</th>\n",
       "      <th>_Utilities</th>\n",
       "      <th>_Video Production</th>\n",
       "      <th>_Web Publishing</th>\n",
       "    </tr>\n",
       "  </thead>\n",
       "  <tbody>\n",
       "  </tbody>\n",
       "</table>\n",
       "<p>0 rows × 26 columns</p>\n",
       "</div>"
      ],
      "text/plain": [
       "Empty DataFrame\n",
       "Columns: [id, title, release_date, price, early_access, _Action, _Adventure, _Animation &amp; Modeling, _Audio Production, _Casual, _Design &amp; Illustration, _Early Access, _Education, _Free to Play, _Indie, _Massively Multiplayer, _Photo Editing, _RPG, _Racing, _Simulation, _Software Training, _Sports, _Strategy, _Utilities, _Video Production, _Web Publishing]\n",
       "Index: []\n",
       "\n",
       "[0 rows x 26 columns]"
      ]
     },
     "execution_count": 9,
     "metadata": {},
     "output_type": "execute_result"
    }
   ],
   "source": [
    "buscar_datos_repetidos(Modelo)"
   ]
  },
  {
   "cell_type": "code",
   "execution_count": 10,
   "metadata": {},
   "outputs": [
    {
     "data": {
      "text/plain": [
       "id                            0\n",
       "title                         0\n",
       "release_date                  0\n",
       "price                         0\n",
       "early_access                  0\n",
       "_Action                       0\n",
       "_Adventure                    0\n",
       "_Animation &amp; Modeling     0\n",
       "_Audio Production             0\n",
       "_Casual                       0\n",
       "_Design &amp; Illustration    0\n",
       "_Early Access                 0\n",
       "_Education                    0\n",
       "_Free to Play                 0\n",
       "_Indie                        0\n",
       "_Massively Multiplayer        0\n",
       "_Photo Editing                0\n",
       "_RPG                          0\n",
       "_Racing                       0\n",
       "_Simulation                   0\n",
       "_Software Training            0\n",
       "_Sports                       0\n",
       "_Strategy                     0\n",
       "_Utilities                    0\n",
       "_Video Production             0\n",
       "_Web Publishing               0\n",
       "dtype: int64"
      ]
     },
     "execution_count": 10,
     "metadata": {},
     "output_type": "execute_result"
    }
   ],
   "source": [
    "Modelo.isnull().sum()"
   ]
  },
  {
   "cell_type": "markdown",
   "metadata": {},
   "source": [
    "Planteamos una función de recomendación"
   ]
  },
  {
   "cell_type": "code",
   "execution_count": 10,
   "metadata": {},
   "outputs": [],
   "source": [
    "\n",
    "#La función aun será ajustada\n",
    "def recomendacion_juego(id_juego, modelo_item, similitudes):\n",
    "    \"\"\"\n",
    "    Recomienda juegos similares a un juego dado.\n",
    "\n",
    "    Parameters:\n",
    "    - id_juego: ID del juego para el cual se desean recomendaciones.\n",
    "    - modelo_item: DataFrame que contiene información sobre los juegos.\n",
    "    - similitudes: Matriz de similitud entre juegos.\n",
    "\n",
    "    Returns:\n",
    "    - Lista de nombres de juegos recomendados.\n",
    "    \"\"\"\n",
    "    try:\n",
    "        id_juego = int(id_juego)\n",
    "    except ValueError:\n",
    "        return \"Error: El ID del juego debe ser un número entero.\"\n",
    "\n",
    "    # Filtrar el juego e igualarlo a su ID\n",
    "    juego_seleccionado = modelo_item[modelo_item['id'] == id_juego]\n",
    "\n",
    "    # Devolver error en caso de vacío\n",
    "    if juego_seleccionado.empty:\n",
    "        return \"Error: El juego con el ID especificado no existe en la base de datos.\"\n",
    "\n",
    "    # Calcular la similitud del juego que se ingresa con otros juegos del dataframe\n",
    "    similarity_scores = similitudes[Modelo[Modelo['id'] == id_juego].index[0]]\n",
    "\n",
    "    # Obtener los índices de los juegos más similares (excluyendo el juego de entrada)\n",
    "    indices_juegos_similares = similarity_scores.argsort()[::-1][1:6]\n",
    "\n",
    "    # Obtener los nombres de los juegos 5 recomendados\n",
    "    juegos_recomendados = modelo_item.iloc[indices_juegos_similares]['title'].tolist()\n",
    "\n",
    "    return juegos_recomendados\n",
    "\n",
    "id_juego = 761140\n",
    "recomendaciones = recomendacion_juego(id_juego, Modelo, similitudes)\n",
    "\n"
   ]
  },
  {
   "cell_type": "code",
   "execution_count": 11,
   "metadata": {},
   "outputs": [
    {
     "data": {
      "text/plain": [
       "['Lost Summoner Kitty',\n",
       " 'R.C. Bot Inc.',\n",
       " 'A.I. Space Corps',\n",
       " 'Wooden Battles',\n",
       " 'Demolition Inc.']"
      ]
     },
     "execution_count": 11,
     "metadata": {},
     "output_type": "execute_result"
    }
   ],
   "source": [
    "recomendaciones"
   ]
  },
  {
   "cell_type": "markdown",
   "metadata": {},
   "source": [
    "Buscamos juegos para iniciar las pruebas "
   ]
  },
  {
   "cell_type": "code",
   "execution_count": 12,
   "metadata": {},
   "outputs": [
    {
     "data": {
      "text/html": [
       "<div>\n",
       "<style scoped>\n",
       "    .dataframe tbody tr th:only-of-type {\n",
       "        vertical-align: middle;\n",
       "    }\n",
       "\n",
       "    .dataframe tbody tr th {\n",
       "        vertical-align: top;\n",
       "    }\n",
       "\n",
       "    .dataframe thead th {\n",
       "        text-align: right;\n",
       "    }\n",
       "</style>\n",
       "<table border=\"1\" class=\"dataframe\">\n",
       "  <thead>\n",
       "    <tr style=\"text-align: right;\">\n",
       "      <th></th>\n",
       "      <th>id</th>\n",
       "      <th>title</th>\n",
       "      <th>release_date</th>\n",
       "      <th>price</th>\n",
       "      <th>early_access</th>\n",
       "      <th>_Action</th>\n",
       "      <th>_Adventure</th>\n",
       "      <th>_Animation &amp;amp; Modeling</th>\n",
       "      <th>_Audio Production</th>\n",
       "      <th>_Casual</th>\n",
       "      <th>...</th>\n",
       "      <th>_Photo Editing</th>\n",
       "      <th>_RPG</th>\n",
       "      <th>_Racing</th>\n",
       "      <th>_Simulation</th>\n",
       "      <th>_Software Training</th>\n",
       "      <th>_Sports</th>\n",
       "      <th>_Strategy</th>\n",
       "      <th>_Utilities</th>\n",
       "      <th>_Video Production</th>\n",
       "      <th>_Web Publishing</th>\n",
       "    </tr>\n",
       "  </thead>\n",
       "  <tbody>\n",
       "    <tr>\n",
       "      <th>976</th>\n",
       "      <td>39140</td>\n",
       "      <td>FINAL FANTASY VII</td>\n",
       "      <td>2013</td>\n",
       "      <td>11.99</td>\n",
       "      <td>0</td>\n",
       "      <td>0</td>\n",
       "      <td>0</td>\n",
       "      <td>0</td>\n",
       "      <td>0</td>\n",
       "      <td>0</td>\n",
       "      <td>...</td>\n",
       "      <td>0</td>\n",
       "      <td>1</td>\n",
       "      <td>0</td>\n",
       "      <td>0</td>\n",
       "      <td>0</td>\n",
       "      <td>0</td>\n",
       "      <td>0</td>\n",
       "      <td>0</td>\n",
       "      <td>0</td>\n",
       "      <td>0</td>\n",
       "    </tr>\n",
       "  </tbody>\n",
       "</table>\n",
       "<p>1 rows × 26 columns</p>\n",
       "</div>"
      ],
      "text/plain": [
       "        id              title  release_date  price  early_access  _Action  \\\n",
       "976  39140  FINAL FANTASY VII          2013  11.99             0        0   \n",
       "\n",
       "     _Adventure  _Animation &amp; Modeling  _Audio Production  _Casual  ...  \\\n",
       "976           0                          0                  0        0  ...   \n",
       "\n",
       "     _Photo Editing  _RPG  _Racing  _Simulation  _Software Training  _Sports  \\\n",
       "976               0     1        0            0                   0        0   \n",
       "\n",
       "     _Strategy  _Utilities  _Video Production  _Web Publishing  \n",
       "976          0           0                  0                0  \n",
       "\n",
       "[1 rows x 26 columns]"
      ]
     },
     "execution_count": 12,
     "metadata": {},
     "output_type": "execute_result"
    }
   ],
   "source": [
    "Modelo[Modelo[\"title\"]==\"FINAL FANTASY VII\"] #Mi juego favorito de la saga"
   ]
  },
  {
   "cell_type": "code",
   "execution_count": 13,
   "metadata": {},
   "outputs": [
    {
     "data": {
      "text/html": [
       "<div>\n",
       "<style scoped>\n",
       "    .dataframe tbody tr th:only-of-type {\n",
       "        vertical-align: middle;\n",
       "    }\n",
       "\n",
       "    .dataframe tbody tr th {\n",
       "        vertical-align: top;\n",
       "    }\n",
       "\n",
       "    .dataframe thead th {\n",
       "        text-align: right;\n",
       "    }\n",
       "</style>\n",
       "<table border=\"1\" class=\"dataframe\">\n",
       "  <thead>\n",
       "    <tr style=\"text-align: right;\">\n",
       "      <th></th>\n",
       "      <th>id</th>\n",
       "      <th>title</th>\n",
       "      <th>release_date</th>\n",
       "      <th>price</th>\n",
       "      <th>early_access</th>\n",
       "      <th>_Action</th>\n",
       "      <th>_Adventure</th>\n",
       "      <th>_Animation &amp;amp; Modeling</th>\n",
       "      <th>_Audio Production</th>\n",
       "      <th>_Casual</th>\n",
       "      <th>...</th>\n",
       "      <th>_Photo Editing</th>\n",
       "      <th>_RPG</th>\n",
       "      <th>_Racing</th>\n",
       "      <th>_Simulation</th>\n",
       "      <th>_Software Training</th>\n",
       "      <th>_Sports</th>\n",
       "      <th>_Strategy</th>\n",
       "      <th>_Utilities</th>\n",
       "      <th>_Video Production</th>\n",
       "      <th>_Web Publishing</th>\n",
       "    </tr>\n",
       "  </thead>\n",
       "  <tbody>\n",
       "    <tr>\n",
       "      <th>20740</th>\n",
       "      <td>593280</td>\n",
       "      <td>Cat Quest</td>\n",
       "      <td>8068</td>\n",
       "      <td>51.96</td>\n",
       "      <td>0</td>\n",
       "      <td>1</td>\n",
       "      <td>1</td>\n",
       "      <td>0</td>\n",
       "      <td>0</td>\n",
       "      <td>0</td>\n",
       "      <td>...</td>\n",
       "      <td>0</td>\n",
       "      <td>1</td>\n",
       "      <td>0</td>\n",
       "      <td>0</td>\n",
       "      <td>0</td>\n",
       "      <td>0</td>\n",
       "      <td>0</td>\n",
       "      <td>0</td>\n",
       "      <td>0</td>\n",
       "      <td>0</td>\n",
       "    </tr>\n",
       "  </tbody>\n",
       "</table>\n",
       "<p>1 rows × 26 columns</p>\n",
       "</div>"
      ],
      "text/plain": [
       "           id      title  release_date  price  early_access  _Action  \\\n",
       "20740  593280  Cat Quest          8068  51.96             0        1   \n",
       "\n",
       "       _Adventure  _Animation &amp; Modeling  _Audio Production  _Casual  ...  \\\n",
       "20740           1                          0                  0        0  ...   \n",
       "\n",
       "       _Photo Editing  _RPG  _Racing  _Simulation  _Software Training  \\\n",
       "20740               0     1        0            0                   0   \n",
       "\n",
       "       _Sports  _Strategy  _Utilities  _Video Production  _Web Publishing  \n",
       "20740        0          0           0                  0                0  \n",
       "\n",
       "[1 rows x 26 columns]"
      ]
     },
     "execution_count": 13,
     "metadata": {},
     "output_type": "execute_result"
    }
   ],
   "source": [
    "Modelo[Modelo[\"title\"]==\"Cat Quest\"]"
   ]
  },
  {
   "cell_type": "markdown",
   "metadata": {},
   "source": [
    "Tomamos la id y aplicamos la función "
   ]
  },
  {
   "cell_type": "code",
   "execution_count": 14,
   "metadata": {},
   "outputs": [],
   "source": [
    "id_juego2=39140\n",
    "recoemdaciones_2=recomendacion_juego(id_juego2,Modelo, similitudes)"
   ]
  },
  {
   "cell_type": "code",
   "execution_count": 15,
   "metadata": {},
   "outputs": [],
   "source": [
    "id_juego3=593280\n",
    "recmendaciones_3=recomendacion_juego(id_juego3, Modelo, similitudes)"
   ]
  },
  {
   "cell_type": "code",
   "execution_count": 16,
   "metadata": {},
   "outputs": [
    {
     "data": {
      "text/plain": [
       "['古剑奇谭(GuJian)',\n",
       " 'FINAL FANTASY VIII',\n",
       " 'Taikou Risshiden / 太閤立志伝',\n",
       " 'Tokyo Xanadu eX+: S-Pom Treat Bundle',\n",
       " 'Ruzar - The Life Stone']"
      ]
     },
     "execution_count": 16,
     "metadata": {},
     "output_type": "execute_result"
    }
   ],
   "source": [
    "recoemdaciones_2"
   ]
  },
  {
   "cell_type": "code",
   "execution_count": 17,
   "metadata": {},
   "outputs": [
    {
     "data": {
      "text/plain": [
       "['Pathologic Classic HD',\n",
       " 'Dungeon Souls',\n",
       " 'Age of Barbarian Extended Cut',\n",
       " \"Vairon's Wrath\",\n",
       " 'Victor Vran: Mötorhead Through The Ages']"
      ]
     },
     "execution_count": 17,
     "metadata": {},
     "output_type": "execute_result"
    }
   ],
   "source": [
    "recmendaciones_3"
   ]
  },
  {
   "cell_type": "markdown",
   "metadata": {},
   "source": [
    "## Planteamos el modelo para consumirse en la API"
   ]
  },
  {
   "cell_type": "code",
   "execution_count": 18,
   "metadata": {},
   "outputs": [],
   "source": [
    "# Obtengo la cantidad de filas\n",
    "cantidad_filas = len(Modelo)\n",
    "\n",
    "# Selecciono la mitad superior\n",
    "Modelo_final = Modelo.iloc[:cantidad_filas // 2]\n"
   ]
  },
  {
   "cell_type": "code",
   "execution_count": 19,
   "metadata": {},
   "outputs": [
    {
     "data": {
      "text/plain": [
       "(13590, 26)"
      ]
     },
     "execution_count": 19,
     "metadata": {},
     "output_type": "execute_result"
    }
   ],
   "source": [
    "Modelo_final.shape"
   ]
  },
  {
   "cell_type": "code",
   "execution_count": 20,
   "metadata": {},
   "outputs": [],
   "source": [
    "similitudes_final = cosine_similarity(Modelo_final.iloc[:,3:])"
   ]
  },
  {
   "cell_type": "code",
   "execution_count": 21,
   "metadata": {},
   "outputs": [
    {
     "data": {
      "text/plain": [
       "array([[1.        , 0.99520055, 0.99520055, ..., 0.96831776, 0.99447462,\n",
       "        0.85063592],\n",
       "       [0.99520055, 1.        , 1.        , ..., 0.95418529, 0.97996039,\n",
       "        0.87863932],\n",
       "       [0.99520055, 1.        , 1.        , ..., 0.95418529, 0.97996039,\n",
       "        0.87863932],\n",
       "       ...,\n",
       "       [0.96831776, 0.95418529, 0.95418529, ..., 1.        , 0.9726164 ,\n",
       "        0.79190404],\n",
       "       [0.99447462, 0.97996039, 0.97996039, ..., 0.9726164 , 1.        ,\n",
       "        0.81329549],\n",
       "       [0.85063592, 0.87863932, 0.87863932, ..., 0.79190404, 0.81329549,\n",
       "        1.        ]])"
      ]
     },
     "execution_count": 21,
     "metadata": {},
     "output_type": "execute_result"
    }
   ],
   "source": [
    "similitudes_final"
   ]
  },
  {
   "cell_type": "markdown",
   "metadata": {},
   "source": [
    "Exportamos nuestro archivo a Parquet"
   ]
  },
  {
   "cell_type": "code",
   "execution_count": 24,
   "metadata": {},
   "outputs": [],
   "source": [
    "Modelo_final.to_parquet(\"../DatosML/ModeloFinal.parquet\")"
   ]
  },
  {
   "cell_type": "markdown",
   "metadata": {},
   "source": [
    "--- \n",
    "## Pruebas y ajustes "
   ]
  },
  {
   "cell_type": "code",
   "execution_count": 24,
   "metadata": {},
   "outputs": [],
   "source": [
    "modelo_final=pd.read_parquet(\"../DatosML/ModeloFinal.parquet\")"
   ]
  },
  {
   "cell_type": "code",
   "execution_count": 25,
   "metadata": {},
   "outputs": [],
   "source": [
    "\n",
    "def encontrar_juegos_similares(id_juego, modelo_final):\n",
    "    \"\"\"\n",
    "    Encuentra juegos similares a un juego dado por su ID.\n",
    "\n",
    "    Parameters:\n",
    "    - id_juego: ID del juego para el cual se desean encontrar juegos similares.\n",
    "    - modelo_render: DataFrame que contiene las características de los juegos.\n",
    "\n",
    "    Returns:\n",
    "    - Lista de nombres de juegos similares.\n",
    "    \"\"\"\n",
    "    # Encuentra el índice del juego ingresado por ID\n",
    "    juego_indice = modelo_final.index[modelo_final['id'] == id_juego].tolist()\n",
    "\n",
    "    # Verifica si el juego con el ID especificado existe en la base de datos\n",
    "    if not juego_indice:\n",
    "        return f\"El juego con el ID {id_juego} no existe en la base de datos.\"\n",
    "\n",
    "    juego_indice = juego_indice[0]\n",
    "\n",
    "    # Extrae las características del juego ingresado\n",
    "    juego_caracteristicas = modelo_final.iloc[juego_indice, 3:].values.reshape(1, -1)\n",
    "\n",
    "    # Calcula la similitud coseno entre el juego ingresado y todos los demás juegos\n",
    "    similitudes_render = cosine_similarity(modelo_final.iloc[:, 3:], juego_caracteristicas)\n",
    "\n",
    "    # Obtiene los índices de los juegos más similares (excluyendo el juego de entrada)\n",
    "    indices_juegos_similares = similitudes_render.argsort(axis=0)[::-1][1:6].flatten()[1:]\n",
    "\n",
    "    # Obtiene los juegos más similares en función de los índices\n",
    "    juegos_similares = modelo_final.iloc[indices_juegos_similares]['title'].tolist()\n",
    "\n",
    "    return juegos_similares\n",
    "\n",
    "\n"
   ]
  },
  {
   "cell_type": "code",
   "execution_count": 26,
   "metadata": {},
   "outputs": [
    {
     "data": {
      "text/plain": [
       "['Ruzar - The Life Stone',\n",
       " 'Kagura Douchuuki',\n",
       " 'Faery - Legends of Avalon',\n",
       " 'Overlord II']"
      ]
     },
     "execution_count": 26,
     "metadata": {},
     "output_type": "execute_result"
    }
   ],
   "source": [
    "encontrar_juegos_similares(39140, modelo_final)"
   ]
  },
  {
   "cell_type": "code",
   "execution_count": 27,
   "metadata": {},
   "outputs": [],
   "source": [
    "def recommend_games(game_id: int, modelo_final, sample_size=2000, random_state=42):\n",
    "    '''\n",
    "    Esta función recomienda 5 juegos a partir del juego ingresado.\n",
    "\n",
    "    Args:\n",
    "        game_id (int): ID único del videojuego al cual se le harán las recomendaciones.\n",
    "        modelo_final (DataFrame): DataFrame que contiene las características de los juegos.\n",
    "        sample_size (int): Tamaño de la muestra para calcular la similitud de contenido.\n",
    "        random_state (int): Semilla aleatoria para reproducibilidad.\n",
    "\n",
    "    Returns:\n",
    "        Dict: Diccionario con la lista de 5 juegos recomendados.\n",
    "    '''\n",
    "    # Verifica si el juego con game_id existe en modelo_render\n",
    "    game = modelo_final[modelo_final['id'] == game_id]\n",
    "\n",
    "    if game.empty:\n",
    "        return {\"message\": f\"El juego con ID '{game_id}' no existe en la base de datos.\"}\n",
    "\n",
    "    # Obtiene el índice del juego dado\n",
    "    idx = game.index[0]\n",
    "\n",
    "    # Toma una muestra aleatoria del DataFrame modelo_render\n",
    "    df_sample = modelo_final.sample(n=sample_size, random_state=random_state)\n",
    "\n",
    "    # Calcula la similitud de contenido solo para el juego dado y la muestra\n",
    "    sim_scores = cosine_similarity([modelo_final.iloc[idx, 3:]], df_sample.iloc[:, 3:])\n",
    "\n",
    "    # Obtiene las puntuaciones de similitud del juego dado con otros juegos\n",
    "    sim_scores = sim_scores[0]\n",
    "\n",
    "    # Ordena los juegos por similitud en orden descendente\n",
    "    similar_games = [(i, sim_scores[i]) for i in range(len(sim_scores)) if i != idx]\n",
    "    similar_games = sorted(similar_games, key=lambda x: x[1], reverse=True)\n",
    "\n",
    "    # Obtiene los 5 juegos más similares\n",
    "    similar_game_indices = [i[0] for i in similar_games[:5]]\n",
    "\n",
    "    # Lista de juegos similares (solo nombres)\n",
    "    similar_game_names = df_sample['title'].iloc[similar_game_indices].tolist()\n",
    "\n",
    "    return {\"similar_games\": similar_game_names}"
   ]
  },
  {
   "cell_type": "code",
   "execution_count": 28,
   "metadata": {},
   "outputs": [
    {
     "data": {
      "text/plain": [
       "{'similar_games': ['FINAL FANTASY VIII',\n",
       "  'Wanderjahr',\n",
       "  'STAR WARS™ Knights of the Old Republic™ II - The Sith Lords™',\n",
       "  'Overlord II',\n",
       "  'Silverfall: Earth Awakening']}"
      ]
     },
     "execution_count": 28,
     "metadata": {},
     "output_type": "execute_result"
    }
   ],
   "source": [
    "recommend_games(39140, modelo_final, sample_size=2500, random_state=42)"
   ]
  },
  {
   "cell_type": "markdown",
   "metadata": {},
   "source": [
    "Podemos ver una mejora en esta función"
   ]
  },
  {
   "cell_type": "code",
   "execution_count": 30,
   "metadata": {},
   "outputs": [
    {
     "data": {
      "text/plain": [
       "{'message': \"El juego con ID '593280' no existe en la base de datos.\"}"
      ]
     },
     "execution_count": 30,
     "metadata": {},
     "output_type": "execute_result"
    }
   ],
   "source": [
    "recommend_games(593280, modelo_final, sample_size=2000, random_state=42)"
   ]
  },
  {
   "cell_type": "code",
   "execution_count": 32,
   "metadata": {},
   "outputs": [
    {
     "data": {
      "text/plain": [
       "{'message': \"El juego con ID '773690' no existe en la base de datos.\"}"
      ]
     },
     "execution_count": 32,
     "metadata": {},
     "output_type": "execute_result"
    }
   ],
   "source": [
    "recommend_games(773690, modelo_final, sample_size=2000, random_state=42)"
   ]
  },
  {
   "cell_type": "markdown",
   "metadata": {},
   "source": [
    "## Función final"
   ]
  },
  {
   "cell_type": "code",
   "execution_count": 35,
   "metadata": {},
   "outputs": [],
   "source": [
    "from fastapi import FastAPI, HTTPException\n",
    "from typing import Dict, List\n",
    "import pandas as pd\n",
    "from sklearn.metrics.pairwise import cosine_similarity\n",
    "\n",
    "app = FastAPI()\n"
   ]
  },
  {
   "cell_type": "code",
   "execution_count": 37,
   "metadata": {},
   "outputs": [],
   "source": [
    "def encontrar_juegos_similares(id_juego: int, modelo_final) -> List[str]:\n",
    "    \"\"\"\n",
    "    Encuentra juegos similares a un juego dado por su ID.\n",
    "\n",
    "    Parameters:\n",
    "    - id_juego: ID del juego para el cual se desean encontrar juegos similares.\n",
    "    - modelo_final: DataFrame que contiene las características de los juegos.\n",
    "\n",
    "    Returns:\n",
    "    - Lista de nombres de juegos similares.\n",
    "    \"\"\"\n",
    "    # Encuentra el índice del juego ingresado por ID\n",
    "    juego_indice = modelo_final.index[modelo_final['id'] == id_juego].tolist()\n",
    "\n",
    "    # Verifica si el juego con el ID especificado existe en la base de datos\n",
    "    if not juego_indice:\n",
    "        raise HTTPException(status_code=404, detail=f\"El juego con el ID {id_juego} no existe en la base de datos.\")\n",
    "\n",
    "    juego_indice = juego_indice[0]\n",
    "\n",
    "    # Extrae las características del juego ingresado\n",
    "    juego_caracteristicas = modelo_final.iloc[juego_indice, 3:].values.reshape(1, -1)\n",
    "\n",
    "    # Calcula la similitud coseno entre el juego ingresado y todos los demás juegos\n",
    "    similitudes_render = cosine_similarity(modelo_final.iloc[:, 3:], juego_caracteristicas)\n",
    "\n",
    "    # Obtiene los índices de los juegos más similares (excluyendo el juego de entrada)\n",
    "    indices_juegos_similares = similitudes_render.argsort(axis=0)[::-1][1:6].flatten()[1:]\n",
    "\n",
    "    # Obtiene los juegos más similares en función de los índices\n",
    "    juegos_similares = modelo_final.iloc[indices_juegos_similares]['title'].tolist()\n",
    "\n",
    "    return juegos_similares"
   ]
  },
  {
   "cell_type": "code",
   "execution_count": null,
   "metadata": {},
   "outputs": [],
   "source": [
    "recommend_games(39140, modelo_final)"
   ]
  },
  {
   "cell_type": "markdown",
   "metadata": {},
   "source": [
    "---\n",
    "## Funciones de prueba"
   ]
  },
  {
   "cell_type": "code",
   "execution_count": 31,
   "metadata": {},
   "outputs": [],
   "source": [
    "import pandas as pd\n",
    "from sklearn.metrics import precision_score\n",
    "\n",
    "def recommend_games(game_id: int, modelo_final, sample_size=2000, random_state=42, num_recommendations=5):\n",
    "    '''\n",
    "    Esta función recomienda juegos a partir del juego ingresado.\n",
    "\n",
    "    Args:\n",
    "        game_id (int): ID único del videojuego al cual se le harán las recomendaciones.\n",
    "        modelo_final (DataFrame): DataFrame que contiene las características de los juegos.\n",
    "        sample_size (int): Tamaño de la muestra para calcular la similitud de contenido.\n",
    "        random_state (int): Semilla aleatoria para reproducibilidad.\n",
    "        num_recommendations (int): Número de juegos a recomendar.\n",
    "\n",
    "    Returns:\n",
    "        Dict: Diccionario con la lista de juegos recomendados.\n",
    "    '''\n",
    "    # Verifica si el juego con game_id existe en modelo_render\n",
    "    game = Modelo_final[Modelo_final['id'] == game_id]\n",
    "\n",
    "    if game.empty:\n",
    "        return {\"message\": f\"El juego con ID '{game_id}' no existe en la base de datos.\"}\n",
    "\n",
    "    # Obtiene el índice del juego dado\n",
    "    idx = game.index[0]\n",
    "\n",
    "    # Toma una muestra aleatoria del DataFrame modelo_render\n",
    "    df_sample = Modelo_final.sample(n=sample_size, random_state=random_state)\n",
    "\n",
    "    # Calcula la similitud de contenido solo para el juego dado y la muestra\n",
    "    sim_scores = cosine_similarity([Modelo_final.iloc[idx, 3:]], df_sample.iloc[:, 3:])\n",
    "\n",
    "    # Obtiene las puntuaciones de similitud del juego dado con otros juegos\n",
    "    sim_scores = sim_scores[0]\n",
    "\n",
    "    # Ordena los juegos por similitud en orden descendente\n",
    "    similar_games = [(i, sim_scores[i]) for i in range(len(sim_scores)) if i != idx]\n",
    "    similar_games = sorted(similar_games, key=lambda x: x[1], reverse=True)\n",
    "\n",
    "    # Obtiene los juegos más similares\n",
    "    similar_game_indices = [i[0] for i in similar_games[:num_recommendations]]\n",
    "\n",
    "    # Lista de juegos similares (solo nombres)\n",
    "    similar_game_names = df_sample['title'].iloc[similar_game_indices].tolist()\n",
    "\n",
    "    return {\"similar_games\": similar_game_names}\n",
    "\n",
    "def recommend_games_by_genre(genre: str, modelo_final, num_recommendations=5):\n",
    "    '''\n",
    "    Esta función recomienda juegos a partir del género ingresado.\n",
    "\n",
    "    Args:\n",
    "        genre (str): Género de los juegos a recomendar.\n",
    "        modelo_final (DataFrame): DataFrame que contiene las características de los juegos.\n",
    "        num_recommendations (int): Número de juegos a recomendar.\n",
    "\n",
    "    Returns:\n",
    "        Dict: Diccionario con la lista de juegos recomendados.\n",
    "    '''\n",
    "    # Filtra los juegos por el género especificado\n",
    "    genre_games = modelo_final[modelo_final['genre'] == genre]\n",
    "\n",
    "    if genre_games.empty:\n",
    "        return {\"message\": f\"No hay juegos disponibles para el género '{genre}'.\"}\n",
    "\n",
    "    # Toma una muestra aleatoria de los juegos del género\n",
    "    df_sample = genre_games.sample(n=num_recommendations, random_state=42)\n",
    "\n",
    "    # Lista de juegos recomendados (solo nombres)\n",
    "    recommended_games = df_sample['title'].tolist()\n",
    "\n",
    "    return {\"recommended_games\": recommended_games}\n",
    "\n",
    "def evaluate_recommendations(predictions, true_labels):\n",
    "    '''\n",
    "    Evalúa la precisión de las recomendaciones.\n",
    "\n",
    "    Args:\n",
    "        predictions (List): Lista de juegos recomendados.\n",
    "        true_labels (List): Lista de juegos reales.\n",
    "\n",
    "    Returns:\n",
    "        float: Precisión del modelo.\n",
    "    '''\n",
    "    precision = precision_score(true_labels, predictions, average='micro')\n",
    "    return precision\n"
   ]
  },
  {
   "cell_type": "markdown",
   "metadata": {},
   "source": [
    "game_id: int, modelo_final, sample_size=2000, random_state=42, num_recommendations=5"
   ]
  },
  {
   "cell_type": "code",
   "execution_count": 32,
   "metadata": {},
   "outputs": [
    {
     "data": {
      "text/plain": [
       "{'message': \"El juego con ID '773690' no existe en la base de datos.\"}"
      ]
     },
     "execution_count": 32,
     "metadata": {},
     "output_type": "execute_result"
    }
   ],
   "source": [
    "recommend_games(773690,Modelo_final, sample_size=4000, random_state=42, num_recommendations=10)"
   ]
  }
 ],
 "metadata": {
  "kernelspec": {
   "display_name": "Python 3",
   "language": "python",
   "name": "python3"
  },
  "language_info": {
   "codemirror_mode": {
    "name": "ipython",
    "version": 3
   },
   "file_extension": ".py",
   "mimetype": "text/x-python",
   "name": "python",
   "nbconvert_exporter": "python",
   "pygments_lexer": "ipython3",
   "version": "3.11.6"
  }
 },
 "nbformat": 4,
 "nbformat_minor": 2
}
